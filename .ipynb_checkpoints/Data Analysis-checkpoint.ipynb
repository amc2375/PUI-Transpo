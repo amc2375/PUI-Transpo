{
 "cells": [
  {
   "cell_type": "code",
   "execution_count": 1,
   "metadata": {},
   "outputs": [],
   "source": [
    "import pandas as pd\n",
    "import numpy as np\n",
    "import statsmodels.formula.api as smf\n",
    "import matplotlib.pylab as plt\n",
    "import math\n",
    "import os \n",
    "import seaborn as sns #for styling the plots\n",
    "import warnings\n",
    "import urllib.request\n",
    "%matplotlib inline\n",
    "import datetime as dt\n",
    "from scipy import stats\n"
   ]
  },
  {
   "cell_type": "markdown",
   "metadata": {},
   "source": [
    "## Data Analysis"
   ]
  },
  {
   "cell_type": "code",
   "execution_count": 2,
   "metadata": {},
   "outputs": [
    {
     "name": "stderr",
     "output_type": "stream",
     "text": [
      "/Users/amc/opt/anaconda3/lib/python3.8/site-packages/IPython/core/interactiveshell.py:3071: DtypeWarning: Columns (23,30,32,34,36,40,42,44,46) have mixed types.Specify dtype option on import or set low_memory=False.\n",
      "  has_raised = await self.run_ast_nodes(code_ast.body, cell_name,\n"
     ]
    }
   ],
   "source": [
    "county = pd.read_csv('Data/county_cleaned.csv', parse_dates = ['date','stsipstart', 'stsipend', 'localsipstart', 'localsipend','stbusclose', \n",
    "                'localbusclose', 'stbusopen','localbusopen','stresclose','stresopen',\n",
    "                'localresclose','localresopen'])\n",
    "state = pd.read_csv('Data/state_cleaned.csv')\n",
    "policy = pd.read_csv('Data/policy_cleaned.csv')"
   ]
  },
  {
   "cell_type": "code",
   "execution_count": 3,
   "metadata": {},
   "outputs": [
    {
     "data": {
      "text/html": [
       "<div>\n",
       "<style scoped>\n",
       "    .dataframe tbody tr th:only-of-type {\n",
       "        vertical-align: middle;\n",
       "    }\n",
       "\n",
       "    .dataframe tbody tr th {\n",
       "        vertical-align: top;\n",
       "    }\n",
       "\n",
       "    .dataframe thead th {\n",
       "        text-align: right;\n",
       "    }\n",
       "</style>\n",
       "<table border=\"1\" class=\"dataframe\">\n",
       "  <thead>\n",
       "    <tr style=\"text-align: right;\">\n",
       "      <th></th>\n",
       "      <th>Unnamed: 0</th>\n",
       "      <th>country_region_code</th>\n",
       "      <th>country_region</th>\n",
       "      <th>sub_region_1</th>\n",
       "      <th>sub_region_2</th>\n",
       "      <th>metro_area</th>\n",
       "      <th>iso_3166_2_code</th>\n",
       "      <th>census_fips_code</th>\n",
       "      <th>date</th>\n",
       "      <th>retail_and_recreation_percent_change_from_baseline</th>\n",
       "      <th>...</th>\n",
       "      <th>localresopennotes</th>\n",
       "      <th>dummyresclose</th>\n",
       "      <th>dummyresopen</th>\n",
       "      <th>link</th>\n",
       "      <th>countyfips_str</th>\n",
       "      <th>statefips_str</th>\n",
       "      <th>Geo_FIPS</th>\n",
       "      <th>SE_A00001_001</th>\n",
       "      <th>SE_A00002_002</th>\n",
       "      <th>SE_A00002_003</th>\n",
       "    </tr>\n",
       "  </thead>\n",
       "  <tbody>\n",
       "    <tr>\n",
       "      <th>0</th>\n",
       "      <td>0</td>\n",
       "      <td>US</td>\n",
       "      <td>United States</td>\n",
       "      <td>Alabama</td>\n",
       "      <td>Baldwin County</td>\n",
       "      <td>NaN</td>\n",
       "      <td>NaN</td>\n",
       "      <td>1003.0</td>\n",
       "      <td>2020-02-15</td>\n",
       "      <td>17.0</td>\n",
       "      <td>...</td>\n",
       "      <td>NaN</td>\n",
       "      <td>0</td>\n",
       "      <td>0</td>\n",
       "      <td>re-open plan https://baldwincountyal.gov/docs/...</td>\n",
       "      <td>3</td>\n",
       "      <td>1</td>\n",
       "      <td>1003</td>\n",
       "      <td>208107</td>\n",
       "      <td>130.9019</td>\n",
       "      <td>1589.793757</td>\n",
       "    </tr>\n",
       "    <tr>\n",
       "      <th>1</th>\n",
       "      <td>1</td>\n",
       "      <td>US</td>\n",
       "      <td>United States</td>\n",
       "      <td>Alabama</td>\n",
       "      <td>Baldwin County</td>\n",
       "      <td>NaN</td>\n",
       "      <td>NaN</td>\n",
       "      <td>1003.0</td>\n",
       "      <td>2020-02-16</td>\n",
       "      <td>8.0</td>\n",
       "      <td>...</td>\n",
       "      <td>NaN</td>\n",
       "      <td>0</td>\n",
       "      <td>0</td>\n",
       "      <td>re-open plan https://baldwincountyal.gov/docs/...</td>\n",
       "      <td>3</td>\n",
       "      <td>1</td>\n",
       "      <td>1003</td>\n",
       "      <td>208107</td>\n",
       "      <td>130.9019</td>\n",
       "      <td>1589.793757</td>\n",
       "    </tr>\n",
       "    <tr>\n",
       "      <th>2</th>\n",
       "      <td>2</td>\n",
       "      <td>US</td>\n",
       "      <td>United States</td>\n",
       "      <td>Alabama</td>\n",
       "      <td>Baldwin County</td>\n",
       "      <td>NaN</td>\n",
       "      <td>NaN</td>\n",
       "      <td>1003.0</td>\n",
       "      <td>2020-02-17</td>\n",
       "      <td>9.0</td>\n",
       "      <td>...</td>\n",
       "      <td>NaN</td>\n",
       "      <td>0</td>\n",
       "      <td>0</td>\n",
       "      <td>re-open plan https://baldwincountyal.gov/docs/...</td>\n",
       "      <td>3</td>\n",
       "      <td>1</td>\n",
       "      <td>1003</td>\n",
       "      <td>208107</td>\n",
       "      <td>130.9019</td>\n",
       "      <td>1589.793757</td>\n",
       "    </tr>\n",
       "    <tr>\n",
       "      <th>3</th>\n",
       "      <td>3</td>\n",
       "      <td>US</td>\n",
       "      <td>United States</td>\n",
       "      <td>Alabama</td>\n",
       "      <td>Baldwin County</td>\n",
       "      <td>NaN</td>\n",
       "      <td>NaN</td>\n",
       "      <td>1003.0</td>\n",
       "      <td>2020-02-18</td>\n",
       "      <td>7.0</td>\n",
       "      <td>...</td>\n",
       "      <td>NaN</td>\n",
       "      <td>0</td>\n",
       "      <td>0</td>\n",
       "      <td>re-open plan https://baldwincountyal.gov/docs/...</td>\n",
       "      <td>3</td>\n",
       "      <td>1</td>\n",
       "      <td>1003</td>\n",
       "      <td>208107</td>\n",
       "      <td>130.9019</td>\n",
       "      <td>1589.793757</td>\n",
       "    </tr>\n",
       "    <tr>\n",
       "      <th>4</th>\n",
       "      <td>4</td>\n",
       "      <td>US</td>\n",
       "      <td>United States</td>\n",
       "      <td>Alabama</td>\n",
       "      <td>Baldwin County</td>\n",
       "      <td>NaN</td>\n",
       "      <td>NaN</td>\n",
       "      <td>1003.0</td>\n",
       "      <td>2020-02-19</td>\n",
       "      <td>12.0</td>\n",
       "      <td>...</td>\n",
       "      <td>NaN</td>\n",
       "      <td>0</td>\n",
       "      <td>0</td>\n",
       "      <td>re-open plan https://baldwincountyal.gov/docs/...</td>\n",
       "      <td>3</td>\n",
       "      <td>1</td>\n",
       "      <td>1003</td>\n",
       "      <td>208107</td>\n",
       "      <td>130.9019</td>\n",
       "      <td>1589.793757</td>\n",
       "    </tr>\n",
       "  </tbody>\n",
       "</table>\n",
       "<p>5 rows × 56 columns</p>\n",
       "</div>"
      ],
      "text/plain": [
       "   Unnamed: 0 country_region_code country_region sub_region_1    sub_region_2  \\\n",
       "0           0                  US  United States      Alabama  Baldwin County   \n",
       "1           1                  US  United States      Alabama  Baldwin County   \n",
       "2           2                  US  United States      Alabama  Baldwin County   \n",
       "3           3                  US  United States      Alabama  Baldwin County   \n",
       "4           4                  US  United States      Alabama  Baldwin County   \n",
       "\n",
       "   metro_area  iso_3166_2_code  census_fips_code       date  \\\n",
       "0         NaN              NaN            1003.0 2020-02-15   \n",
       "1         NaN              NaN            1003.0 2020-02-16   \n",
       "2         NaN              NaN            1003.0 2020-02-17   \n",
       "3         NaN              NaN            1003.0 2020-02-18   \n",
       "4         NaN              NaN            1003.0 2020-02-19   \n",
       "\n",
       "   retail_and_recreation_percent_change_from_baseline  ...  localresopennotes  \\\n",
       "0                                               17.0   ...                NaN   \n",
       "1                                                8.0   ...                NaN   \n",
       "2                                                9.0   ...                NaN   \n",
       "3                                                7.0   ...                NaN   \n",
       "4                                               12.0   ...                NaN   \n",
       "\n",
       "   dummyresclose  dummyresopen  \\\n",
       "0              0             0   \n",
       "1              0             0   \n",
       "2              0             0   \n",
       "3              0             0   \n",
       "4              0             0   \n",
       "\n",
       "                                                link  countyfips_str  \\\n",
       "0  re-open plan https://baldwincountyal.gov/docs/...               3   \n",
       "1  re-open plan https://baldwincountyal.gov/docs/...               3   \n",
       "2  re-open plan https://baldwincountyal.gov/docs/...               3   \n",
       "3  re-open plan https://baldwincountyal.gov/docs/...               3   \n",
       "4  re-open plan https://baldwincountyal.gov/docs/...               3   \n",
       "\n",
       "   statefips_str  Geo_FIPS SE_A00001_001  SE_A00002_002 SE_A00002_003  \n",
       "0              1      1003        208107       130.9019   1589.793757  \n",
       "1              1      1003        208107       130.9019   1589.793757  \n",
       "2              1      1003        208107       130.9019   1589.793757  \n",
       "3              1      1003        208107       130.9019   1589.793757  \n",
       "4              1      1003        208107       130.9019   1589.793757  \n",
       "\n",
       "[5 rows x 56 columns]"
      ]
     },
     "execution_count": 3,
     "metadata": {},
     "output_type": "execute_result"
    }
   ],
   "source": [
    "county.head()"
   ]
  },
  {
   "cell_type": "code",
   "execution_count": 4,
   "metadata": {},
   "outputs": [
    {
     "data": {
      "text/plain": [
       "Index(['Unnamed: 0', 'country_region_code', 'country_region', 'sub_region_1',\n",
       "       'sub_region_2', 'metro_area', 'iso_3166_2_code', 'census_fips_code',\n",
       "       'date', 'retail_and_recreation_percent_change_from_baseline',\n",
       "       'grocery_and_pharmacy_percent_change_from_baseline',\n",
       "       'parks_percent_change_from_baseline',\n",
       "       'transit_stations_percent_change_from_baseline',\n",
       "       'workplaces_percent_change_from_baseline',\n",
       "       'residential_percent_change_from_baseline', 'fips', 'stfips', 'stname',\n",
       "       'countyfips', 'countyname', 'cityname', 'stsipstart', 'stsipend',\n",
       "       'stsipnotes', 'localsipstart', 'localsipend', 'localsipnotes',\n",
       "       'dummysipstart', 'dummysipend', 'stbusclose', 'stbusclosenotes',\n",
       "       'localbusclose', 'localbusclosenotes', 'stbusopen', 'stbusopennotes',\n",
       "       'localbusopen', 'localbusopennotes', 'dummybusclose', 'dummybusopen',\n",
       "       'stresclose', 'stresclosenotes', 'stresopen', 'stresopennotes',\n",
       "       'localresclose', 'localresclosenotes', 'localresopen',\n",
       "       'localresopennotes', 'dummyresclose', 'dummyresopen', 'link',\n",
       "       'countyfips_str', 'statefips_str', 'Geo_FIPS', 'SE_A00001_001',\n",
       "       'SE_A00002_002', 'SE_A00002_003'],\n",
       "      dtype='object')"
      ]
     },
     "execution_count": 4,
     "metadata": {},
     "output_type": "execute_result"
    }
   ],
   "source": [
    "county.columns"
   ]
  },
  {
   "cell_type": "code",
   "execution_count": 5,
   "metadata": {},
   "outputs": [],
   "source": [
    "county = county.drop(['dummyresclose', 'dummyresopen','dummysipstart', \n",
    "                 'dummysipend','dummybusclose', 'dummybusopen'], axis = 1)"
   ]
  },
  {
   "cell_type": "code",
   "execution_count": 6,
   "metadata": {},
   "outputs": [
    {
     "data": {
      "text/html": [
       "<div>\n",
       "<style scoped>\n",
       "    .dataframe tbody tr th:only-of-type {\n",
       "        vertical-align: middle;\n",
       "    }\n",
       "\n",
       "    .dataframe tbody tr th {\n",
       "        vertical-align: top;\n",
       "    }\n",
       "\n",
       "    .dataframe thead th {\n",
       "        text-align: right;\n",
       "    }\n",
       "</style>\n",
       "<table border=\"1\" class=\"dataframe\">\n",
       "  <thead>\n",
       "    <tr style=\"text-align: right;\">\n",
       "      <th></th>\n",
       "      <th>sub_region_1</th>\n",
       "      <th>sub_region_2</th>\n",
       "      <th>date</th>\n",
       "      <th>transit_stations_percent_change_from_baseline</th>\n",
       "      <th>stsipstart</th>\n",
       "      <th>stsipend</th>\n",
       "      <th>localsipstart</th>\n",
       "      <th>localsipend</th>\n",
       "      <th>stbusclose</th>\n",
       "      <th>stbusopen</th>\n",
       "      <th>localbusclose</th>\n",
       "      <th>localbusopen</th>\n",
       "      <th>stresclose</th>\n",
       "      <th>stresopen</th>\n",
       "      <th>localresclose</th>\n",
       "      <th>localresopen</th>\n",
       "    </tr>\n",
       "  </thead>\n",
       "  <tbody>\n",
       "    <tr>\n",
       "      <th>0</th>\n",
       "      <td>Alabama</td>\n",
       "      <td>Baldwin County</td>\n",
       "      <td>2020-02-15</td>\n",
       "      <td>8.0</td>\n",
       "      <td>2020-04-04</td>\n",
       "      <td>2020-04-30</td>\n",
       "      <td>NaT</td>\n",
       "      <td>NaT</td>\n",
       "      <td>2020-03-28</td>\n",
       "      <td>2020-04-30</td>\n",
       "      <td>NaT</td>\n",
       "      <td>NaT</td>\n",
       "      <td>2020-03-19</td>\n",
       "      <td>2020-05-11</td>\n",
       "      <td>NaT</td>\n",
       "      <td>NaT</td>\n",
       "    </tr>\n",
       "    <tr>\n",
       "      <th>1</th>\n",
       "      <td>Alabama</td>\n",
       "      <td>Baldwin County</td>\n",
       "      <td>2020-02-16</td>\n",
       "      <td>7.0</td>\n",
       "      <td>2020-04-04</td>\n",
       "      <td>2020-04-30</td>\n",
       "      <td>NaT</td>\n",
       "      <td>NaT</td>\n",
       "      <td>2020-03-28</td>\n",
       "      <td>2020-04-30</td>\n",
       "      <td>NaT</td>\n",
       "      <td>NaT</td>\n",
       "      <td>2020-03-19</td>\n",
       "      <td>2020-05-11</td>\n",
       "      <td>NaT</td>\n",
       "      <td>NaT</td>\n",
       "    </tr>\n",
       "    <tr>\n",
       "      <th>2</th>\n",
       "      <td>Alabama</td>\n",
       "      <td>Baldwin County</td>\n",
       "      <td>2020-02-17</td>\n",
       "      <td>7.0</td>\n",
       "      <td>2020-04-04</td>\n",
       "      <td>2020-04-30</td>\n",
       "      <td>NaT</td>\n",
       "      <td>NaT</td>\n",
       "      <td>2020-03-28</td>\n",
       "      <td>2020-04-30</td>\n",
       "      <td>NaT</td>\n",
       "      <td>NaT</td>\n",
       "      <td>2020-03-19</td>\n",
       "      <td>2020-05-11</td>\n",
       "      <td>NaT</td>\n",
       "      <td>NaT</td>\n",
       "    </tr>\n",
       "    <tr>\n",
       "      <th>3</th>\n",
       "      <td>Alabama</td>\n",
       "      <td>Baldwin County</td>\n",
       "      <td>2020-02-18</td>\n",
       "      <td>0.0</td>\n",
       "      <td>2020-04-04</td>\n",
       "      <td>2020-04-30</td>\n",
       "      <td>NaT</td>\n",
       "      <td>NaT</td>\n",
       "      <td>2020-03-28</td>\n",
       "      <td>2020-04-30</td>\n",
       "      <td>NaT</td>\n",
       "      <td>NaT</td>\n",
       "      <td>2020-03-19</td>\n",
       "      <td>2020-05-11</td>\n",
       "      <td>NaT</td>\n",
       "      <td>NaT</td>\n",
       "    </tr>\n",
       "    <tr>\n",
       "      <th>4</th>\n",
       "      <td>Alabama</td>\n",
       "      <td>Baldwin County</td>\n",
       "      <td>2020-02-19</td>\n",
       "      <td>8.0</td>\n",
       "      <td>2020-04-04</td>\n",
       "      <td>2020-04-30</td>\n",
       "      <td>NaT</td>\n",
       "      <td>NaT</td>\n",
       "      <td>2020-03-28</td>\n",
       "      <td>2020-04-30</td>\n",
       "      <td>NaT</td>\n",
       "      <td>NaT</td>\n",
       "      <td>2020-03-19</td>\n",
       "      <td>2020-05-11</td>\n",
       "      <td>NaT</td>\n",
       "      <td>NaT</td>\n",
       "    </tr>\n",
       "    <tr>\n",
       "      <th>...</th>\n",
       "      <td>...</td>\n",
       "      <td>...</td>\n",
       "      <td>...</td>\n",
       "      <td>...</td>\n",
       "      <td>...</td>\n",
       "      <td>...</td>\n",
       "      <td>...</td>\n",
       "      <td>...</td>\n",
       "      <td>...</td>\n",
       "      <td>...</td>\n",
       "      <td>...</td>\n",
       "      <td>...</td>\n",
       "      <td>...</td>\n",
       "      <td>...</td>\n",
       "      <td>...</td>\n",
       "      <td>...</td>\n",
       "    </tr>\n",
       "    <tr>\n",
       "      <th>240875</th>\n",
       "      <td>Wyoming</td>\n",
       "      <td>Uinta County</td>\n",
       "      <td>2020-11-04</td>\n",
       "      <td>18.0</td>\n",
       "      <td>NaT</td>\n",
       "      <td>NaT</td>\n",
       "      <td>NaT</td>\n",
       "      <td>NaT</td>\n",
       "      <td>NaT</td>\n",
       "      <td>NaT</td>\n",
       "      <td>NaT</td>\n",
       "      <td>NaT</td>\n",
       "      <td>2020-03-19</td>\n",
       "      <td>2020-05-15</td>\n",
       "      <td>NaT</td>\n",
       "      <td>2020-05-06</td>\n",
       "    </tr>\n",
       "    <tr>\n",
       "      <th>240876</th>\n",
       "      <td>Wyoming</td>\n",
       "      <td>Uinta County</td>\n",
       "      <td>2020-11-05</td>\n",
       "      <td>23.0</td>\n",
       "      <td>NaT</td>\n",
       "      <td>NaT</td>\n",
       "      <td>NaT</td>\n",
       "      <td>NaT</td>\n",
       "      <td>NaT</td>\n",
       "      <td>NaT</td>\n",
       "      <td>NaT</td>\n",
       "      <td>NaT</td>\n",
       "      <td>2020-03-19</td>\n",
       "      <td>2020-05-15</td>\n",
       "      <td>NaT</td>\n",
       "      <td>2020-05-06</td>\n",
       "    </tr>\n",
       "    <tr>\n",
       "      <th>240877</th>\n",
       "      <td>Wyoming</td>\n",
       "      <td>Uinta County</td>\n",
       "      <td>2020-11-06</td>\n",
       "      <td>24.0</td>\n",
       "      <td>NaT</td>\n",
       "      <td>NaT</td>\n",
       "      <td>NaT</td>\n",
       "      <td>NaT</td>\n",
       "      <td>NaT</td>\n",
       "      <td>NaT</td>\n",
       "      <td>NaT</td>\n",
       "      <td>NaT</td>\n",
       "      <td>2020-03-19</td>\n",
       "      <td>2020-05-15</td>\n",
       "      <td>NaT</td>\n",
       "      <td>2020-05-06</td>\n",
       "    </tr>\n",
       "    <tr>\n",
       "      <th>240878</th>\n",
       "      <td>Wyoming</td>\n",
       "      <td>Uinta County</td>\n",
       "      <td>2020-11-07</td>\n",
       "      <td>11.0</td>\n",
       "      <td>NaT</td>\n",
       "      <td>NaT</td>\n",
       "      <td>NaT</td>\n",
       "      <td>NaT</td>\n",
       "      <td>NaT</td>\n",
       "      <td>NaT</td>\n",
       "      <td>NaT</td>\n",
       "      <td>NaT</td>\n",
       "      <td>2020-03-19</td>\n",
       "      <td>2020-05-15</td>\n",
       "      <td>NaT</td>\n",
       "      <td>2020-05-06</td>\n",
       "    </tr>\n",
       "    <tr>\n",
       "      <th>240879</th>\n",
       "      <td>Wyoming</td>\n",
       "      <td>Uinta County</td>\n",
       "      <td>2020-11-08</td>\n",
       "      <td>9.0</td>\n",
       "      <td>NaT</td>\n",
       "      <td>NaT</td>\n",
       "      <td>NaT</td>\n",
       "      <td>NaT</td>\n",
       "      <td>NaT</td>\n",
       "      <td>NaT</td>\n",
       "      <td>NaT</td>\n",
       "      <td>NaT</td>\n",
       "      <td>2020-03-19</td>\n",
       "      <td>2020-05-15</td>\n",
       "      <td>NaT</td>\n",
       "      <td>2020-05-06</td>\n",
       "    </tr>\n",
       "  </tbody>\n",
       "</table>\n",
       "<p>240880 rows × 16 columns</p>\n",
       "</div>"
      ],
      "text/plain": [
       "       sub_region_1    sub_region_2       date  \\\n",
       "0           Alabama  Baldwin County 2020-02-15   \n",
       "1           Alabama  Baldwin County 2020-02-16   \n",
       "2           Alabama  Baldwin County 2020-02-17   \n",
       "3           Alabama  Baldwin County 2020-02-18   \n",
       "4           Alabama  Baldwin County 2020-02-19   \n",
       "...             ...             ...        ...   \n",
       "240875      Wyoming    Uinta County 2020-11-04   \n",
       "240876      Wyoming    Uinta County 2020-11-05   \n",
       "240877      Wyoming    Uinta County 2020-11-06   \n",
       "240878      Wyoming    Uinta County 2020-11-07   \n",
       "240879      Wyoming    Uinta County 2020-11-08   \n",
       "\n",
       "        transit_stations_percent_change_from_baseline stsipstart   stsipend  \\\n",
       "0                                                 8.0 2020-04-04 2020-04-30   \n",
       "1                                                 7.0 2020-04-04 2020-04-30   \n",
       "2                                                 7.0 2020-04-04 2020-04-30   \n",
       "3                                                 0.0 2020-04-04 2020-04-30   \n",
       "4                                                 8.0 2020-04-04 2020-04-30   \n",
       "...                                               ...        ...        ...   \n",
       "240875                                           18.0        NaT        NaT   \n",
       "240876                                           23.0        NaT        NaT   \n",
       "240877                                           24.0        NaT        NaT   \n",
       "240878                                           11.0        NaT        NaT   \n",
       "240879                                            9.0        NaT        NaT   \n",
       "\n",
       "       localsipstart localsipend stbusclose  stbusopen localbusclose  \\\n",
       "0                NaT         NaT 2020-03-28 2020-04-30           NaT   \n",
       "1                NaT         NaT 2020-03-28 2020-04-30           NaT   \n",
       "2                NaT         NaT 2020-03-28 2020-04-30           NaT   \n",
       "3                NaT         NaT 2020-03-28 2020-04-30           NaT   \n",
       "4                NaT         NaT 2020-03-28 2020-04-30           NaT   \n",
       "...              ...         ...        ...        ...           ...   \n",
       "240875           NaT         NaT        NaT        NaT           NaT   \n",
       "240876           NaT         NaT        NaT        NaT           NaT   \n",
       "240877           NaT         NaT        NaT        NaT           NaT   \n",
       "240878           NaT         NaT        NaT        NaT           NaT   \n",
       "240879           NaT         NaT        NaT        NaT           NaT   \n",
       "\n",
       "       localbusopen stresclose  stresopen localresclose localresopen  \n",
       "0               NaT 2020-03-19 2020-05-11           NaT          NaT  \n",
       "1               NaT 2020-03-19 2020-05-11           NaT          NaT  \n",
       "2               NaT 2020-03-19 2020-05-11           NaT          NaT  \n",
       "3               NaT 2020-03-19 2020-05-11           NaT          NaT  \n",
       "4               NaT 2020-03-19 2020-05-11           NaT          NaT  \n",
       "...             ...        ...        ...           ...          ...  \n",
       "240875          NaT 2020-03-19 2020-05-15           NaT   2020-05-06  \n",
       "240876          NaT 2020-03-19 2020-05-15           NaT   2020-05-06  \n",
       "240877          NaT 2020-03-19 2020-05-15           NaT   2020-05-06  \n",
       "240878          NaT 2020-03-19 2020-05-15           NaT   2020-05-06  \n",
       "240879          NaT 2020-03-19 2020-05-15           NaT   2020-05-06  \n",
       "\n",
       "[240880 rows x 16 columns]"
      ]
     },
     "execution_count": 6,
     "metadata": {},
     "output_type": "execute_result"
    }
   ],
   "source": [
    "county[['sub_region_1',\n",
    "       'sub_region_2','date','transit_stations_percent_change_from_baseline',\n",
    "       'stsipstart', 'stsipend','localsipstart', 'localsipend','stbusclose', 'stbusopen',\n",
    "       'localbusclose','localbusopen','stresclose','stresopen','localresclose','localresopen']]"
   ]
  },
  {
   "cell_type": "code",
   "execution_count": 7,
   "metadata": {},
   "outputs": [
    {
     "name": "stdout",
     "output_type": "stream",
     "text": [
      "                                          OLS Regression Results                                         \n",
      "=========================================================================================================\n",
      "Dep. Variable:     transit_stations_percent_change_from_baseline   R-squared:                       0.200\n",
      "Model:                                                       OLS   Adj. R-squared:                  0.199\n",
      "Method:                                            Least Squares   F-statistic:                     225.7\n",
      "Date:                                           Wed, 09 Dec 2020   Prob (F-statistic):               0.00\n",
      "Time:                                                   10:33:32   Log-Likelihood:            -1.1010e+06\n",
      "No. Observations:                                         240880   AIC:                         2.203e+06\n",
      "Df Residuals:                                             240612   BIC:                         2.205e+06\n",
      "Df Model:                                                    267                                         \n",
      "Covariance Type:                                       nonrobust                                         \n",
      "==========================================================================================================\n",
      "                                             coef    std err          t      P>|t|      [0.025      0.975]\n",
      "----------------------------------------------------------------------------------------------------------\n",
      "date[Timestamp('2020-02-15 00:00:00')]     4.3440      0.763      5.690      0.000       2.848       5.840\n",
      "date[Timestamp('2020-02-16 00:00:00')]     3.8216      0.781      4.892      0.000       2.291       5.353\n",
      "date[Timestamp('2020-02-17 00:00:00')]     2.0377      0.747      2.728      0.006       0.574       3.502\n",
      "date[Timestamp('2020-02-18 00:00:00')]     2.2159      0.743      2.982      0.003       0.759       3.673\n",
      "date[Timestamp('2020-02-19 00:00:00')]     2.4310      0.740      3.286      0.001       0.981       3.881\n",
      "date[Timestamp('2020-02-20 00:00:00')]     1.9331      0.739      2.616      0.009       0.485       3.382\n",
      "date[Timestamp('2020-02-21 00:00:00')]     3.4675      0.729      4.759      0.000       2.039       4.896\n",
      "date[Timestamp('2020-02-22 00:00:00')]     6.3791      0.763      8.356      0.000       4.883       7.875\n",
      "date[Timestamp('2020-02-23 00:00:00')]     6.7351      0.786      8.574      0.000       5.195       8.275\n",
      "date[Timestamp('2020-02-24 00:00:00')]     0.8404      0.746      1.127      0.260      -0.621       2.302\n",
      "date[Timestamp('2020-02-25 00:00:00')]     2.2339      0.743      3.007      0.003       0.778       3.690\n",
      "date[Timestamp('2020-02-26 00:00:00')]     4.6754      0.743      6.294      0.000       3.220       6.131\n",
      "date[Timestamp('2020-02-27 00:00:00')]     5.8646      0.741      7.915      0.000       4.412       7.317\n",
      "date[Timestamp('2020-02-28 00:00:00')]     7.5535      0.733     10.307      0.000       6.117       8.990\n",
      "date[Timestamp('2020-02-29 00:00:00')]     9.9367      0.766     12.967      0.000       8.435      11.439\n",
      "date[Timestamp('2020-03-01 00:00:00')]    12.3150      0.792     15.553      0.000      10.763      13.867\n",
      "date[Timestamp('2020-03-02 00:00:00')]     3.2721      0.750      4.365      0.000       1.803       4.741\n",
      "date[Timestamp('2020-03-03 00:00:00')]     4.6629      0.748      6.236      0.000       3.197       6.128\n",
      "date[Timestamp('2020-03-04 00:00:00')]     5.0283      0.744      6.759      0.000       3.570       6.486\n",
      "date[Timestamp('2020-03-05 00:00:00')]     6.3463      0.739      8.587      0.000       4.898       7.795\n",
      "date[Timestamp('2020-03-06 00:00:00')]     7.7065      0.732     10.531      0.000       6.272       9.141\n",
      "date[Timestamp('2020-03-07 00:00:00')]    12.6652      0.774     16.367      0.000      11.149      14.182\n",
      "date[Timestamp('2020-03-08 00:00:00')]    14.4867      0.795     18.212      0.000      12.928      16.046\n",
      "date[Timestamp('2020-03-09 00:00:00')]     5.4056      0.753      7.174      0.000       3.929       6.882\n",
      "date[Timestamp('2020-03-10 00:00:00')]     4.9569      0.749      6.616      0.000       3.488       6.425\n",
      "date[Timestamp('2020-03-11 00:00:00')]     5.8876      0.748      7.874      0.000       4.422       7.353\n",
      "date[Timestamp('2020-03-12 00:00:00')]     5.4264      0.743      7.305      0.000       3.971       6.882\n",
      "date[Timestamp('2020-03-13 00:00:00')]     2.6312      0.731      3.601      0.000       1.199       4.063\n",
      "date[Timestamp('2020-03-14 00:00:00')]     1.4740      0.763      1.933      0.053      -0.021       2.969\n",
      "date[Timestamp('2020-03-15 00:00:00')]     0.9234      0.785      1.176      0.240      -0.615       2.462\n",
      "date[Timestamp('2020-03-16 00:00:00')]    -4.4381      0.745     -5.957      0.000      -5.898      -2.978\n",
      "date[Timestamp('2020-03-17 00:00:00')]    -6.6982      0.742     -9.027      0.000      -8.153      -5.244\n",
      "date[Timestamp('2020-03-18 00:00:00')]    -8.8034      0.737    -11.941      0.000     -10.248      -7.358\n",
      "date[Timestamp('2020-03-19 00:00:00')]   -13.5699      0.731    -18.552      0.000     -15.004     -12.136\n",
      "date[Timestamp('2020-03-20 00:00:00')]   -17.2946      0.719    -24.057      0.000     -18.704     -15.886\n",
      "date[Timestamp('2020-03-21 00:00:00')]   -17.6964      0.749    -23.619      0.000     -19.165     -16.228\n",
      "date[Timestamp('2020-03-22 00:00:00')]   -24.6995      0.765    -32.283      0.000     -26.199     -23.200\n",
      "date[Timestamp('2020-03-23 00:00:00')]   -24.5024      0.730    -33.564      0.000     -25.933     -23.072\n",
      "date[Timestamp('2020-03-24 00:00:00')]   -23.0568      0.732    -31.491      0.000     -24.492     -21.622\n",
      "date[Timestamp('2020-03-25 00:00:00')]   -24.1302      0.726    -33.215      0.000     -25.554     -22.706\n",
      "date[Timestamp('2020-03-26 00:00:00')]   -25.8267      0.722    -35.772      0.000     -27.242     -24.412\n",
      "date[Timestamp('2020-03-27 00:00:00')]   -30.1191      0.711    -42.368      0.000     -31.512     -28.726\n",
      "date[Timestamp('2020-03-28 00:00:00')]   -32.8022      0.741    -44.250      0.000     -34.255     -31.349\n",
      "date[Timestamp('2020-03-29 00:00:00')]   -34.5388      0.757    -45.600      0.000     -36.023     -33.054\n",
      "date[Timestamp('2020-03-30 00:00:00')]   -29.9333      0.727    -41.163      0.000     -31.359     -28.508\n",
      "date[Timestamp('2020-03-31 00:00:00')]   -27.5444      0.727    -37.896      0.000     -28.969     -26.120\n",
      "date[Timestamp('2020-04-01 00:00:00')]   -26.1724      0.724    -36.147      0.000     -27.592     -24.753\n",
      "date[Timestamp('2020-04-02 00:00:00')]   -29.2714      0.718    -40.755      0.000     -30.679     -27.864\n",
      "date[Timestamp('2020-04-03 00:00:00')]   -33.5014      0.711    -47.126      0.000     -34.895     -32.108\n",
      "date[Timestamp('2020-04-04 00:00:00')]   -35.8413      0.739    -48.495      0.000     -37.290     -34.393\n",
      "date[Timestamp('2020-04-05 00:00:00')]   -38.9563      0.755    -51.620      0.000     -40.435     -37.477\n",
      "date[Timestamp('2020-04-06 00:00:00')]   -32.0434      0.726    -44.107      0.000     -33.467     -30.619\n",
      "date[Timestamp('2020-04-07 00:00:00')]   -28.6073      0.726    -39.415      0.000     -30.030     -27.185\n",
      "date[Timestamp('2020-04-08 00:00:00')]   -28.9741      0.725    -39.978      0.000     -30.395     -27.554\n",
      "date[Timestamp('2020-04-09 00:00:00')]   -31.8910      0.717    -44.465      0.000     -33.297     -30.485\n",
      "date[Timestamp('2020-04-10 00:00:00')]   -36.8698      0.711    -51.864      0.000     -38.263     -35.476\n",
      "date[Timestamp('2020-04-11 00:00:00')]   -37.2622      0.739    -50.443      0.000     -38.710     -35.814\n",
      "date[Timestamp('2020-04-12 00:00:00')]   -45.5341      0.752    -60.556      0.000     -47.008     -44.060\n",
      "date[Timestamp('2020-04-13 00:00:00')]   -34.9645      0.724    -48.267      0.000     -36.384     -33.545\n",
      "date[Timestamp('2020-04-14 00:00:00')]   -29.2651      0.725    -40.360      0.000     -30.686     -27.844\n",
      "date[Timestamp('2020-04-15 00:00:00')]   -27.4469      0.724    -37.925      0.000     -28.865     -26.028\n",
      "date[Timestamp('2020-04-16 00:00:00')]   -29.7670      0.720    -41.347      0.000     -31.178     -28.356\n",
      "date[Timestamp('2020-04-17 00:00:00')]   -32.6180      0.709    -46.010      0.000     -34.007     -31.229\n",
      "date[Timestamp('2020-04-18 00:00:00')]   -31.6323      0.748    -42.306      0.000     -33.098     -30.167\n",
      "date[Timestamp('2020-04-19 00:00:00')]   -35.7386      0.763    -46.861      0.000     -37.233     -34.244\n",
      "date[Timestamp('2020-04-20 00:00:00')]   -29.3414      0.729    -40.271      0.000     -30.769     -27.913\n",
      "date[Timestamp('2020-04-21 00:00:00')]   -26.4350      0.731    -36.141      0.000     -27.869     -25.001\n",
      "date[Timestamp('2020-04-22 00:00:00')]   -26.0786      0.724    -36.000      0.000     -27.498     -24.659\n",
      "date[Timestamp('2020-04-23 00:00:00')]   -28.4503      0.723    -39.331      0.000     -29.868     -27.033\n",
      "date[Timestamp('2020-04-24 00:00:00')]   -29.5051      0.711    -41.504      0.000     -30.898     -28.112\n",
      "date[Timestamp('2020-04-25 00:00:00')]   -27.0833      0.755    -35.869      0.000     -28.563     -25.603\n",
      "date[Timestamp('2020-04-26 00:00:00')]   -30.5638      0.766    -39.905      0.000     -32.065     -29.063\n",
      "date[Timestamp('2020-04-27 00:00:00')]   -25.6552      0.732    -35.040      0.000     -27.090     -24.220\n",
      "date[Timestamp('2020-04-28 00:00:00')]   -22.5173      0.737    -30.573      0.000     -23.961     -21.074\n",
      "date[Timestamp('2020-04-29 00:00:00')]   -22.8456      0.727    -31.431      0.000     -24.270     -21.421\n",
      "date[Timestamp('2020-04-30 00:00:00')]   -23.2216      0.729    -31.840      0.000     -24.651     -21.792\n",
      "date[Timestamp('2020-05-01 00:00:00')]   -21.2936      0.720    -29.577      0.000     -22.705     -19.883\n",
      "date[Timestamp('2020-05-02 00:00:00')]   -17.7890      0.768    -23.176      0.000     -19.293     -16.285\n",
      "date[Timestamp('2020-05-03 00:00:00')]   -21.9591      0.778    -28.237      0.000     -23.483     -20.435\n",
      "date[Timestamp('2020-05-04 00:00:00')]   -21.1614      0.738    -28.661      0.000     -22.608     -19.714\n",
      "date[Timestamp('2020-05-05 00:00:00')]   -19.3303      0.739    -26.155      0.000     -20.779     -17.882\n",
      "date[Timestamp('2020-05-06 00:00:00')]   -18.6967      0.732    -25.549      0.000     -20.131     -17.262\n",
      "date[Timestamp('2020-05-07 00:00:00')]   -18.1849      0.734    -24.789      0.000     -19.623     -16.747\n",
      "date[Timestamp('2020-05-08 00:00:00')]   -21.1722      0.722    -29.339      0.000     -22.587     -19.758\n",
      "date[Timestamp('2020-05-09 00:00:00')]   -17.2823      0.755    -22.888      0.000     -18.762     -15.802\n",
      "date[Timestamp('2020-05-10 00:00:00')]   -20.3593      0.770    -26.453      0.000     -21.868     -18.851\n",
      "date[Timestamp('2020-05-11 00:00:00')]   -20.0629      0.739    -27.146      0.000     -21.511     -18.614\n",
      "date[Timestamp('2020-05-12 00:00:00')]   -17.7045      0.738    -23.991      0.000     -19.151     -16.258\n",
      "date[Timestamp('2020-05-13 00:00:00')]   -16.8059      0.734    -22.886      0.000     -18.245     -15.367\n",
      "date[Timestamp('2020-05-14 00:00:00')]   -17.8120      0.734    -24.268      0.000     -19.251     -16.373\n",
      "date[Timestamp('2020-05-15 00:00:00')]   -18.6318      0.724    -25.720      0.000     -20.052     -17.212\n",
      "date[Timestamp('2020-05-16 00:00:00')]   -15.2637      0.760    -20.088      0.000     -16.753     -13.774\n",
      "date[Timestamp('2020-05-17 00:00:00')]   -18.6852      0.772    -24.199      0.000     -20.199     -17.172\n",
      "date[Timestamp('2020-05-18 00:00:00')]   -18.6206      0.743    -25.056      0.000     -20.077     -17.164\n",
      "date[Timestamp('2020-05-19 00:00:00')]   -15.8550      0.740    -21.431      0.000     -17.305     -14.405\n",
      "date[Timestamp('2020-05-20 00:00:00')]   -13.1359      0.737    -17.827      0.000     -14.580     -11.692\n",
      "date[Timestamp('2020-05-21 00:00:00')]   -11.3106      0.741    -15.273      0.000     -12.762      -9.859\n",
      "date[Timestamp('2020-05-22 00:00:00')]    -9.5845      0.733    -13.071      0.000     -11.022      -8.147\n",
      "date[Timestamp('2020-05-23 00:00:00')]    -9.2244      0.772    -11.946      0.000     -10.738      -7.711\n",
      "date[Timestamp('2020-05-24 00:00:00')]   -15.1691      0.778    -19.506      0.000     -16.693     -13.645\n",
      "date[Timestamp('2020-05-25 00:00:00')]   -24.4431      0.742    -32.924      0.000     -25.898     -22.988\n",
      "date[Timestamp('2020-05-26 00:00:00')]   -14.6932      0.743    -19.771      0.000     -16.150     -13.237\n",
      "date[Timestamp('2020-05-27 00:00:00')]   -11.9840      0.741    -16.183      0.000     -13.435     -10.533\n",
      "date[Timestamp('2020-05-28 00:00:00')]   -11.5646      0.740    -15.624      0.000     -13.015     -10.114\n",
      "date[Timestamp('2020-05-29 00:00:00')]   -10.7515      0.733    -14.663      0.000     -12.189      -9.314\n",
      "date[Timestamp('2020-05-30 00:00:00')]    -5.2792      0.773     -6.833      0.000      -6.793      -3.765\n",
      "date[Timestamp('2020-05-31 00:00:00')]    -6.1149      0.789     -7.749      0.000      -7.661      -4.568\n",
      "date[Timestamp('2020-06-01 00:00:00')]    -9.3299      0.749    -12.459      0.000     -10.798      -7.862\n",
      "date[Timestamp('2020-06-02 00:00:00')]    -9.3682      0.749    -12.504      0.000     -10.837      -7.900\n",
      "date[Timestamp('2020-06-03 00:00:00')]    -8.4633      0.742    -11.411      0.000      -9.917      -7.010\n",
      "date[Timestamp('2020-06-04 00:00:00')]    -8.2671      0.741    -11.152      0.000      -9.720      -6.814\n",
      "date[Timestamp('2020-06-05 00:00:00')]    -8.8201      0.738    -11.958      0.000     -10.266      -7.374\n",
      "date[Timestamp('2020-06-06 00:00:00')]    -4.8374      0.776     -6.237      0.000      -6.357      -3.317\n",
      "date[Timestamp('2020-06-07 00:00:00')]    -5.7048      0.791     -7.209      0.000      -7.256      -4.154\n",
      "date[Timestamp('2020-06-08 00:00:00')]    -9.4738      0.750    -12.632      0.000     -10.944      -8.004\n",
      "date[Timestamp('2020-06-09 00:00:00')]    -9.4059      0.748    -12.573      0.000     -10.872      -7.940\n",
      "date[Timestamp('2020-06-10 00:00:00')]    -7.4032      0.743     -9.967      0.000      -8.859      -5.947\n",
      "date[Timestamp('2020-06-11 00:00:00')]    -5.9072      0.743     -7.949      0.000      -7.364      -4.451\n",
      "date[Timestamp('2020-06-12 00:00:00')]    -4.0139      0.738     -5.442      0.000      -5.460      -2.568\n",
      "date[Timestamp('2020-06-13 00:00:00')]     0.5902      0.788      0.749      0.454      -0.955       2.135\n",
      "date[Timestamp('2020-06-14 00:00:00')]     0.2520      0.799      0.315      0.752      -1.314       1.818\n",
      "date[Timestamp('2020-06-15 00:00:00')]    -5.6825      0.752     -7.553      0.000      -7.157      -4.208\n",
      "date[Timestamp('2020-06-16 00:00:00')]    -6.3965      0.753     -8.498      0.000      -7.872      -4.921\n",
      "date[Timestamp('2020-06-17 00:00:00')]    -4.7278      0.743     -6.365      0.000      -6.184      -3.272\n",
      "date[Timestamp('2020-06-18 00:00:00')]    -3.5502      0.745     -4.767      0.000      -5.010      -2.091\n",
      "date[Timestamp('2020-06-19 00:00:00')]    -2.4954      0.744     -3.354      0.001      -3.953      -1.037\n",
      "date[Timestamp('2020-06-20 00:00:00')]     2.0935      0.785      2.667      0.008       0.555       3.632\n",
      "date[Timestamp('2020-06-21 00:00:00')]    -0.2384      0.796     -0.300      0.765      -1.798       1.322\n",
      "date[Timestamp('2020-06-22 00:00:00')]    -4.6958      0.755     -6.219      0.000      -6.176      -3.216\n",
      "date[Timestamp('2020-06-23 00:00:00')]    -4.9186      0.751     -6.551      0.000      -6.390      -3.447\n",
      "date[Timestamp('2020-06-24 00:00:00')]    -3.6558      0.747     -4.897      0.000      -5.119      -2.193\n",
      "date[Timestamp('2020-06-25 00:00:00')]    -1.8861      0.746     -2.528      0.011      -3.349      -0.424\n",
      "date[Timestamp('2020-06-26 00:00:00')]    -1.3027      0.743     -1.753      0.080      -2.759       0.154\n",
      "date[Timestamp('2020-06-27 00:00:00')]     3.7603      0.790      4.757      0.000       2.211       5.310\n",
      "date[Timestamp('2020-06-28 00:00:00')]     3.0106      0.801      3.756      0.000       1.440       4.581\n",
      "date[Timestamp('2020-06-29 00:00:00')]    -4.0553      0.756     -5.365      0.000      -5.537      -2.574\n",
      "date[Timestamp('2020-06-30 00:00:00')]    -3.6225      0.755     -4.795      0.000      -5.103      -2.142\n",
      "date[Timestamp('2020-07-01 00:00:00')]     0.1229      0.752      0.163      0.870      -1.351       1.597\n",
      "date[Timestamp('2020-07-02 00:00:00')]     4.4412      0.758      5.857      0.000       2.955       5.927\n",
      "date[Timestamp('2020-07-03 00:00:00')]    -4.4985      0.746     -6.029      0.000      -5.961      -3.036\n",
      "date[Timestamp('2020-07-04 00:00:00')]   -14.9114      0.769    -19.385      0.000     -16.419     -13.404\n",
      "date[Timestamp('2020-07-05 00:00:00')]     1.3534      0.804      1.683      0.092      -0.223       2.930\n",
      "date[Timestamp('2020-07-06 00:00:00')]    -1.9766      0.763     -2.590      0.010      -3.472      -0.481\n",
      "date[Timestamp('2020-07-07 00:00:00')]    -4.5886      0.753     -6.093      0.000      -6.065      -3.113\n",
      "date[Timestamp('2020-07-08 00:00:00')]    -4.4903      0.747     -6.012      0.000      -5.954      -3.026\n",
      "date[Timestamp('2020-07-09 00:00:00')]    -3.9656      0.744     -5.331      0.000      -5.424      -2.508\n",
      "date[Timestamp('2020-07-10 00:00:00')]    -4.5116      0.743     -6.071      0.000      -5.968      -3.055\n",
      "date[Timestamp('2020-07-11 00:00:00')]     1.0191      0.785      1.298      0.194      -0.520       2.558\n",
      "date[Timestamp('2020-07-12 00:00:00')]     1.0692      0.801      1.334      0.182      -0.502       2.640\n",
      "date[Timestamp('2020-07-13 00:00:00')]    -5.7833      0.755     -7.659      0.000      -7.263      -4.303\n",
      "date[Timestamp('2020-07-14 00:00:00')]    -6.4177      0.750     -8.552      0.000      -7.888      -4.947\n",
      "date[Timestamp('2020-07-15 00:00:00')]    -5.6851      0.742     -7.661      0.000      -7.139      -4.231\n",
      "date[Timestamp('2020-07-16 00:00:00')]    -4.5281      0.748     -6.050      0.000      -5.995      -3.061\n",
      "date[Timestamp('2020-07-17 00:00:00')]    -3.9048      0.745     -5.244      0.000      -5.364      -2.445\n",
      "date[Timestamp('2020-07-18 00:00:00')]     1.0992      0.790      1.391      0.164      -0.449       2.648\n",
      "date[Timestamp('2020-07-19 00:00:00')]    -0.2471      0.802     -0.308      0.758      -1.820       1.326\n",
      "date[Timestamp('2020-07-20 00:00:00')]    -6.1004      0.757     -8.062      0.000      -7.583      -4.617\n",
      "date[Timestamp('2020-07-21 00:00:00')]    -7.2309      0.751     -9.626      0.000      -8.703      -5.759\n",
      "date[Timestamp('2020-07-22 00:00:00')]    -5.9432      0.745     -7.977      0.000      -7.403      -4.483\n",
      "date[Timestamp('2020-07-23 00:00:00')]    -5.1455      0.746     -6.896      0.000      -6.608      -3.683\n",
      "date[Timestamp('2020-07-24 00:00:00')]    -4.5929      0.744     -6.177      0.000      -6.050      -3.136\n",
      "date[Timestamp('2020-07-25 00:00:00')]     0.7292      0.789      0.924      0.355      -0.817       2.276\n",
      "date[Timestamp('2020-07-26 00:00:00')]    -0.2398      0.800     -0.300      0.764      -1.808       1.328\n",
      "date[Timestamp('2020-07-27 00:00:00')]    -6.8483      0.752     -9.112      0.000      -8.321      -5.375\n",
      "date[Timestamp('2020-07-28 00:00:00')]    -7.8568      0.751    -10.465      0.000      -9.328      -6.385\n",
      "date[Timestamp('2020-07-29 00:00:00')]    -6.3900      0.747     -8.559      0.000      -7.853      -4.927\n",
      "date[Timestamp('2020-07-30 00:00:00')]    -5.4848      0.746     -7.354      0.000      -6.947      -4.023\n",
      "date[Timestamp('2020-07-31 00:00:00')]    -3.3617      0.745     -4.514      0.000      -4.821      -1.902\n",
      "date[Timestamp('2020-08-01 00:00:00')]     1.9364      0.789      2.455      0.014       0.391       3.482\n",
      "date[Timestamp('2020-08-02 00:00:00')]     0.7898      0.806      0.980      0.327      -0.790       2.370\n",
      "date[Timestamp('2020-08-03 00:00:00')]    -5.6091      0.754     -7.436      0.000      -7.088      -4.131\n",
      "date[Timestamp('2020-08-04 00:00:00')]    -7.7177      0.750    -10.295      0.000      -9.187      -6.248\n",
      "date[Timestamp('2020-08-05 00:00:00')]    -5.0565      0.750     -6.742      0.000      -6.527      -3.587\n",
      "date[Timestamp('2020-08-06 00:00:00')]    -3.9193      0.748     -5.242      0.000      -5.385      -2.454\n",
      "date[Timestamp('2020-08-07 00:00:00')]    -3.9122      0.743     -5.264      0.000      -5.369      -2.456\n",
      "date[Timestamp('2020-08-08 00:00:00')]     1.8375      0.791      2.322      0.020       0.287       3.389\n",
      "date[Timestamp('2020-08-09 00:00:00')]     2.8647      0.802      3.570      0.000       1.292       4.437\n",
      "date[Timestamp('2020-08-10 00:00:00')]    -6.4433      0.758     -8.498      0.000      -7.929      -4.957\n",
      "date[Timestamp('2020-08-11 00:00:00')]    -6.8530      0.753     -9.104      0.000      -8.328      -5.378\n",
      "date[Timestamp('2020-08-12 00:00:00')]    -5.9371      0.745     -7.965      0.000      -7.398      -4.476\n",
      "date[Timestamp('2020-08-13 00:00:00')]    -5.2642      0.746     -7.058      0.000      -6.726      -3.802\n",
      "date[Timestamp('2020-08-14 00:00:00')]    -4.8707      0.741     -6.577      0.000      -6.322      -3.419\n",
      "date[Timestamp('2020-08-15 00:00:00')]     0.0238      0.787      0.030      0.976      -1.519       1.567\n",
      "date[Timestamp('2020-08-16 00:00:00')]     0.5259      0.803      0.655      0.513      -1.049       2.101\n",
      "date[Timestamp('2020-08-17 00:00:00')]   -32.2150      1.654    -19.474      0.000     -35.457     -28.973\n",
      "date[Timestamp('2020-08-18 00:00:00')]   -32.7136      1.658    -19.726      0.000     -35.964     -29.463\n",
      "date[Timestamp('2020-08-19 00:00:00')]   -32.3250      1.654    -19.540      0.000     -35.567     -29.083\n",
      "date[Timestamp('2020-08-20 00:00:00')]   -31.0350      1.654    -18.761      0.000     -34.277     -27.793\n",
      "date[Timestamp('2020-08-21 00:00:00')]   -30.1553      1.630    -18.500      0.000     -33.350     -26.961\n",
      "date[Timestamp('2020-08-22 00:00:00')]   -26.1471      1.794    -14.572      0.000     -29.664     -22.630\n",
      "date[Timestamp('2020-08-23 00:00:00')]   -29.4645      1.879    -15.680      0.000     -33.148     -25.781\n",
      "date[Timestamp('2020-08-24 00:00:00')]   -33.4179      1.650    -20.252      0.000     -36.652     -30.184\n",
      "date[Timestamp('2020-08-25 00:00:00')]   -33.6364      1.663    -20.231      0.000     -36.895     -30.378\n",
      "date[Timestamp('2020-08-26 00:00:00')]   -32.1144      1.650    -19.462      0.000     -35.349     -28.880\n",
      "date[Timestamp('2020-08-27 00:00:00')]   -32.4554      1.646    -19.717      0.000     -35.682     -29.229\n",
      "date[Timestamp('2020-08-28 00:00:00')]   -30.9272      1.630    -18.974      0.000     -34.122     -27.732\n",
      "date[Timestamp('2020-08-29 00:00:00')]   -28.3684      1.789    -15.857      0.000     -31.875     -24.862\n",
      "date[Timestamp('2020-08-30 00:00:00')]   -28.6340      1.891    -15.139      0.000     -32.341     -24.927\n",
      "date[Timestamp('2020-08-31 00:00:00')]   -32.2438      1.650    -19.540      0.000     -35.478     -29.010\n",
      "date[Timestamp('2020-09-01 00:00:00')]   -31.5354      1.663    -18.968      0.000     -34.794     -28.277\n",
      "date[Timestamp('2020-09-02 00:00:00')]   -32.1005      1.658    -19.356      0.000     -35.351     -28.850\n",
      "date[Timestamp('2020-09-03 00:00:00')]   -28.4848      1.663    -17.133      0.000     -31.743     -25.226\n",
      "date[Timestamp('2020-09-04 00:00:00')]   -26.4604      1.646    -16.075      0.000     -29.687     -23.234\n",
      "date[Timestamp('2020-09-05 00:00:00')]   -24.9586      1.800    -13.869      0.000     -28.486     -21.431\n",
      "date[Timestamp('2020-09-06 00:00:00')]   -30.9172      1.867    -16.559      0.000     -34.577     -27.258\n",
      "date[Timestamp('2020-09-07 00:00:00')]   -42.4087      1.622    -26.144      0.000     -45.588     -39.229\n",
      "date[Timestamp('2020-09-08 00:00:00')]   -32.1515      1.663    -19.338      0.000     -35.410     -28.893\n",
      "date[Timestamp('2020-09-09 00:00:00')]   -32.9059      1.646    -19.991      0.000     -36.132     -29.680\n",
      "date[Timestamp('2020-09-10 00:00:00')]   -32.4020      1.638    -19.782      0.000     -35.612     -29.192\n",
      "date[Timestamp('2020-09-11 00:00:00')]    -7.2790      0.737     -9.873      0.000      -8.724      -5.834\n",
      "date[Timestamp('2020-09-12 00:00:00')]    -1.4867      0.778     -1.911      0.056      -3.012       0.038\n",
      "date[Timestamp('2020-09-13 00:00:00')]    -2.1688      0.793     -2.736      0.006      -3.722      -0.615\n",
      "date[Timestamp('2020-09-14 00:00:00')]    -8.7794      0.748    -11.742      0.000     -10.245      -7.314\n",
      "date[Timestamp('2020-09-15 00:00:00')]    -9.3487      0.749    -12.478      0.000     -10.817      -7.880\n",
      "date[Timestamp('2020-09-16 00:00:00')]    -9.4985      0.742    -12.794      0.000     -10.954      -8.043\n",
      "date[Timestamp('2020-09-17 00:00:00')]    -8.4624      0.741    -11.421      0.000      -9.915      -7.010\n",
      "date[Timestamp('2020-09-18 00:00:00')]    -6.3927      0.736     -8.688      0.000      -7.835      -4.951\n",
      "date[Timestamp('2020-09-19 00:00:00')]    -0.0756      0.780     -0.097      0.923      -1.605       1.454\n",
      "date[Timestamp('2020-09-20 00:00:00')]    -0.8253      0.793     -1.041      0.298      -2.380       0.729\n",
      "date[Timestamp('2020-09-21 00:00:00')]    -9.0950      0.752    -12.095      0.000     -10.569      -7.621\n",
      "date[Timestamp('2020-09-22 00:00:00')]   -11.1537      0.749    -14.894      0.000     -12.621      -9.686\n",
      "date[Timestamp('2020-09-23 00:00:00')]   -10.6489      0.741    -14.373      0.000     -12.101      -9.197\n",
      "date[Timestamp('2020-09-24 00:00:00')]    -9.1500      0.740    -12.368      0.000     -10.600      -7.700\n",
      "date[Timestamp('2020-09-25 00:00:00')]    -8.0298      0.737    -10.897      0.000      -9.474      -6.586\n",
      "date[Timestamp('2020-09-26 00:00:00')]    -2.9204      0.778     -3.753      0.000      -4.445      -1.395\n",
      "date[Timestamp('2020-09-27 00:00:00')]    -2.0243      0.796     -2.543      0.011      -3.584      -0.464\n",
      "date[Timestamp('2020-09-28 00:00:00')]   -10.5716      0.751    -14.081      0.000     -12.043      -9.100\n",
      "date[Timestamp('2020-09-29 00:00:00')]   -11.4974      0.748    -15.377      0.000     -12.963     -10.032\n",
      "date[Timestamp('2020-09-30 00:00:00')]    -8.9133      0.743    -12.000      0.000     -10.369      -7.457\n",
      "date[Timestamp('2020-10-01 00:00:00')]    -6.5594      0.742     -8.840      0.000      -8.014      -5.105\n",
      "date[Timestamp('2020-10-02 00:00:00')]    -5.1715      0.739     -7.001      0.000      -6.619      -3.724\n",
      "date[Timestamp('2020-10-03 00:00:00')]    -0.3459      0.780     -0.443      0.658      -1.875       1.183\n",
      "date[Timestamp('2020-10-04 00:00:00')]    -0.8998      0.794     -1.133      0.257      -2.456       0.657\n",
      "date[Timestamp('2020-10-05 00:00:00')]    -8.2773      0.751    -11.019      0.000      -9.750      -6.805\n",
      "date[Timestamp('2020-10-06 00:00:00')]    -9.3027      0.752    -12.372      0.000     -10.776      -7.829\n",
      "date[Timestamp('2020-10-07 00:00:00')]    -8.6526      0.742    -11.655      0.000     -10.108      -7.197\n",
      "date[Timestamp('2020-10-08 00:00:00')]    -6.3257      0.741     -8.542      0.000      -7.777      -4.874\n",
      "date[Timestamp('2020-10-09 00:00:00')]    -5.9323      0.738     -8.039      0.000      -7.379      -4.486\n",
      "date[Timestamp('2020-10-10 00:00:00')]    -3.2192      0.776     -4.146      0.000      -4.741      -1.697\n",
      "date[Timestamp('2020-10-11 00:00:00')]    -2.0573      0.792     -2.598      0.009      -3.609      -0.505\n",
      "date[Timestamp('2020-10-12 00:00:00')]    -8.2817      0.752    -11.020      0.000      -9.755      -6.809\n",
      "date[Timestamp('2020-10-13 00:00:00')]   -10.0554      0.749    -13.421      0.000     -11.524      -8.587\n",
      "date[Timestamp('2020-10-14 00:00:00')]    -7.8449      0.742    -10.567      0.000      -9.300      -6.390\n",
      "date[Timestamp('2020-10-15 00:00:00')]    -6.7882      0.741     -9.157      0.000      -8.241      -5.335\n",
      "date[Timestamp('2020-10-16 00:00:00')]    -6.7713      0.741     -9.139      0.000      -8.224      -5.319\n",
      "date[Timestamp('2020-10-17 00:00:00')]    -1.2458      0.779     -1.600      0.110      -2.772       0.280\n",
      "date[Timestamp('2020-10-18 00:00:00')]    -0.7140      0.795     -0.899      0.369      -2.271       0.843\n",
      "date[Timestamp('2020-10-19 00:00:00')]   -10.0678      0.750    -13.431      0.000     -11.537      -8.599\n",
      "date[Timestamp('2020-10-20 00:00:00')]   -11.2661      0.747    -15.083      0.000     -12.730      -9.802\n",
      "date[Timestamp('2020-10-21 00:00:00')]    -9.5855      0.742    -12.918      0.000     -11.040      -8.131\n",
      "date[Timestamp('2020-10-22 00:00:00')]    -8.6793      0.739    -11.738      0.000     -10.129      -7.230\n",
      "date[Timestamp('2020-10-23 00:00:00')]    -8.1980      0.736    -11.137      0.000      -9.641      -6.755\n",
      "date[Timestamp('2020-10-24 00:00:00')]    -5.4253      0.773     -7.022      0.000      -6.940      -3.911\n",
      "date[Timestamp('2020-10-25 00:00:00')]    -6.5907      0.788     -8.367      0.000      -8.135      -5.047\n",
      "date[Timestamp('2020-10-26 00:00:00')]   -12.9204      0.747    -17.289      0.000     -14.385     -11.456\n",
      "date[Timestamp('2020-10-27 00:00:00')]   -12.5416      0.745    -16.833      0.000     -14.002     -11.081\n",
      "date[Timestamp('2020-10-28 00:00:00')]   -12.7582      0.738    -17.288      0.000     -14.205     -11.312\n",
      "date[Timestamp('2020-10-29 00:00:00')]   -12.2093      0.737    -16.569      0.000     -13.654     -10.765\n",
      "date[Timestamp('2020-10-30 00:00:00')]   -10.4209      0.735    -14.170      0.000     -11.862      -8.980\n",
      "date[Timestamp('2020-10-31 00:00:00')]    -8.1549      0.773    -10.556      0.000      -9.669      -6.641\n",
      "date[Timestamp('2020-11-01 00:00:00')]   -10.8800      0.783    -13.890      0.000     -12.415      -9.345\n",
      "date[Timestamp('2020-11-02 00:00:00')]   -13.8988      0.748    -18.579      0.000     -15.365     -12.433\n",
      "date[Timestamp('2020-11-03 00:00:00')]   -12.9857      0.747    -17.394      0.000     -14.449     -11.523\n",
      "date[Timestamp('2020-11-04 00:00:00')]   -14.0040      0.739    -18.958      0.000     -15.452     -12.556\n",
      "date[Timestamp('2020-11-05 00:00:00')]   -13.3976      0.736    -18.209      0.000     -14.840     -11.956\n",
      "date[Timestamp('2020-11-06 00:00:00')]   -13.3186      0.734    -18.155      0.000     -14.756     -11.881\n",
      "date[Timestamp('2020-11-07 00:00:00')]   -10.3175      0.769    -13.420      0.000     -11.824      -8.811\n",
      "date[Timestamp('2020-11-08 00:00:00')]   -10.5219      0.785    -13.410      0.000     -12.060      -8.984\n",
      "==============================================================================\n",
      "Omnibus:                     6365.620   Durbin-Watson:                   0.180\n",
      "Prob(Omnibus):                  0.000   Jarque-Bera (JB):            15924.617\n",
      "Skew:                           0.021   Prob(JB):                         0.00\n",
      "Kurtosis:                       4.259   Cond. No.                         2.67\n",
      "==============================================================================\n",
      "\n",
      "Warnings:\n",
      "[1] Standard Errors assume that the covariance matrix of the errors is correctly specified.\n"
     ]
    }
   ],
   "source": [
    "lm = smf.ols(formula='transit_stations_percent_change_from_baseline~date-1', data = county).fit()\n",
    "print(lm.summary())"
   ]
  },
  {
   "cell_type": "code",
   "execution_count": 8,
   "metadata": {},
   "outputs": [
    {
     "data": {
      "text/plain": [
       "<matplotlib.axes._subplots.AxesSubplot at 0x7fd98ca287f0>"
      ]
     },
     "execution_count": 8,
     "metadata": {},
     "output_type": "execute_result"
    },
    {
     "data": {
      "image/png": "[encoded data removed]",
      "text/plain": [
       "<Figure size 1080x360 with 1 Axes>"
      ]
     },
     "metadata": {
      "needs_background": "light"
     },
     "output_type": "display_data"
    }
   ],
   "source": [
    "lm.params.plot(figsize = (15,5))"
   ]
  },
  {
   "cell_type": "code",
   "execution_count": 98,
   "metadata": {},
   "outputs": [
    {
     "data": {
      "text/plain": [
       "0.6905591655974505"
      ]
     },
     "execution_count": 98,
     "metadata": {},
     "output_type": "execute_result"
    }
   ],
   "source": [
    "len(county[county['SE_A00001_001']>= 50000])/len(county)"
   ]
  },
  {
   "cell_type": "code",
   "execution_count": 99,
   "metadata": {},
   "outputs": [],
   "source": [
    "# Population filtering for \"urban\" areas\n",
    "county = county[county['SE_A00001_001']>= 50000]"
   ]
  },
  {
   "cell_type": "code",
   "execution_count": 100,
   "metadata": {},
   "outputs": [
    {
     "name": "stderr",
     "output_type": "stream",
     "text": [
      "<ipython-input-100-54deafb20c62>:2: SettingWithCopyWarning: \n",
      "A value is trying to be set on a copy of a slice from a DataFrame.\n",
      "Try using .loc[row_indexer,col_indexer] = value instead\n",
      "\n",
      "See the caveats in the documentation: https://pandas.pydata.org/pandas-docs/stable/user_guide/indexing.html#returning-a-view-versus-a-copy\n",
      "  county['stsip_dummy'] = 'Never'\n",
      "/Users/amc/opt/anaconda3/lib/python3.8/site-packages/pandas/core/indexing.py:966: SettingWithCopyWarning: \n",
      "A value is trying to be set on a copy of a slice from a DataFrame.\n",
      "Try using .loc[row_indexer,col_indexer] = value instead\n",
      "\n",
      "See the caveats in the documentation: https://pandas.pydata.org/pandas-docs/stable/user_guide/indexing.html#returning-a-view-versus-a-copy\n",
      "  self.obj[item] = s\n",
      "<ipython-input-100-54deafb20c62>:7: SettingWithCopyWarning: \n",
      "A value is trying to be set on a copy of a slice from a DataFrame.\n",
      "Try using .loc[row_indexer,col_indexer] = value instead\n",
      "\n",
      "See the caveats in the documentation: https://pandas.pydata.org/pandas-docs/stable/user_guide/indexing.html#returning-a-view-versus-a-copy\n",
      "  county['localsip_dummy'] = 'Never'\n",
      "<ipython-input-100-54deafb20c62>:12: SettingWithCopyWarning: \n",
      "A value is trying to be set on a copy of a slice from a DataFrame.\n",
      "Try using .loc[row_indexer,col_indexer] = value instead\n",
      "\n",
      "See the caveats in the documentation: https://pandas.pydata.org/pandas-docs/stable/user_guide/indexing.html#returning-a-view-versus-a-copy\n",
      "  county['stbus_dummy'] = 'Never'\n",
      "<ipython-input-100-54deafb20c62>:21: SettingWithCopyWarning: \n",
      "A value is trying to be set on a copy of a slice from a DataFrame.\n",
      "Try using .loc[row_indexer,col_indexer] = value instead\n",
      "\n",
      "See the caveats in the documentation: https://pandas.pydata.org/pandas-docs/stable/user_guide/indexing.html#returning-a-view-versus-a-copy\n",
      "  county['stres_dummy'] = 'Never'\n"
     ]
    }
   ],
   "source": [
    "# creating our categorical date/lockdown variables\n",
    "county['stsip_dummy'] = 'Never'\n",
    "county.loc[(county['date'] < county['stsipstart']), 'stsip_dummy'] = 'Before'\n",
    "county.loc[(county['date'] >= county['stsipstart']) & (county['date'] <= county['stsipend']), 'stsip_dummy'] = 'During'\n",
    "county.loc[(county['date'] > county['stsipend']), 'stsip_dummy'] = 'After'\n",
    "\n",
    "county['localsip_dummy'] = 'Never'\n",
    "county.loc[(county['date'] < county['localsipstart']), 'localsip_dummy'] = 'Before'\n",
    "county.loc[(county['date'] >= county['localsipstart']) & (county['date'] <= county['localsipend']), 'localsip_dummy'] = 'During'\n",
    "county.loc[(county['date'] > county['localsipend']), 'localsip_dummy'] = 'After'\n",
    "\n",
    "county['stbus_dummy'] = 'Never'\n",
    "county.loc[(county['date'] < county['stbusclose']), 'stbus_dummy'] = 'Before'\n",
    "county.loc[(county['date'] >= county['stbusclose']) & (county['date'] <= county['stbusopen']), 'stbus_dummy'] = 'During'\n",
    "county.loc[(county['date'] > county['stbusopen']), 'stbus_dummy'] = 'After'\n",
    "\n",
    "# county['localbus_dummy'] = 'Before'\n",
    "# county.loc[(county['date'] >= county['localbusstart']) & (county['date'] <= county['localbusend']), 'localbus_dummy'] = 'During'\n",
    "# county.loc[(county['date'] > county['localbusend']), 'localbus_dummy'] = 'After'\n",
    "\n",
    "county['stres_dummy'] = 'Never'\n",
    "county.loc[(county['date'] < county['stresclose']), 'stres_dummy'] = 'Before'\n",
    "county.loc[(county['date'] >= county['stresclose']) & (county['date'] <= county['stresopen']), 'stres_dummy'] = 'During'\n",
    "county.loc[(county['date'] > county['stresopen']), 'stres_dummy'] = 'After'\n",
    "\n",
    "# county['localres_dummy'] = 'Before'\n",
    "# county.loc[(county['date'] >= county['localresstart']) & (county['date'] <= county['localresend']), 'localres_dummy'] = 'During'\n",
    "# county.loc[(county['date'] > county['localresend']), 'localres_dummy'] = 'After'\n",
    "\n"
   ]
  },
  {
   "cell_type": "code",
   "execution_count": 101,
   "metadata": {},
   "outputs": [
    {
     "name": "stderr",
     "output_type": "stream",
     "text": [
      "<ipython-input-101-41db459bca1a>:1: SettingWithCopyWarning: \n",
      "A value is trying to be set on a copy of a slice from a DataFrame.\n",
      "Try using .loc[row_indexer,col_indexer] = value instead\n",
      "\n",
      "See the caveats in the documentation: https://pandas.pydata.org/pandas-docs/stable/user_guide/indexing.html#returning-a-view-versus-a-copy\n",
      "  county['stsip_dummy_before'] = 0\n",
      "<ipython-input-101-41db459bca1a>:5: SettingWithCopyWarning: \n",
      "A value is trying to be set on a copy of a slice from a DataFrame.\n",
      "Try using .loc[row_indexer,col_indexer] = value instead\n",
      "\n",
      "See the caveats in the documentation: https://pandas.pydata.org/pandas-docs/stable/user_guide/indexing.html#returning-a-view-versus-a-copy\n",
      "  county['stbus_dummy_before'] = 0\n",
      "<ipython-input-101-41db459bca1a>:9: SettingWithCopyWarning: \n",
      "A value is trying to be set on a copy of a slice from a DataFrame.\n",
      "Try using .loc[row_indexer,col_indexer] = value instead\n",
      "\n",
      "See the caveats in the documentation: https://pandas.pydata.org/pandas-docs/stable/user_guide/indexing.html#returning-a-view-versus-a-copy\n",
      "  county['stres_dummy_before'] = 0\n"
     ]
    }
   ],
   "source": [
    "county['stsip_dummy_before'] = 0\n",
    "county.loc[county['stsip_dummy'] == 'During', 'stsip_dummy_before'] = 1\n",
    "county.loc[(county['stsip_dummy'] == 'After') | (county['stsip_dummy'] == 'Never'), 'stsip_dummy_before'] = np.nan\n",
    "\n",
    "county['stbus_dummy_before'] = 0\n",
    "county.loc[county['stbus_dummy'] == 'During', 'stbus_dummy_before'] = 1\n",
    "county.loc[(county['stbus_dummy'] == 'After') | (county['stbus_dummy'] == 'Never'), 'stbus_dummy_before'] = np.nan\n",
    "\n",
    "county['stres_dummy_before'] = 0\n",
    "county.loc[county['stres_dummy'] == 'During', 'stres_dummy_before'] = 1\n",
    "county.loc[(county['stres_dummy'] == 'After') | (county['stres_dummy'] == 'Never'), 'stres_dummy_before'] = np.nan"
   ]
  },
  {
   "cell_type": "code",
   "execution_count": 102,
   "metadata": {},
   "outputs": [
    {
     "data": {
      "text/plain": [
       "1.0    37971\n",
       "0.0    22239\n",
       "Name: stres_dummy_before, dtype: int64"
      ]
     },
     "execution_count": 102,
     "metadata": {},
     "output_type": "execute_result"
    }
   ],
   "source": [
    "county['stres_dummy_before'].value_counts()"
   ]
  },
  {
   "cell_type": "code",
   "execution_count": 107,
   "metadata": {},
   "outputs": [
    {
     "name": "stdout",
     "output_type": "stream",
     "text": [
      "                                              OLS Regression Results                                              \n",
      "==================================================================================================================\n",
      "Dep. Variable:     transit_stations_percent_change_from_baseline   R-squared (uncentered):                   0.658\n",
      "Model:                                                       OLS   Adj. R-squared (uncentered):              0.658\n",
      "Method:                                            Least Squares   F-statistic:                          2.191e+04\n",
      "Date:                                           Wed, 09 Dec 2020   Prob (F-statistic):                        0.00\n",
      "Time:                                                   11:33:25   Log-Likelihood:                     -1.9473e+05\n",
      "No. Observations:                                          45470   AIC:                                  3.895e+05\n",
      "Df Residuals:                                              45466   BIC:                                  3.895e+05\n",
      "Df Model:                                                      4                                                  \n",
      "Covariance Type:                                       nonrobust                                                  \n",
      "======================================================================================\n",
      "                         coef    std err          t      P>|t|      [0.025      0.975]\n",
      "--------------------------------------------------------------------------------------\n",
      "stsip_dummy_before    -1.8072      0.756     -2.391      0.017      -3.288      -0.326\n",
      "stbus_dummy_before    -7.5618      0.786     -9.615      0.000      -9.103      -6.020\n",
      "stres_dummy_before   -22.7377      0.267    -85.142      0.000     -23.261     -22.214\n",
      "SE_A00001_001      -5.096e-06   1.29e-07    -39.439      0.000   -5.35e-06   -4.84e-06\n",
      "==============================================================================\n",
      "Omnibus:                     2902.272   Durbin-Watson:                   0.326\n",
      "Prob(Omnibus):                  0.000   Jarque-Bera (JB):            11595.535\n",
      "Skew:                          -0.199   Prob(JB):                         0.00\n",
      "Kurtosis:                       5.442   Cond. No.                     8.95e+06\n",
      "==============================================================================\n",
      "\n",
      "Warnings:\n",
      "[1] Standard Errors assume that the covariance matrix of the errors is correctly specified.\n",
      "[2] The condition number is large, 8.95e+06. This might indicate that there are\n",
      "strong multicollinearity or other numerical problems.\n"
     ]
    }
   ],
   "source": [
    "lm = smf.ols(formula='transit_stations_percent_change_from_baseline~stsip_dummy_before+stbus_dummy_before+stres_dummy_before+SE_A00001_001-1', \n",
    "             data = county).fit()\n",
    "print(lm.summary())"
   ]
  },
  {
   "cell_type": "code",
   "execution_count": 110,
   "metadata": {},
   "outputs": [
    {
     "name": "stdout",
     "output_type": "stream",
     "text": [
      "                                              OLS Regression Results                                              \n",
      "==================================================================================================================\n",
      "Dep. Variable:     transit_stations_percent_change_from_baseline   R-squared (uncentered):                   0.647\n",
      "Model:                                                       OLS   Adj. R-squared (uncentered):              0.647\n",
      "Method:                                            Least Squares   F-statistic:                          2.774e+04\n",
      "Date:                                           Wed, 09 Dec 2020   Prob (F-statistic):                        0.00\n",
      "Time:                                                   11:35:25   Log-Likelihood:                     -1.9550e+05\n",
      "No. Observations:                                          45470   AIC:                                  3.910e+05\n",
      "Df Residuals:                                              45467   BIC:                                  3.910e+05\n",
      "Df Model:                                                      3                                                  \n",
      "Covariance Type:                                       nonrobust                                                  \n",
      "======================================================================================\n",
      "                         coef    std err          t      P>|t|      [0.025      0.975]\n",
      "--------------------------------------------------------------------------------------\n",
      "stsip_dummy_before    -2.0370      0.769     -2.651      0.008      -3.543      -0.531\n",
      "stbus_dummy_before    -7.2345      0.800     -9.046      0.000      -8.802      -5.667\n",
      "stres_dummy_before   -24.5715      0.267    -91.879      0.000     -25.096     -24.047\n",
      "==============================================================================\n",
      "Omnibus:                     2540.566   Durbin-Watson:                   0.319\n",
      "Prob(Omnibus):                  0.000   Jarque-Bera (JB):             9504.908\n",
      "Skew:                          -0.157   Prob(JB):                         0.00\n",
      "Kurtosis:                       5.218   Cond. No.                         15.4\n",
      "==============================================================================\n",
      "\n",
      "Warnings:\n",
      "[1] Standard Errors assume that the covariance matrix of the errors is correctly specified.\n"
     ]
    }
   ],
   "source": [
    "lm = smf.ols(formula='transit_stations_percent_change_from_baseline~stsip_dummy_before+stbus_dummy_before+stres_dummy_before-1', \n",
    "             data = county).fit()\n",
    "print(lm.summary())"
   ]
  },
  {
   "cell_type": "code",
   "execution_count": 104,
   "metadata": {},
   "outputs": [
    {
     "name": "stderr",
     "output_type": "stream",
     "text": [
      "<ipython-input-104-f7454d207c1a>:1: SettingWithCopyWarning: \n",
      "A value is trying to be set on a copy of a slice from a DataFrame.\n",
      "Try using .loc[row_indexer,col_indexer] = value instead\n",
      "\n",
      "See the caveats in the documentation: https://pandas.pydata.org/pandas-docs/stable/user_guide/indexing.html#returning-a-view-versus-a-copy\n",
      "  county['stsip_dummy_after'] = 0\n",
      "<ipython-input-104-f7454d207c1a>:5: SettingWithCopyWarning: \n",
      "A value is trying to be set on a copy of a slice from a DataFrame.\n",
      "Try using .loc[row_indexer,col_indexer] = value instead\n",
      "\n",
      "See the caveats in the documentation: https://pandas.pydata.org/pandas-docs/stable/user_guide/indexing.html#returning-a-view-versus-a-copy\n",
      "  county['stbus_dummy_after'] = 0\n",
      "<ipython-input-104-f7454d207c1a>:9: SettingWithCopyWarning: \n",
      "A value is trying to be set on a copy of a slice from a DataFrame.\n",
      "Try using .loc[row_indexer,col_indexer] = value instead\n",
      "\n",
      "See the caveats in the documentation: https://pandas.pydata.org/pandas-docs/stable/user_guide/indexing.html#returning-a-view-versus-a-copy\n",
      "  county['stres_dummy_after'] = 0\n"
     ]
    }
   ],
   "source": [
    "county['stsip_dummy_after'] = 0\n",
    "county.loc[county['stsip_dummy'] == 'During', 'stsip_dummy_after'] = 1\n",
    "county.loc[(county['stsip_dummy'] == 'Before') | (county['stsip_dummy'] == 'Never'), 'stsip_dummy_after'] = np.nan\n",
    "\n",
    "county['stbus_dummy_after'] = 0\n",
    "county.loc[county['stbus_dummy'] == 'During', 'stbus_dummy_after'] = 1\n",
    "county.loc[(county['stbus_dummy'] == 'Before') | (county['stbus_dummy'] == 'Never'), 'stbus_dummy_after'] = np.nan\n",
    "\n",
    "county['stres_dummy_after'] = 0\n",
    "county.loc[county['stres_dummy'] == 'During', 'stres_dummy_after'] = 1\n",
    "county.loc[(county['stres_dummy'] == 'Before') | (county['stres_dummy'] == 'Never'), 'stres_dummy_after'] = np.nan"
   ]
  },
  {
   "cell_type": "code",
   "execution_count": 108,
   "metadata": {},
   "outputs": [
    {
     "name": "stdout",
     "output_type": "stream",
     "text": [
      "                                              OLS Regression Results                                              \n",
      "==================================================================================================================\n",
      "Dep. Variable:     transit_stations_percent_change_from_baseline   R-squared (uncentered):                   0.630\n",
      "Model:                                                       OLS   Adj. R-squared (uncentered):              0.630\n",
      "Method:                                            Least Squares   F-statistic:                          1.668e+04\n",
      "Date:                                           Wed, 09 Dec 2020   Prob (F-statistic):                        0.00\n",
      "Time:                                                   11:34:19   Log-Likelihood:                     -1.7522e+05\n",
      "No. Observations:                                          39197   AIC:                                  3.504e+05\n",
      "Df Residuals:                                              39193   BIC:                                  3.505e+05\n",
      "Df Model:                                                      4                                                  \n",
      "Covariance Type:                                       nonrobust                                                  \n",
      "=====================================================================================\n",
      "                        coef    std err          t      P>|t|      [0.025      0.975]\n",
      "-------------------------------------------------------------------------------------\n",
      "stsip_dummy_after   -10.1419      0.483    -20.996      0.000     -11.089      -9.195\n",
      "stbus_dummy_after    -2.4095      0.452     -5.337      0.000      -3.294      -1.525\n",
      "stres_dummy_after   -14.9289      0.427    -34.997      0.000     -15.765     -14.093\n",
      "SE_A00001_001     -1.872e-05   2.01e-07    -93.206      0.000   -1.91e-05   -1.83e-05\n",
      "==============================================================================\n",
      "Omnibus:                     1039.898   Durbin-Watson:                   0.241\n",
      "Prob(Omnibus):                  0.000   Jarque-Bera (JB):             2505.996\n",
      "Skew:                          -0.075   Prob(JB):                         0.00\n",
      "Kurtosis:                       4.230   Cond. No.                     3.30e+06\n",
      "==============================================================================\n",
      "\n",
      "Warnings:\n",
      "[1] Standard Errors assume that the covariance matrix of the errors is correctly specified.\n",
      "[2] The condition number is large, 3.3e+06. This might indicate that there are\n",
      "strong multicollinearity or other numerical problems.\n"
     ]
    }
   ],
   "source": [
    "lm = smf.ols(formula='transit_stations_percent_change_from_baseline~stsip_dummy_after+stbus_dummy_after+stres_dummy_after+SE_A00001_001-1', \n",
    "             data = county).fit()\n",
    "print(lm.summary())"
   ]
  },
  {
   "cell_type": "code",
   "execution_count": 109,
   "metadata": {},
   "outputs": [
    {
     "name": "stdout",
     "output_type": "stream",
     "text": [
      "                                              OLS Regression Results                                              \n",
      "==================================================================================================================\n",
      "Dep. Variable:     transit_stations_percent_change_from_baseline   R-squared (uncentered):                   0.548\n",
      "Model:                                                       OLS   Adj. R-squared (uncentered):              0.548\n",
      "Method:                                            Least Squares   F-statistic:                          1.584e+04\n",
      "Date:                                           Wed, 09 Dec 2020   Prob (F-statistic):                        0.00\n",
      "Time:                                                   11:34:49   Log-Likelihood:                     -1.7914e+05\n",
      "No. Observations:                                          39197   AIC:                                  3.583e+05\n",
      "Df Residuals:                                              39194   BIC:                                  3.583e+05\n",
      "Df Model:                                                      3                                                  \n",
      "Covariance Type:                                       nonrobust                                                  \n",
      "=====================================================================================\n",
      "                        coef    std err          t      P>|t|      [0.025      0.975]\n",
      "-------------------------------------------------------------------------------------\n",
      "stsip_dummy_after   -11.6857      0.534    -21.900      0.000     -12.732     -10.640\n",
      "stbus_dummy_after    -2.2014      0.499     -4.411      0.000      -3.180      -1.223\n",
      "stres_dummy_after   -20.0135      0.468    -42.800      0.000     -20.930     -19.097\n",
      "==============================================================================\n",
      "Omnibus:                      508.264   Durbin-Watson:                   0.207\n",
      "Prob(Omnibus):                  0.000   Jarque-Bera (JB):              631.725\n",
      "Skew:                          -0.206   Prob(JB):                    6.65e-138\n",
      "Kurtosis:                       3.466   Cond. No.                         7.12\n",
      "==============================================================================\n",
      "\n",
      "Warnings:\n",
      "[1] Standard Errors assume that the covariance matrix of the errors is correctly specified.\n"
     ]
    }
   ],
   "source": [
    "lm = smf.ols(formula='transit_stations_percent_change_from_baseline~stsip_dummy_after+stbus_dummy_after+stres_dummy_after-1', \n",
    "             data = county).fit()\n",
    "print(lm.summary())"
   ]
  },
  {
   "cell_type": "code",
   "execution_count": null,
   "metadata": {},
   "outputs": [],
   "source": []
  },
  {
   "cell_type": "code",
   "execution_count": 111,
   "metadata": {},
   "outputs": [],
   "source": [
    "before = county[county['stsip_dummy_before'] == 0][['transit_stations_percent_change_from_baseline']]\n",
    "after = county[county['stsip_dummy_before'] == 1][['transit_stations_percent_change_from_baseline']]"
   ]
  },
  {
   "cell_type": "code",
   "execution_count": 112,
   "metadata": {},
   "outputs": [],
   "source": [
    "beforebus = county[county['stbus_dummy_before'] == 0][['transit_stations_percent_change_from_baseline']]\n",
    "afterbus = county[county['stbus_dummy_before'] == 1][['transit_stations_percent_change_from_baseline']]"
   ]
  },
  {
   "cell_type": "code",
   "execution_count": 113,
   "metadata": {},
   "outputs": [],
   "source": [
    "beforeres = county[county['stres_dummy_before'] == 0][['transit_stations_percent_change_from_baseline']]\n",
    "afterres = county[county['stres_dummy_before'] == 1][['transit_stations_percent_change_from_baseline']]"
   ]
  },
  {
   "cell_type": "code",
   "execution_count": 82,
   "metadata": {},
   "outputs": [
    {
     "data": {
      "text/plain": [
       "array([[  8.],\n",
       "       [  7.],\n",
       "       [  7.],\n",
       "       ...,\n",
       "       [-18.],\n",
       "       [-28.],\n",
       "       [-38.]])"
      ]
     },
     "execution_count": 82,
     "metadata": {},
     "output_type": "execute_result"
    }
   ],
   "source": [
    "before.values"
   ]
  },
  {
   "cell_type": "code",
   "execution_count": 114,
   "metadata": {},
   "outputs": [
    {
     "data": {
      "image/png": "[encoded data removed]",
      "text/plain": [
       "<Figure size 432x288 with 1 Axes>"
      ]
     },
     "metadata": {
      "needs_background": "light"
     },
     "output_type": "display_data"
    }
   ],
   "source": [
    "ax = plt.subplot(1, 1, 1)\n",
    "ax.boxplot([before.values, after.values], whis=[1, 99])\n",
    "plt.show()"
   ]
  },
  {
   "cell_type": "code",
   "execution_count": 115,
   "metadata": {},
   "outputs": [
    {
     "data": {
      "image/png": "[encoded data removed]",
      "text/plain": [
       "<Figure size 432x288 with 1 Axes>"
      ]
     },
     "metadata": {
      "needs_background": "light"
     },
     "output_type": "display_data"
    }
   ],
   "source": [
    "ax = plt.subplot(1, 1, 1)\n",
    "ax.boxplot([beforebus.values, afterbus.values], whis=[1, 99])\n",
    "plt.show()"
   ]
  },
  {
   "cell_type": "code",
   "execution_count": 116,
   "metadata": {},
   "outputs": [
    {
     "data": {
      "image/png": "[encoded data removed]",
      "text/plain": [
       "<Figure size 432x288 with 1 Axes>"
      ]
     },
     "metadata": {
      "needs_background": "light"
     },
     "output_type": "display_data"
    }
   ],
   "source": [
    "ax = plt.subplot(1, 1, 1)\n",
    "ax.boxplot([beforeres.values, afterres.values], whis=[1, 99])\n",
    "plt.show()"
   ]
  },
  {
   "cell_type": "code",
   "execution_count": null,
   "metadata": {},
   "outputs": [],
   "source": []
  },
  {
   "cell_type": "code",
   "execution_count": null,
   "metadata": {},
   "outputs": [],
   "source": []
  },
  {
   "cell_type": "code",
   "execution_count": 10,
   "metadata": {},
   "outputs": [],
   "source": [
    "county = county[county['date'] <= dt.datetime(2020,6,15)]"
   ]
  },
  {
   "cell_type": "code",
   "execution_count": 11,
   "metadata": {},
   "outputs": [
    {
     "data": {
      "text/plain": [
       "During    38750\n",
       "Before    37027\n",
       "After     25728\n",
       "Never     19300\n",
       "Name: stsip_dummy, dtype: int64"
      ]
     },
     "execution_count": 11,
     "metadata": {},
     "output_type": "execute_result"
    }
   ],
   "source": [
    "county['stsip_dummy'].value_counts()"
   ]
  },
  {
   "cell_type": "code",
   "execution_count": 12,
   "metadata": {
    "scrolled": false
   },
   "outputs": [
    {
     "name": "stdout",
     "output_type": "stream",
     "text": [
      "                                          OLS Regression Results                                         \n",
      "=========================================================================================================\n",
      "Dep. Variable:     transit_stations_percent_change_from_baseline   R-squared:                       0.217\n",
      "Model:                                                       OLS   Adj. R-squared:                  0.217\n",
      "Method:                                            Least Squares   F-statistic:                 1.115e+04\n",
      "Date:                                           Wed, 09 Dec 2020   Prob (F-statistic):               0.00\n",
      "Time:                                                   10:33:33   Log-Likelihood:            -5.4376e+05\n",
      "No. Observations:                                         120805   AIC:                         1.088e+06\n",
      "Df Residuals:                                             120801   BIC:                         1.088e+06\n",
      "Df Model:                                                      3                                         \n",
      "Covariance Type:                                       nonrobust                                         \n",
      "=======================================================================================\n",
      "                          coef    std err          t      P>|t|      [0.025      0.975]\n",
      "---------------------------------------------------------------------------------------\n",
      "stsip_dummy[After]    -10.1255      0.136    -74.481      0.000     -10.392      -9.859\n",
      "stsip_dummy[Before]    -1.8826      0.113    -16.613      0.000      -2.105      -1.661\n",
      "stsip_dummy[During]   -30.0804      0.111   -271.547      0.000     -30.297     -29.863\n",
      "stsip_dummy[Never]    -12.0608      0.157    -76.839      0.000     -12.368     -11.753\n",
      "==============================================================================\n",
      "Omnibus:                     3818.523   Durbin-Watson:                   0.234\n",
      "Prob(Omnibus):                  0.000   Jarque-Bera (JB):             7069.905\n",
      "Skew:                          -0.253   Prob(JB):                         0.00\n",
      "Kurtosis:                       4.072   Cond. No.                         1.42\n",
      "==============================================================================\n",
      "\n",
      "Warnings:\n",
      "[1] Standard Errors assume that the covariance matrix of the errors is correctly specified.\n"
     ]
    }
   ],
   "source": [
    "lm = smf.ols(formula='transit_stations_percent_change_from_baseline~stsip_dummy-1', data = county).fit()\n",
    "print(lm.summary())"
   ]
  },
  {
   "cell_type": "code",
   "execution_count": 13,
   "metadata": {},
   "outputs": [],
   "source": [
    "county['stsip_dummy_prediction'] = lm.predict()"
   ]
  },
  {
   "cell_type": "code",
   "execution_count": 14,
   "metadata": {},
   "outputs": [
    {
     "data": {
      "image/png": "[encoded data removed]",
      "text/plain": [
       "<Figure size 432x288 with 1 Axes>"
      ]
     },
     "metadata": {
      "needs_background": "light"
     },
     "output_type": "display_data"
    }
   ],
   "source": [
    "fig, ax = plt.subplots() #get axis to plot on\n",
    "county.plot(ax=ax,kind='scatter',x='stsip_dummy', y='transit_stations_percent_change_from_baseline') #show the data\n",
    "ax.plot(county['stsip_dummy'],county['stsip_dummy_prediction'],'r-'); #show the regression line"
   ]
  },
  {
   "cell_type": "code",
   "execution_count": 15,
   "metadata": {},
   "outputs": [
    {
     "data": {
      "text/plain": [
       "<matplotlib.legend.Legend at 0x7fd98c775610>"
      ]
     },
     "execution_count": 15,
     "metadata": {},
     "output_type": "execute_result"
    },
    {
     "data": {
      "image/png": "[encoded data removed]",
      "text/plain": [
       "<Figure size 432x288 with 1 Axes>"
      ]
     },
     "metadata": {
      "needs_background": "light"
     },
     "output_type": "display_data"
    }
   ],
   "source": [
    "#histograms of daily counts in 2019 and 2018 - distributions look different\n",
    "plt.hist(county.loc[county['stsip_dummy']=='Before']['transit_stations_percent_change_from_baseline'].values,bins=30,label='Before')\n",
    "plt.hist(county.loc[county['stsip_dummy']=='During']['transit_stations_percent_change_from_baseline'].values,bins=30,alpha=0.9,label='During')\n",
    "plt.hist(county.loc[county['stsip_dummy']=='After']['transit_stations_percent_change_from_baseline'].values,bins=30,alpha=0.9,label='After')\n",
    "#plt.hist(dfTaxiDaily.loc[dfTaxiDaily['Year']==2020]['trip_count'].values,bins=30,alpha=0.5,label='2020')\n",
    "plt.legend()"
   ]
  },
  {
   "cell_type": "code",
   "execution_count": 16,
   "metadata": {},
   "outputs": [
    {
     "data": {
      "text/plain": [
       "Ttest_indResult(statistic=191.9060351081645, pvalue=0.0)"
      ]
     },
     "execution_count": 16,
     "metadata": {},
     "output_type": "execute_result"
    }
   ],
   "source": [
    "stats.ttest_ind(county.loc[county['stsip_dummy']=='Before']['transit_stations_percent_change_from_baseline'],\n",
    "                county.loc[county['stsip_dummy']=='During']['transit_stations_percent_change_from_baseline'])\n"
   ]
  },
  {
   "cell_type": "code",
   "execution_count": 17,
   "metadata": {},
   "outputs": [
    {
     "data": {
      "text/plain": [
       "Ttest_indResult(statistic=-110.34914572631634, pvalue=0.0)"
      ]
     },
     "execution_count": 17,
     "metadata": {},
     "output_type": "execute_result"
    }
   ],
   "source": [
    "stats.ttest_ind(county.loc[county['stsip_dummy']=='During']['transit_stations_percent_change_from_baseline'],\n",
    "                county.loc[county['stsip_dummy']=='After']['transit_stations_percent_change_from_baseline'])"
   ]
  },
  {
   "cell_type": "code",
   "execution_count": 18,
   "metadata": {},
   "outputs": [
    {
     "data": {
      "text/plain": [
       "Ttest_indResult(statistic=48.33697790986899, pvalue=0.0)"
      ]
     },
     "execution_count": 18,
     "metadata": {},
     "output_type": "execute_result"
    }
   ],
   "source": [
    "stats.ttest_ind(county.loc[county['stsip_dummy']=='Before']['transit_stations_percent_change_from_baseline'],\n",
    "                county.loc[county['stsip_dummy']=='After']['transit_stations_percent_change_from_baseline'])"
   ]
  },
  {
   "cell_type": "code",
   "execution_count": 19,
   "metadata": {},
   "outputs": [
    {
     "name": "stdout",
     "output_type": "stream",
     "text": [
      "                                          OLS Regression Results                                         \n",
      "=========================================================================================================\n",
      "Dep. Variable:     transit_stations_percent_change_from_baseline   R-squared:                       0.242\n",
      "Model:                                                       OLS   Adj. R-squared:                  0.241\n",
      "Method:                                            Least Squares   F-statistic:                     6411.\n",
      "Date:                                           Wed, 09 Dec 2020   Prob (F-statistic):               0.00\n",
      "Time:                                                   10:33:35   Log-Likelihood:            -5.4182e+05\n",
      "No. Observations:                                         120805   AIC:                         1.084e+06\n",
      "Df Residuals:                                             120798   BIC:                         1.084e+06\n",
      "Df Model:                                                      6                                         \n",
      "Covariance Type:                                       nonrobust                                         \n",
      "=========================================================================================\n",
      "                            coef    std err          t      P>|t|      [0.025      0.975]\n",
      "-----------------------------------------------------------------------------------------\n",
      "stsip_dummy[After]       -9.4314      0.135    -69.997      0.000      -9.696      -9.167\n",
      "stsip_dummy[Before]      -5.1901      0.399    -13.009      0.000      -5.972      -4.408\n",
      "stsip_dummy[During]     -19.9059      0.258    -77.209      0.000     -20.411     -19.401\n",
      "stsip_dummy[Never]       -4.6894      0.254    -18.485      0.000      -5.187      -4.192\n",
      "stbus_dummy[T.Before]     4.4280      0.402     11.020      0.000       3.640       5.216\n",
      "stbus_dummy[T.During]   -11.2870      0.272    -41.529      0.000     -11.820     -10.754\n",
      "stbus_dummy[T.Never]    -10.8098      0.266    -40.635      0.000     -11.331     -10.288\n",
      "==============================================================================\n",
      "Omnibus:                     3937.688   Durbin-Watson:                   0.239\n",
      "Prob(Omnibus):                  0.000   Jarque-Bera (JB):             7860.229\n",
      "Skew:                          -0.236   Prob(JB):                         0.00\n",
      "Kurtosis:                       4.157   Cond. No.                         8.09\n",
      "==============================================================================\n",
      "\n",
      "Warnings:\n",
      "[1] Standard Errors assume that the covariance matrix of the errors is correctly specified.\n"
     ]
    }
   ],
   "source": [
    "lm = smf.ols(formula='transit_stations_percent_change_from_baseline~stsip_dummy+stbus_dummy-1', data = county).fit()\n",
    "print(lm.summary())"
   ]
  },
  {
   "cell_type": "code",
   "execution_count": 20,
   "metadata": {},
   "outputs": [
    {
     "name": "stdout",
     "output_type": "stream",
     "text": [
      "                                          OLS Regression Results                                         \n",
      "=========================================================================================================\n",
      "Dep. Variable:     transit_stations_percent_change_from_baseline   R-squared:                       0.210\n",
      "Model:                                                       OLS   Adj. R-squared:                  0.210\n",
      "Method:                                            Least Squares   F-statistic:                 1.069e+04\n",
      "Date:                                           Wed, 09 Dec 2020   Prob (F-statistic):               0.00\n",
      "Time:                                                   10:33:35   Log-Likelihood:            -5.4430e+05\n",
      "No. Observations:                                         120805   AIC:                         1.089e+06\n",
      "Df Residuals:                                             120801   BIC:                         1.089e+06\n",
      "Df Model:                                                      3                                         \n",
      "Covariance Type:                                       nonrobust                                         \n",
      "=======================================================================================\n",
      "                          coef    std err          t      P>|t|      [0.025      0.975]\n",
      "---------------------------------------------------------------------------------------\n",
      "stbus_dummy[After]     -9.9959      0.124    -80.723      0.000     -10.239      -9.753\n",
      "stbus_dummy[Before]    -0.7743      0.115     -6.725      0.000      -1.000      -0.549\n",
      "stbus_dummy[During]   -29.1814      0.121   -241.571      0.000     -29.418     -28.945\n",
      "stbus_dummy[Never]    -20.9471      0.153   -136.748      0.000     -21.247     -20.647\n",
      "==============================================================================\n",
      "Omnibus:                     3478.607   Durbin-Watson:                   0.231\n",
      "Prob(Omnibus):                  0.000   Jarque-Bera (JB):             6614.417\n",
      "Skew:                          -0.220   Prob(JB):                         0.00\n",
      "Kurtosis:                       4.058   Cond. No.                         1.33\n",
      "==============================================================================\n",
      "\n",
      "Warnings:\n",
      "[1] Standard Errors assume that the covariance matrix of the errors is correctly specified.\n"
     ]
    }
   ],
   "source": [
    "lm = smf.ols(formula='transit_stations_percent_change_from_baseline~stbus_dummy-1', data = county).fit()\n",
    "print(lm.summary())"
   ]
  },
  {
   "cell_type": "code",
   "execution_count": 21,
   "metadata": {},
   "outputs": [
    {
     "data": {
      "text/html": [
       "<div>\n",
       "<style scoped>\n",
       "    .dataframe tbody tr th:only-of-type {\n",
       "        vertical-align: middle;\n",
       "    }\n",
       "\n",
       "    .dataframe tbody tr th {\n",
       "        vertical-align: top;\n",
       "    }\n",
       "\n",
       "    .dataframe thead th {\n",
       "        text-align: right;\n",
       "    }\n",
       "</style>\n",
       "<table border=\"1\" class=\"dataframe\">\n",
       "  <thead>\n",
       "    <tr style=\"text-align: right;\">\n",
       "      <th></th>\n",
       "      <th>Unnamed: 0</th>\n",
       "      <th>country_region_code</th>\n",
       "      <th>country_region</th>\n",
       "      <th>sub_region_1</th>\n",
       "      <th>sub_region_2</th>\n",
       "      <th>metro_area</th>\n",
       "      <th>iso_3166_2_code</th>\n",
       "      <th>census_fips_code</th>\n",
       "      <th>date</th>\n",
       "      <th>retail_and_recreation_percent_change_from_baseline</th>\n",
       "      <th>...</th>\n",
       "      <th>statefips_str</th>\n",
       "      <th>Geo_FIPS</th>\n",
       "      <th>SE_A00001_001</th>\n",
       "      <th>SE_A00002_002</th>\n",
       "      <th>SE_A00002_003</th>\n",
       "      <th>stsip_dummy</th>\n",
       "      <th>localsip_dummy</th>\n",
       "      <th>stbus_dummy</th>\n",
       "      <th>stres_dummy</th>\n",
       "      <th>stsip_dummy_prediction</th>\n",
       "    </tr>\n",
       "  </thead>\n",
       "  <tbody>\n",
       "    <tr>\n",
       "      <th>0</th>\n",
       "      <td>0</td>\n",
       "      <td>US</td>\n",
       "      <td>United States</td>\n",
       "      <td>Alabama</td>\n",
       "      <td>Baldwin County</td>\n",
       "      <td>NaN</td>\n",
       "      <td>NaN</td>\n",
       "      <td>1003.0</td>\n",
       "      <td>2020-02-15</td>\n",
       "      <td>17.0</td>\n",
       "      <td>...</td>\n",
       "      <td>1</td>\n",
       "      <td>1003</td>\n",
       "      <td>208107</td>\n",
       "      <td>130.9019</td>\n",
       "      <td>1589.793757</td>\n",
       "      <td>Before</td>\n",
       "      <td>Never</td>\n",
       "      <td>Before</td>\n",
       "      <td>Before</td>\n",
       "      <td>-1.882626</td>\n",
       "    </tr>\n",
       "    <tr>\n",
       "      <th>1</th>\n",
       "      <td>1</td>\n",
       "      <td>US</td>\n",
       "      <td>United States</td>\n",
       "      <td>Alabama</td>\n",
       "      <td>Baldwin County</td>\n",
       "      <td>NaN</td>\n",
       "      <td>NaN</td>\n",
       "      <td>1003.0</td>\n",
       "      <td>2020-02-16</td>\n",
       "      <td>8.0</td>\n",
       "      <td>...</td>\n",
       "      <td>1</td>\n",
       "      <td>1003</td>\n",
       "      <td>208107</td>\n",
       "      <td>130.9019</td>\n",
       "      <td>1589.793757</td>\n",
       "      <td>Before</td>\n",
       "      <td>Never</td>\n",
       "      <td>Before</td>\n",
       "      <td>Before</td>\n",
       "      <td>-1.882626</td>\n",
       "    </tr>\n",
       "    <tr>\n",
       "      <th>2</th>\n",
       "      <td>2</td>\n",
       "      <td>US</td>\n",
       "      <td>United States</td>\n",
       "      <td>Alabama</td>\n",
       "      <td>Baldwin County</td>\n",
       "      <td>NaN</td>\n",
       "      <td>NaN</td>\n",
       "      <td>1003.0</td>\n",
       "      <td>2020-02-17</td>\n",
       "      <td>9.0</td>\n",
       "      <td>...</td>\n",
       "      <td>1</td>\n",
       "      <td>1003</td>\n",
       "      <td>208107</td>\n",
       "      <td>130.9019</td>\n",
       "      <td>1589.793757</td>\n",
       "      <td>Before</td>\n",
       "      <td>Never</td>\n",
       "      <td>Before</td>\n",
       "      <td>Before</td>\n",
       "      <td>-1.882626</td>\n",
       "    </tr>\n",
       "    <tr>\n",
       "      <th>3</th>\n",
       "      <td>3</td>\n",
       "      <td>US</td>\n",
       "      <td>United States</td>\n",
       "      <td>Alabama</td>\n",
       "      <td>Baldwin County</td>\n",
       "      <td>NaN</td>\n",
       "      <td>NaN</td>\n",
       "      <td>1003.0</td>\n",
       "      <td>2020-02-18</td>\n",
       "      <td>7.0</td>\n",
       "      <td>...</td>\n",
       "      <td>1</td>\n",
       "      <td>1003</td>\n",
       "      <td>208107</td>\n",
       "      <td>130.9019</td>\n",
       "      <td>1589.793757</td>\n",
       "      <td>Before</td>\n",
       "      <td>Never</td>\n",
       "      <td>Before</td>\n",
       "      <td>Before</td>\n",
       "      <td>-1.882626</td>\n",
       "    </tr>\n",
       "    <tr>\n",
       "      <th>4</th>\n",
       "      <td>4</td>\n",
       "      <td>US</td>\n",
       "      <td>United States</td>\n",
       "      <td>Alabama</td>\n",
       "      <td>Baldwin County</td>\n",
       "      <td>NaN</td>\n",
       "      <td>NaN</td>\n",
       "      <td>1003.0</td>\n",
       "      <td>2020-02-19</td>\n",
       "      <td>12.0</td>\n",
       "      <td>...</td>\n",
       "      <td>1</td>\n",
       "      <td>1003</td>\n",
       "      <td>208107</td>\n",
       "      <td>130.9019</td>\n",
       "      <td>1589.793757</td>\n",
       "      <td>Before</td>\n",
       "      <td>Never</td>\n",
       "      <td>Before</td>\n",
       "      <td>Before</td>\n",
       "      <td>-1.882626</td>\n",
       "    </tr>\n",
       "  </tbody>\n",
       "</table>\n",
       "<p>5 rows × 55 columns</p>\n",
       "</div>"
      ],
      "text/plain": [
       "   Unnamed: 0 country_region_code country_region sub_region_1    sub_region_2  \\\n",
       "0           0                  US  United States      Alabama  Baldwin County   \n",
       "1           1                  US  United States      Alabama  Baldwin County   \n",
       "2           2                  US  United States      Alabama  Baldwin County   \n",
       "3           3                  US  United States      Alabama  Baldwin County   \n",
       "4           4                  US  United States      Alabama  Baldwin County   \n",
       "\n",
       "   metro_area  iso_3166_2_code  census_fips_code       date  \\\n",
       "0         NaN              NaN            1003.0 2020-02-15   \n",
       "1         NaN              NaN            1003.0 2020-02-16   \n",
       "2         NaN              NaN            1003.0 2020-02-17   \n",
       "3         NaN              NaN            1003.0 2020-02-18   \n",
       "4         NaN              NaN            1003.0 2020-02-19   \n",
       "\n",
       "   retail_and_recreation_percent_change_from_baseline  ...  statefips_str  \\\n",
       "0                                               17.0   ...              1   \n",
       "1                                                8.0   ...              1   \n",
       "2                                                9.0   ...              1   \n",
       "3                                                7.0   ...              1   \n",
       "4                                               12.0   ...              1   \n",
       "\n",
       "   Geo_FIPS  SE_A00001_001  SE_A00002_002  SE_A00002_003  stsip_dummy  \\\n",
       "0      1003         208107       130.9019    1589.793757       Before   \n",
       "1      1003         208107       130.9019    1589.793757       Before   \n",
       "2      1003         208107       130.9019    1589.793757       Before   \n",
       "3      1003         208107       130.9019    1589.793757       Before   \n",
       "4      1003         208107       130.9019    1589.793757       Before   \n",
       "\n",
       "   localsip_dummy stbus_dummy  stres_dummy stsip_dummy_prediction  \n",
       "0           Never      Before       Before              -1.882626  \n",
       "1           Never      Before       Before              -1.882626  \n",
       "2           Never      Before       Before              -1.882626  \n",
       "3           Never      Before       Before              -1.882626  \n",
       "4           Never      Before       Before              -1.882626  \n",
       "\n",
       "[5 rows x 55 columns]"
      ]
     },
     "execution_count": 21,
     "metadata": {},
     "output_type": "execute_result"
    }
   ],
   "source": [
    "county.head()"
   ]
  },
  {
   "cell_type": "code",
   "execution_count": 22,
   "metadata": {},
   "outputs": [
    {
     "name": "stdout",
     "output_type": "stream",
     "text": [
      "                                          OLS Regression Results                                         \n",
      "=========================================================================================================\n",
      "Dep. Variable:     transit_stations_percent_change_from_baseline   R-squared:                       0.284\n",
      "Model:                                                       OLS   Adj. R-squared:                  0.284\n",
      "Method:                                            Least Squares   F-statistic:                 1.198e+04\n",
      "Date:                                           Wed, 09 Dec 2020   Prob (F-statistic):               0.00\n",
      "Time:                                                   10:33:36   Log-Likelihood:            -5.3834e+05\n",
      "No. Observations:                                         120805   AIC:                         1.077e+06\n",
      "Df Residuals:                                             120800   BIC:                         1.077e+06\n",
      "Df Model:                                                      4                                         \n",
      "Covariance Type:                                       nonrobust                                         \n",
      "=======================================================================================\n",
      "                          coef    std err          t      P>|t|      [0.025      0.975]\n",
      "---------------------------------------------------------------------------------------\n",
      "stsip_dummy[After]     -7.3518      0.133    -55.453      0.000      -7.612      -7.092\n",
      "stsip_dummy[Before]     1.3256      0.112     11.786      0.000       1.105       1.546\n",
      "stsip_dummy[During]   -26.9721      0.110   -245.483      0.000     -27.187     -26.757\n",
      "stsip_dummy[Never]     -8.9172      0.153    -58.296      0.000      -9.217      -8.617\n",
      "SE_A00001_001       -1.159e-05   1.09e-07   -106.421      0.000   -1.18e-05   -1.14e-05\n",
      "==============================================================================\n",
      "Omnibus:                     4676.662   Durbin-Watson:                   0.255\n",
      "Prob(Omnibus):                  0.000   Jarque-Bera (JB):            13402.367\n",
      "Skew:                          -0.130   Prob(JB):                         0.00\n",
      "Kurtosis:                       4.611   Cond. No.                     1.57e+06\n",
      "==============================================================================\n",
      "\n",
      "Warnings:\n",
      "[1] Standard Errors assume that the covariance matrix of the errors is correctly specified.\n",
      "[2] The condition number is large, 1.57e+06. This might indicate that there are\n",
      "strong multicollinearity or other numerical problems.\n"
     ]
    }
   ],
   "source": [
    "lm = smf.ols(formula='transit_stations_percent_change_from_baseline~stsip_dummy+SE_A00001_001-1', data = county).fit()\n",
    "print(lm.summary())"
   ]
  },
  {
   "cell_type": "code",
   "execution_count": 23,
   "metadata": {},
   "outputs": [],
   "source": [
    "county['stsip_dummy_prediction'] = lm.predict()"
   ]
  },
  {
   "cell_type": "code",
   "execution_count": 24,
   "metadata": {},
   "outputs": [
    {
     "data": {
      "text/plain": [
       "<matplotlib.axes._subplots.AxesSubplot at 0x7fd98c45cdf0>"
      ]
     },
     "execution_count": 24,
     "metadata": {},
     "output_type": "execute_result"
    },
    {
     "data": {
      "image/png": "[encoded data removed]",
      "text/plain": [
       "<Figure size 432x288 with 1 Axes>"
      ]
     },
     "metadata": {
      "needs_background": "light"
     },
     "output_type": "display_data"
    }
   ],
   "source": [
    "fig, ax = plt.subplots() #get axis to plot on\n",
    "county.plot(ax=ax,kind='scatter',x='stsip_dummy', y='transit_stations_percent_change_from_baseline') #show the data\n",
    "#ax.plot(county['stsip_dummy'],county['stsip_dummy_prediction'],'r-'); #show the regression line"
   ]
  },
  {
   "cell_type": "code",
   "execution_count": 25,
   "metadata": {},
   "outputs": [
    {
     "data": {
      "image/png": "[encoded data removed]",
      "text/plain": [
       "<Figure size 432x288 with 1 Axes>"
      ]
     },
     "metadata": {
      "needs_background": "light"
     },
     "output_type": "display_data"
    }
   ],
   "source": [
    "county.loc[county['census_fips_code'] == 1003].plot(kind='scatter',x='stsip_dummy', y='transit_stations_percent_change_from_baseline')\n",
    "\n",
    "plt.show()"
   ]
  },
  {
   "cell_type": "code",
   "execution_count": 26,
   "metadata": {},
   "outputs": [],
   "source": [
    "sip_agg = county.groupby(['sub_region_1', 'sub_region_2','census_fips_code', \n",
    "                'SE_A00001_001','stsip_dummy'])['transit_stations_percent_change_from_baseline'].mean().reset_index()"
   ]
  },
  {
   "cell_type": "code",
   "execution_count": 27,
   "metadata": {},
   "outputs": [],
   "source": [
    "res_agg = county.groupby(['sub_region_1', 'sub_region_2','census_fips_code', \n",
    "                'SE_A00001_001','stres_dummy'])['transit_stations_percent_change_from_baseline'].mean().reset_index()"
   ]
  },
  {
   "cell_type": "code",
   "execution_count": 28,
   "metadata": {},
   "outputs": [],
   "source": [
    "bus_agg = county.groupby(['sub_region_1', 'sub_region_2','census_fips_code', \n",
    "                'SE_A00001_001','stbus_dummy'])['transit_stations_percent_change_from_baseline'].mean().reset_index()"
   ]
  },
  {
   "cell_type": "code",
   "execution_count": 29,
   "metadata": {},
   "outputs": [
    {
     "name": "stdout",
     "output_type": "stream",
     "text": [
      "                                          OLS Regression Results                                         \n",
      "=========================================================================================================\n",
      "Dep. Variable:     transit_stations_percent_change_from_baseline   R-squared:                       0.270\n",
      "Model:                                                       OLS   Adj. R-squared:                  0.270\n",
      "Method:                                            Least Squares   F-statistic:                     371.3\n",
      "Date:                                           Wed, 09 Dec 2020   Prob (F-statistic):          4.05e-205\n",
      "Time:                                                   10:33:36   Log-Likelihood:                -12963.\n",
      "No. Observations:                                           3010   AIC:                         2.593e+04\n",
      "Df Residuals:                                               3006   BIC:                         2.596e+04\n",
      "Df Model:                                                      3                                         \n",
      "Covariance Type:                                       nonrobust                                         \n",
      "=======================================================================================\n",
      "                          coef    std err          t      P>|t|      [0.025      0.975]\n",
      "---------------------------------------------------------------------------------------\n",
      "stsip_dummy[After]    -10.7958      0.607    -17.775      0.000     -11.987      -9.605\n",
      "stsip_dummy[Before]    -3.1480      0.573     -5.494      0.000      -4.272      -2.024\n",
      "stsip_dummy[During]   -29.8481      0.587    -50.855      0.000     -30.999     -28.697\n",
      "stsip_dummy[Never]    -15.2930      1.225    -12.481      0.000     -17.695     -12.890\n",
      "==============================================================================\n",
      "Omnibus:                      209.523   Durbin-Watson:                   1.315\n",
      "Prob(Omnibus):                  0.000   Jarque-Bera (JB):              398.606\n",
      "Skew:                          -0.489   Prob(JB):                     2.78e-87\n",
      "Kurtosis:                       4.490   Cond. No.                         2.14\n",
      "==============================================================================\n",
      "\n",
      "Warnings:\n",
      "[1] Standard Errors assume that the covariance matrix of the errors is correctly specified.\n"
     ]
    }
   ],
   "source": [
    "lm = smf.ols(formula='transit_stations_percent_change_from_baseline~stsip_dummy-1', data = sip_agg).fit()\n",
    "print(lm.summary())"
   ]
  },
  {
   "cell_type": "code",
   "execution_count": 30,
   "metadata": {},
   "outputs": [],
   "source": [
    "sip_agg['stsip_dummy_prediction'] = lm.predict()"
   ]
  },
  {
   "cell_type": "code",
   "execution_count": 31,
   "metadata": {},
   "outputs": [],
   "source": [
    "sort_dict = {'Never':0,'Before':1, 'During':2, 'After':3}"
   ]
  },
  {
   "cell_type": "code",
   "execution_count": 32,
   "metadata": {},
   "outputs": [],
   "source": [
    "sip_agg['order'] = sip_agg['stsip_dummy']"
   ]
  },
  {
   "cell_type": "code",
   "execution_count": 33,
   "metadata": {},
   "outputs": [],
   "source": [
    "sip_agg['order'] = sip_agg['order'].map(sort_dict)"
   ]
  },
  {
   "cell_type": "code",
   "execution_count": 34,
   "metadata": {},
   "outputs": [],
   "source": [
    "sip_agg.sort_values(['census_fips_code','order'], inplace = True)"
   ]
  },
  {
   "cell_type": "code",
   "execution_count": 35,
   "metadata": {},
   "outputs": [
    {
     "data": {
      "image/png": "[encoded data removed]",
      "text/plain": [
       "<Figure size 432x288 with 1 Axes>"
      ]
     },
     "metadata": {
      "needs_background": "light"
     },
     "output_type": "display_data"
    }
   ],
   "source": [
    "fig, ax = plt.subplots() #get axis to plot on\n",
    "sip_agg[~(sip_agg['stsip_dummy']== 'Never')].plot(ax=ax,kind='scatter',x='stsip_dummy', y='transit_stations_percent_change_from_baseline') #show the data\n",
    "ax.plot(county['stsip_dummy'],county['stsip_dummy_prediction'],'r-'); #show the regression line"
   ]
  },
  {
   "cell_type": "code",
   "execution_count": 36,
   "metadata": {},
   "outputs": [
    {
     "data": {
      "text/html": [
       "<div>\n",
       "<style scoped>\n",
       "    .dataframe tbody tr th:only-of-type {\n",
       "        vertical-align: middle;\n",
       "    }\n",
       "\n",
       "    .dataframe tbody tr th {\n",
       "        vertical-align: top;\n",
       "    }\n",
       "\n",
       "    .dataframe thead th {\n",
       "        text-align: right;\n",
       "    }\n",
       "</style>\n",
       "<table border=\"1\" class=\"dataframe\">\n",
       "  <thead>\n",
       "    <tr style=\"text-align: right;\">\n",
       "      <th></th>\n",
       "      <th>Unnamed: 0</th>\n",
       "      <th>country_region_code</th>\n",
       "      <th>country_region</th>\n",
       "      <th>sub_region_1</th>\n",
       "      <th>sub_region_2</th>\n",
       "      <th>metro_area</th>\n",
       "      <th>iso_3166_2_code</th>\n",
       "      <th>census_fips_code</th>\n",
       "      <th>date</th>\n",
       "      <th>retail_and_recreation_percent_change_from_baseline</th>\n",
       "      <th>...</th>\n",
       "      <th>statefips_str</th>\n",
       "      <th>Geo_FIPS</th>\n",
       "      <th>SE_A00001_001</th>\n",
       "      <th>SE_A00002_002</th>\n",
       "      <th>SE_A00002_003</th>\n",
       "      <th>stsip_dummy</th>\n",
       "      <th>localsip_dummy</th>\n",
       "      <th>stbus_dummy</th>\n",
       "      <th>stres_dummy</th>\n",
       "      <th>stsip_dummy_prediction</th>\n",
       "    </tr>\n",
       "  </thead>\n",
       "  <tbody>\n",
       "  </tbody>\n",
       "</table>\n",
       "<p>0 rows × 55 columns</p>\n",
       "</div>"
      ],
      "text/plain": [
       "Empty DataFrame\n",
       "Columns: [Unnamed: 0, country_region_code, country_region, sub_region_1, sub_region_2, metro_area, iso_3166_2_code, census_fips_code, date, retail_and_recreation_percent_change_from_baseline, grocery_and_pharmacy_percent_change_from_baseline, parks_percent_change_from_baseline, transit_stations_percent_change_from_baseline, workplaces_percent_change_from_baseline, residential_percent_change_from_baseline, fips, stfips, stname, countyfips, countyname, cityname, stsipstart, stsipend, stsipnotes, localsipstart, localsipend, localsipnotes, stbusclose, stbusclosenotes, localbusclose, localbusclosenotes, stbusopen, stbusopennotes, localbusopen, localbusopennotes, stresclose, stresclosenotes, stresopen, stresopennotes, localresclose, localresclosenotes, localresopen, localresopennotes, link, countyfips_str, statefips_str, Geo_FIPS, SE_A00001_001, SE_A00002_002, SE_A00002_003, stsip_dummy, localsip_dummy, stbus_dummy, stres_dummy, stsip_dummy_prediction]\n",
       "Index: []\n",
       "\n",
       "[0 rows x 55 columns]"
      ]
     },
     "execution_count": 36,
     "metadata": {},
     "output_type": "execute_result"
    }
   ],
   "source": [
    "county.loc[county['stbusclose'] == county['stbusopen']]"
   ]
  },
  {
   "cell_type": "code",
   "execution_count": 37,
   "metadata": {},
   "outputs": [
    {
     "data": {
      "text/plain": [
       "Ttest_indResult(statistic=-5.690333679003745, pvalue=1.2728445082957677e-08)"
      ]
     },
     "execution_count": 37,
     "metadata": {},
     "output_type": "execute_result"
    }
   ],
   "source": [
    "stats.ttest_ind(county.loc[county['stsip_dummy']=='During']['transit_stations_percent_change_from_baseline'],\n",
    "                county.loc[county['stbus_dummy']=='During']['transit_stations_percent_change_from_baseline'])\n"
   ]
  },
  {
   "cell_type": "code",
   "execution_count": 38,
   "metadata": {},
   "outputs": [],
   "source": [
    "import researchpy as rp"
   ]
  },
  {
   "cell_type": "code",
   "execution_count": 39,
   "metadata": {},
   "outputs": [
    {
     "data": {
      "text/plain": [
       "F_onewayResult(statistic=17556.006819154856, pvalue=0.0)"
      ]
     },
     "execution_count": 39,
     "metadata": {},
     "output_type": "execute_result"
    }
   ],
   "source": [
    "stats.f_oneway(county['transit_stations_percent_change_from_baseline'][county['stsip_dummy'] == 'Before'],\n",
    "               county['transit_stations_percent_change_from_baseline'][county['stsip_dummy'] == 'During'],\n",
    "               county['transit_stations_percent_change_from_baseline'][county['stsip_dummy'] == 'After'])"
   ]
  },
  {
   "cell_type": "code",
   "execution_count": 40,
   "metadata": {},
   "outputs": [
    {
     "name": "stdout",
     "output_type": "stream",
     "text": [
      "\n",
      "\n"
     ]
    },
    {
     "data": {
      "text/html": [
       "<div>\n",
       "<style scoped>\n",
       "    .dataframe tbody tr th:only-of-type {\n",
       "        vertical-align: middle;\n",
       "    }\n",
       "\n",
       "    .dataframe tbody tr th {\n",
       "        vertical-align: top;\n",
       "    }\n",
       "\n",
       "    .dataframe thead th {\n",
       "        text-align: right;\n",
       "    }\n",
       "</style>\n",
       "<table border=\"1\" class=\"dataframe\">\n",
       "  <thead>\n",
       "    <tr style=\"text-align: right;\">\n",
       "      <th></th>\n",
       "      <th>N</th>\n",
       "      <th>Mean</th>\n",
       "      <th>SD</th>\n",
       "      <th>SE</th>\n",
       "      <th>95% Conf.</th>\n",
       "      <th>Interval</th>\n",
       "    </tr>\n",
       "    <tr>\n",
       "      <th>stsip_dummy</th>\n",
       "      <th></th>\n",
       "      <th></th>\n",
       "      <th></th>\n",
       "      <th></th>\n",
       "      <th></th>\n",
       "      <th></th>\n",
       "    </tr>\n",
       "  </thead>\n",
       "  <tbody>\n",
       "    <tr>\n",
       "      <th>After</th>\n",
       "      <td>875</td>\n",
       "      <td>-10.7958</td>\n",
       "      <td>22.1719</td>\n",
       "      <td>0.7495</td>\n",
       "      <td>-12.2669</td>\n",
       "      <td>-9.3246</td>\n",
       "    </tr>\n",
       "    <tr>\n",
       "      <th>Before</th>\n",
       "      <td>983</td>\n",
       "      <td>-3.1480</td>\n",
       "      <td>11.8753</td>\n",
       "      <td>0.3788</td>\n",
       "      <td>-3.8913</td>\n",
       "      <td>-2.4047</td>\n",
       "    </tr>\n",
       "    <tr>\n",
       "      <th>During</th>\n",
       "      <td>937</td>\n",
       "      <td>-29.8481</td>\n",
       "      <td>18.1646</td>\n",
       "      <td>0.5934</td>\n",
       "      <td>-31.0126</td>\n",
       "      <td>-28.6835</td>\n",
       "    </tr>\n",
       "    <tr>\n",
       "      <th>Never</th>\n",
       "      <td>215</td>\n",
       "      <td>-15.2930</td>\n",
       "      <td>20.8812</td>\n",
       "      <td>1.4241</td>\n",
       "      <td>-18.1000</td>\n",
       "      <td>-12.4859</td>\n",
       "    </tr>\n",
       "  </tbody>\n",
       "</table>\n",
       "</div>"
      ],
      "text/plain": [
       "               N     Mean       SD      SE  95% Conf.  Interval\n",
       "stsip_dummy                                                    \n",
       "After        875 -10.7958  22.1719  0.7495   -12.2669   -9.3246\n",
       "Before       983  -3.1480  11.8753  0.3788    -3.8913   -2.4047\n",
       "During       937 -29.8481  18.1646  0.5934   -31.0126  -28.6835\n",
       "Never        215 -15.2930  20.8812  1.4241   -18.1000  -12.4859"
      ]
     },
     "execution_count": 40,
     "metadata": {},
     "output_type": "execute_result"
    }
   ],
   "source": [
    "rp.summary_cont(sip_agg['transit_stations_percent_change_from_baseline'].groupby(sip_agg['stsip_dummy']))"
   ]
  },
  {
   "cell_type": "code",
   "execution_count": 41,
   "metadata": {},
   "outputs": [
    {
     "data": {
      "text/plain": [
       "F_onewayResult(statistic=572.1141549309535, pvalue=5.832386131638522e-209)"
      ]
     },
     "execution_count": 41,
     "metadata": {},
     "output_type": "execute_result"
    }
   ],
   "source": [
    "stats.f_oneway(sip_agg['transit_stations_percent_change_from_baseline'][sip_agg['stsip_dummy'] == 'Before'],\n",
    "               sip_agg['transit_stations_percent_change_from_baseline'][sip_agg['stsip_dummy'] == 'During'],\n",
    "               sip_agg['transit_stations_percent_change_from_baseline'][sip_agg['stsip_dummy'] == 'After'])"
   ]
  },
  {
   "cell_type": "code",
   "execution_count": 42,
   "metadata": {},
   "outputs": [
    {
     "ename": "TypeError",
     "evalue": "boxplot() got an unexpected keyword argument 'by'",
     "output_type": "error",
     "traceback": [
      "\u001b[0;31m---------------------------------------------------------------------------\u001b[0m",
      "\u001b[0;31mTypeError\u001b[0m                                 Traceback (most recent call last)",
      "\u001b[0;32m<ipython-input-42-3fa66c195678>\u001b[0m in \u001b[0;36m<module>\u001b[0;34m\u001b[0m\n\u001b[1;32m      1\u001b[0m \u001b[0max\u001b[0m \u001b[0;34m=\u001b[0m \u001b[0mplt\u001b[0m\u001b[0;34m.\u001b[0m\u001b[0msubplot\u001b[0m\u001b[0;34m(\u001b[0m\u001b[0;36m1\u001b[0m\u001b[0;34m,\u001b[0m \u001b[0;36m1\u001b[0m\u001b[0;34m,\u001b[0m \u001b[0;36m1\u001b[0m\u001b[0;34m)\u001b[0m\u001b[0;34m\u001b[0m\u001b[0;34m\u001b[0m\u001b[0m\n\u001b[0;32m----> 2\u001b[0;31m \u001b[0max\u001b[0m\u001b[0;34m.\u001b[0m\u001b[0mboxplot\u001b[0m\u001b[0;34m(\u001b[0m\u001b[0msip_agg\u001b[0m\u001b[0;34m.\u001b[0m\u001b[0mtransit_stations_percent_change_from_baseline\u001b[0m\u001b[0;34m,\u001b[0m \u001b[0mby\u001b[0m \u001b[0;34m=\u001b[0m \u001b[0msip_agg\u001b[0m\u001b[0;34m[\u001b[0m\u001b[0;34m'stsip_dummy'\u001b[0m\u001b[0;34m]\u001b[0m\u001b[0;34m,\u001b[0m \u001b[0mwhis\u001b[0m\u001b[0;34m=\u001b[0m\u001b[0;34m[\u001b[0m\u001b[0;36m1\u001b[0m\u001b[0;34m,\u001b[0m \u001b[0;36m99\u001b[0m\u001b[0;34m]\u001b[0m\u001b[0;34m)\u001b[0m\u001b[0;34m\u001b[0m\u001b[0;34m\u001b[0m\u001b[0m\n\u001b[0m\u001b[1;32m      3\u001b[0m \u001b[0;31m#ax.set_yticklabels(10.0**np.arange(-1, 3, 1))\u001b[0m\u001b[0;34m\u001b[0m\u001b[0;34m\u001b[0m\u001b[0;34m\u001b[0m\u001b[0m\n\u001b[1;32m      4\u001b[0m \u001b[0;31m#ax.set_title('Taxi trip distance distribution, miles')\u001b[0m\u001b[0;34m\u001b[0m\u001b[0;34m\u001b[0m\u001b[0;34m\u001b[0m\u001b[0m\n\u001b[1;32m      5\u001b[0m \u001b[0mplt\u001b[0m\u001b[0;34m.\u001b[0m\u001b[0mshow\u001b[0m\u001b[0;34m(\u001b[0m\u001b[0;34m)\u001b[0m\u001b[0;34m\u001b[0m\u001b[0;34m\u001b[0m\u001b[0m\n",
      "\u001b[0;32m~/opt/anaconda3/lib/python3.8/site-packages/matplotlib/cbook/deprecation.py\u001b[0m in \u001b[0;36mwrapper\u001b[0;34m(*args, **kwargs)\u001b[0m\n\u001b[1;32m    294\u001b[0m                 f\"for the old name will be dropped %(removal)s.\")\n\u001b[1;32m    295\u001b[0m             \u001b[0mkwargs\u001b[0m\u001b[0;34m[\u001b[0m\u001b[0mnew\u001b[0m\u001b[0;34m]\u001b[0m \u001b[0;34m=\u001b[0m \u001b[0mkwargs\u001b[0m\u001b[0;34m.\u001b[0m\u001b[0mpop\u001b[0m\u001b[0;34m(\u001b[0m\u001b[0mold\u001b[0m\u001b[0;34m)\u001b[0m\u001b[0;34m\u001b[0m\u001b[0;34m\u001b[0m\u001b[0m\n\u001b[0;32m--> 296\u001b[0;31m         \u001b[0;32mreturn\u001b[0m \u001b[0mfunc\u001b[0m\u001b[0;34m(\u001b[0m\u001b[0;34m*\u001b[0m\u001b[0margs\u001b[0m\u001b[0;34m,\u001b[0m \u001b[0;34m**\u001b[0m\u001b[0mkwargs\u001b[0m\u001b[0;34m)\u001b[0m\u001b[0;34m\u001b[0m\u001b[0;34m\u001b[0m\u001b[0m\n\u001b[0m\u001b[1;32m    297\u001b[0m \u001b[0;34m\u001b[0m\u001b[0m\n\u001b[1;32m    298\u001b[0m     \u001b[0;31m# wrapper() must keep the same documented signature as func(): if we\u001b[0m\u001b[0;34m\u001b[0m\u001b[0;34m\u001b[0m\u001b[0;34m\u001b[0m\u001b[0m\n",
      "\u001b[0;32m~/opt/anaconda3/lib/python3.8/site-packages/matplotlib/__init__.py\u001b[0m in \u001b[0;36minner\u001b[0;34m(ax, data, *args, **kwargs)\u001b[0m\n\u001b[1;32m   1563\u001b[0m     \u001b[0;32mdef\u001b[0m \u001b[0minner\u001b[0m\u001b[0;34m(\u001b[0m\u001b[0max\u001b[0m\u001b[0;34m,\u001b[0m \u001b[0;34m*\u001b[0m\u001b[0margs\u001b[0m\u001b[0;34m,\u001b[0m \u001b[0mdata\u001b[0m\u001b[0;34m=\u001b[0m\u001b[0;32mNone\u001b[0m\u001b[0;34m,\u001b[0m \u001b[0;34m**\u001b[0m\u001b[0mkwargs\u001b[0m\u001b[0;34m)\u001b[0m\u001b[0;34m:\u001b[0m\u001b[0;34m\u001b[0m\u001b[0;34m\u001b[0m\u001b[0m\n\u001b[1;32m   1564\u001b[0m         \u001b[0;32mif\u001b[0m \u001b[0mdata\u001b[0m \u001b[0;32mis\u001b[0m \u001b[0;32mNone\u001b[0m\u001b[0;34m:\u001b[0m\u001b[0;34m\u001b[0m\u001b[0;34m\u001b[0m\u001b[0m\n\u001b[0;32m-> 1565\u001b[0;31m             \u001b[0;32mreturn\u001b[0m \u001b[0mfunc\u001b[0m\u001b[0;34m(\u001b[0m\u001b[0max\u001b[0m\u001b[0;34m,\u001b[0m \u001b[0;34m*\u001b[0m\u001b[0mmap\u001b[0m\u001b[0;34m(\u001b[0m\u001b[0msanitize_sequence\u001b[0m\u001b[0;34m,\u001b[0m \u001b[0margs\u001b[0m\u001b[0;34m)\u001b[0m\u001b[0;34m,\u001b[0m \u001b[0;34m**\u001b[0m\u001b[0mkwargs\u001b[0m\u001b[0;34m)\u001b[0m\u001b[0;34m\u001b[0m\u001b[0;34m\u001b[0m\u001b[0m\n\u001b[0m\u001b[1;32m   1566\u001b[0m \u001b[0;34m\u001b[0m\u001b[0m\n\u001b[1;32m   1567\u001b[0m         \u001b[0mbound\u001b[0m \u001b[0;34m=\u001b[0m \u001b[0mnew_sig\u001b[0m\u001b[0;34m.\u001b[0m\u001b[0mbind\u001b[0m\u001b[0;34m(\u001b[0m\u001b[0max\u001b[0m\u001b[0;34m,\u001b[0m \u001b[0;34m*\u001b[0m\u001b[0margs\u001b[0m\u001b[0;34m,\u001b[0m \u001b[0;34m**\u001b[0m\u001b[0mkwargs\u001b[0m\u001b[0;34m)\u001b[0m\u001b[0;34m\u001b[0m\u001b[0;34m\u001b[0m\u001b[0m\n",
      "\u001b[0;31mTypeError\u001b[0m: boxplot() got an unexpected keyword argument 'by'"
     ]
    },
    {
     "data": {
      "image/png": "[encoded data removed]",
      "text/plain": [
       "<Figure size 432x288 with 1 Axes>"
      ]
     },
     "metadata": {
      "needs_background": "light"
     },
     "output_type": "display_data"
    }
   ],
   "source": [
    "ax = plt.subplot(1, 1, 1)\n",
    "ax.boxplot(sip_agg.transit_stations_percent_change_from_baseline, by = sip_agg['stsip_dummy'], whis=[1, 99])\n",
    "#ax.set_yticklabels(10.0**np.arange(-1, 3, 1))\n",
    "#ax.set_title('Taxi trip distance distribution, miles')\n",
    "plt.show()"
   ]
  },
  {
   "cell_type": "code",
   "execution_count": null,
   "metadata": {},
   "outputs": [],
   "source": [
    "bus_agg.boxplot('transit_stations_percent_change_from_baseline', by = 'stbus_dummy', whis = [1,99])"
   ]
  },
  {
   "cell_type": "code",
   "execution_count": null,
   "metadata": {},
   "outputs": [],
   "source": [
    "# visualization ideas\n",
    "# box plots for distribution\n",
    "# distribution chart with semi-transparency\n",
    "# maps"
   ]
  },
  {
   "cell_type": "code",
   "execution_count": null,
   "metadata": {},
   "outputs": [],
   "source": []
  },
  {
   "cell_type": "code",
   "execution_count": null,
   "metadata": {},
   "outputs": [],
   "source": []
  }
 ],
 "metadata": {
  "kernelspec": {
   "display_name": "Python 3",
   "language": "python",
   "name": "python3"
  },
  "language_info": {
   "codemirror_mode": {
    "name": "ipython",
    "version": 3
   },
   "file_extension": ".py",
   "mimetype": "text/x-python",
   "name": "python",
   "nbconvert_exporter": "python",
   "pygments_lexer": "ipython3",
   "version": "3.8.3"
  }
 },
 "nbformat": 4,
 "nbformat_minor": 4
}
