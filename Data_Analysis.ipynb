{
 "cells": [
  {
   "cell_type": "code",
   "execution_count": 21,
   "metadata": {},
   "outputs": [],
   "source": [
    "import sys\n",
    "if \"/Library/TeX/texbin/xelatex\" not in sys.path:\n",
    "    print('adding path') # I just add this to know if the path was present or not.\n",
    "    sys.path.append(\"/Library/TeX/texbin/xelatex\")"
   ]
  },
  {
   "cell_type": "code",
   "execution_count": 22,
   "metadata": {},
   "outputs": [],
   "source": [
    "import pandas as pd\n",
    "import numpy as np\n",
    "import statsmodels.formula.api as smf\n",
    "import matplotlib.pylab as plt\n",
    "import math\n",
    "import os \n",
    "import seaborn as sns #for styling the plots\n",
    "import warnings\n",
    "import urllib.request\n",
    "%matplotlib inline\n",
    "import datetime as dt\n",
    "from scipy import stats\n",
    "import matplotlib.ticker as mtick\n"
   ]
  },
  {
   "cell_type": "code",
   "execution_count": null,
   "metadata": {},
   "outputs": [],
   "source": []
  },
  {
   "cell_type": "code",
   "execution_count": 23,
   "metadata": {},
   "outputs": [
    {
     "name": "stderr",
     "output_type": "stream",
     "text": [
      "/Users/amc/opt/anaconda3/lib/python3.8/site-packages/IPython/core/interactiveshell.py:3071: DtypeWarning: Columns (23,30,32,34,36,40,42,44,46) have mixed types.Specify dtype option on import or set low_memory=False.\n",
      "  has_raised = await self.run_ast_nodes(code_ast.body, cell_name,\n"
     ]
    }
   ],
   "source": [
    "county = pd.read_csv('Data/county_cleaned.csv', parse_dates = ['date','stsipstart', 'stsipend', 'localsipstart', 'localsipend','stbusclose', \n",
    "                'localbusclose', 'stbusopen','localbusopen','stresclose','stresopen',\n",
    "                'localresclose','localresopen'])\n",
    "state = pd.read_csv('Data/state_cleaned.csv')\n",
    "policy = pd.read_csv('Data/policy_cleaned.csv')"
   ]
  },
  {
   "cell_type": "code",
   "execution_count": 24,
   "metadata": {},
   "outputs": [
    {
     "data": {
      "text/html": [
       "<div>\n",
       "<style scoped>\n",
       "    .dataframe tbody tr th:only-of-type {\n",
       "        vertical-align: middle;\n",
       "    }\n",
       "\n",
       "    .dataframe tbody tr th {\n",
       "        vertical-align: top;\n",
       "    }\n",
       "\n",
       "    .dataframe thead th {\n",
       "        text-align: right;\n",
       "    }\n",
       "</style>\n",
       "<table border=\"1\" class=\"dataframe\">\n",
       "  <thead>\n",
       "    <tr style=\"text-align: right;\">\n",
       "      <th></th>\n",
       "      <th>Unnamed: 0</th>\n",
       "      <th>country_region_code</th>\n",
       "      <th>country_region</th>\n",
       "      <th>sub_region_1</th>\n",
       "      <th>sub_region_2</th>\n",
       "      <th>metro_area</th>\n",
       "      <th>iso_3166_2_code</th>\n",
       "      <th>census_fips_code</th>\n",
       "      <th>date</th>\n",
       "      <th>retail_and_recreation_percent_change_from_baseline</th>\n",
       "      <th>...</th>\n",
       "      <th>localresopennotes</th>\n",
       "      <th>dummyresclose</th>\n",
       "      <th>dummyresopen</th>\n",
       "      <th>link</th>\n",
       "      <th>countyfips_str</th>\n",
       "      <th>statefips_str</th>\n",
       "      <th>Geo_FIPS</th>\n",
       "      <th>SE_A00001_001</th>\n",
       "      <th>SE_A00002_002</th>\n",
       "      <th>SE_A00002_003</th>\n",
       "    </tr>\n",
       "  </thead>\n",
       "  <tbody>\n",
       "    <tr>\n",
       "      <th>0</th>\n",
       "      <td>0</td>\n",
       "      <td>US</td>\n",
       "      <td>United States</td>\n",
       "      <td>Alabama</td>\n",
       "      <td>Baldwin County</td>\n",
       "      <td>NaN</td>\n",
       "      <td>NaN</td>\n",
       "      <td>1003.0</td>\n",
       "      <td>2020-02-15</td>\n",
       "      <td>17.0</td>\n",
       "      <td>...</td>\n",
       "      <td>NaN</td>\n",
       "      <td>0</td>\n",
       "      <td>0</td>\n",
       "      <td>re-open plan https://baldwincountyal.gov/docs/...</td>\n",
       "      <td>3</td>\n",
       "      <td>1</td>\n",
       "      <td>1003</td>\n",
       "      <td>208107</td>\n",
       "      <td>130.9019</td>\n",
       "      <td>1589.793757</td>\n",
       "    </tr>\n",
       "    <tr>\n",
       "      <th>1</th>\n",
       "      <td>1</td>\n",
       "      <td>US</td>\n",
       "      <td>United States</td>\n",
       "      <td>Alabama</td>\n",
       "      <td>Baldwin County</td>\n",
       "      <td>NaN</td>\n",
       "      <td>NaN</td>\n",
       "      <td>1003.0</td>\n",
       "      <td>2020-02-16</td>\n",
       "      <td>8.0</td>\n",
       "      <td>...</td>\n",
       "      <td>NaN</td>\n",
       "      <td>0</td>\n",
       "      <td>0</td>\n",
       "      <td>re-open plan https://baldwincountyal.gov/docs/...</td>\n",
       "      <td>3</td>\n",
       "      <td>1</td>\n",
       "      <td>1003</td>\n",
       "      <td>208107</td>\n",
       "      <td>130.9019</td>\n",
       "      <td>1589.793757</td>\n",
       "    </tr>\n",
       "    <tr>\n",
       "      <th>2</th>\n",
       "      <td>2</td>\n",
       "      <td>US</td>\n",
       "      <td>United States</td>\n",
       "      <td>Alabama</td>\n",
       "      <td>Baldwin County</td>\n",
       "      <td>NaN</td>\n",
       "      <td>NaN</td>\n",
       "      <td>1003.0</td>\n",
       "      <td>2020-02-17</td>\n",
       "      <td>9.0</td>\n",
       "      <td>...</td>\n",
       "      <td>NaN</td>\n",
       "      <td>0</td>\n",
       "      <td>0</td>\n",
       "      <td>re-open plan https://baldwincountyal.gov/docs/...</td>\n",
       "      <td>3</td>\n",
       "      <td>1</td>\n",
       "      <td>1003</td>\n",
       "      <td>208107</td>\n",
       "      <td>130.9019</td>\n",
       "      <td>1589.793757</td>\n",
       "    </tr>\n",
       "    <tr>\n",
       "      <th>3</th>\n",
       "      <td>3</td>\n",
       "      <td>US</td>\n",
       "      <td>United States</td>\n",
       "      <td>Alabama</td>\n",
       "      <td>Baldwin County</td>\n",
       "      <td>NaN</td>\n",
       "      <td>NaN</td>\n",
       "      <td>1003.0</td>\n",
       "      <td>2020-02-18</td>\n",
       "      <td>7.0</td>\n",
       "      <td>...</td>\n",
       "      <td>NaN</td>\n",
       "      <td>0</td>\n",
       "      <td>0</td>\n",
       "      <td>re-open plan https://baldwincountyal.gov/docs/...</td>\n",
       "      <td>3</td>\n",
       "      <td>1</td>\n",
       "      <td>1003</td>\n",
       "      <td>208107</td>\n",
       "      <td>130.9019</td>\n",
       "      <td>1589.793757</td>\n",
       "    </tr>\n",
       "    <tr>\n",
       "      <th>4</th>\n",
       "      <td>4</td>\n",
       "      <td>US</td>\n",
       "      <td>United States</td>\n",
       "      <td>Alabama</td>\n",
       "      <td>Baldwin County</td>\n",
       "      <td>NaN</td>\n",
       "      <td>NaN</td>\n",
       "      <td>1003.0</td>\n",
       "      <td>2020-02-19</td>\n",
       "      <td>12.0</td>\n",
       "      <td>...</td>\n",
       "      <td>NaN</td>\n",
       "      <td>0</td>\n",
       "      <td>0</td>\n",
       "      <td>re-open plan https://baldwincountyal.gov/docs/...</td>\n",
       "      <td>3</td>\n",
       "      <td>1</td>\n",
       "      <td>1003</td>\n",
       "      <td>208107</td>\n",
       "      <td>130.9019</td>\n",
       "      <td>1589.793757</td>\n",
       "    </tr>\n",
       "  </tbody>\n",
       "</table>\n",
       "<p>5 rows × 56 columns</p>\n",
       "</div>"
      ],
      "text/plain": [
       "   Unnamed: 0 country_region_code country_region sub_region_1    sub_region_2  \\\n",
       "0           0                  US  United States      Alabama  Baldwin County   \n",
       "1           1                  US  United States      Alabama  Baldwin County   \n",
       "2           2                  US  United States      Alabama  Baldwin County   \n",
       "3           3                  US  United States      Alabama  Baldwin County   \n",
       "4           4                  US  United States      Alabama  Baldwin County   \n",
       "\n",
       "   metro_area  iso_3166_2_code  census_fips_code       date  \\\n",
       "0         NaN              NaN            1003.0 2020-02-15   \n",
       "1         NaN              NaN            1003.0 2020-02-16   \n",
       "2         NaN              NaN            1003.0 2020-02-17   \n",
       "3         NaN              NaN            1003.0 2020-02-18   \n",
       "4         NaN              NaN            1003.0 2020-02-19   \n",
       "\n",
       "   retail_and_recreation_percent_change_from_baseline  ...  localresopennotes  \\\n",
       "0                                               17.0   ...                NaN   \n",
       "1                                                8.0   ...                NaN   \n",
       "2                                                9.0   ...                NaN   \n",
       "3                                                7.0   ...                NaN   \n",
       "4                                               12.0   ...                NaN   \n",
       "\n",
       "   dummyresclose  dummyresopen  \\\n",
       "0              0             0   \n",
       "1              0             0   \n",
       "2              0             0   \n",
       "3              0             0   \n",
       "4              0             0   \n",
       "\n",
       "                                                link  countyfips_str  \\\n",
       "0  re-open plan https://baldwincountyal.gov/docs/...               3   \n",
       "1  re-open plan https://baldwincountyal.gov/docs/...               3   \n",
       "2  re-open plan https://baldwincountyal.gov/docs/...               3   \n",
       "3  re-open plan https://baldwincountyal.gov/docs/...               3   \n",
       "4  re-open plan https://baldwincountyal.gov/docs/...               3   \n",
       "\n",
       "   statefips_str  Geo_FIPS SE_A00001_001  SE_A00002_002 SE_A00002_003  \n",
       "0              1      1003        208107       130.9019   1589.793757  \n",
       "1              1      1003        208107       130.9019   1589.793757  \n",
       "2              1      1003        208107       130.9019   1589.793757  \n",
       "3              1      1003        208107       130.9019   1589.793757  \n",
       "4              1      1003        208107       130.9019   1589.793757  \n",
       "\n",
       "[5 rows x 56 columns]"
      ]
     },
     "execution_count": 24,
     "metadata": {},
     "output_type": "execute_result"
    }
   ],
   "source": [
    "county.head()"
   ]
  },
  {
   "cell_type": "code",
   "execution_count": 25,
   "metadata": {},
   "outputs": [
    {
     "data": {
      "text/plain": [
       "Index(['Unnamed: 0', 'country_region_code', 'country_region', 'sub_region_1',\n",
       "       'sub_region_2', 'metro_area', 'iso_3166_2_code', 'census_fips_code',\n",
       "       'date', 'retail_and_recreation_percent_change_from_baseline',\n",
       "       'grocery_and_pharmacy_percent_change_from_baseline',\n",
       "       'parks_percent_change_from_baseline',\n",
       "       'transit_stations_percent_change_from_baseline',\n",
       "       'workplaces_percent_change_from_baseline',\n",
       "       'residential_percent_change_from_baseline', 'fips', 'stfips', 'stname',\n",
       "       'countyfips', 'countyname', 'cityname', 'stsipstart', 'stsipend',\n",
       "       'stsipnotes', 'localsipstart', 'localsipend', 'localsipnotes',\n",
       "       'dummysipstart', 'dummysipend', 'stbusclose', 'stbusclosenotes',\n",
       "       'localbusclose', 'localbusclosenotes', 'stbusopen', 'stbusopennotes',\n",
       "       'localbusopen', 'localbusopennotes', 'dummybusclose', 'dummybusopen',\n",
       "       'stresclose', 'stresclosenotes', 'stresopen', 'stresopennotes',\n",
       "       'localresclose', 'localresclosenotes', 'localresopen',\n",
       "       'localresopennotes', 'dummyresclose', 'dummyresopen', 'link',\n",
       "       'countyfips_str', 'statefips_str', 'Geo_FIPS', 'SE_A00001_001',\n",
       "       'SE_A00002_002', 'SE_A00002_003'],\n",
       "      dtype='object')"
      ]
     },
     "execution_count": 25,
     "metadata": {},
     "output_type": "execute_result"
    }
   ],
   "source": [
    "county.columns"
   ]
  },
  {
   "cell_type": "code",
   "execution_count": 26,
   "metadata": {},
   "outputs": [],
   "source": [
    "county = county.drop(['dummyresclose', 'dummyresopen','dummysipstart', \n",
    "                 'dummysipend','dummybusclose', 'dummybusopen'], axis = 1)"
   ]
  },
  {
   "cell_type": "code",
   "execution_count": 27,
   "metadata": {},
   "outputs": [
    {
     "data": {
      "text/html": [
       "<div>\n",
       "<style scoped>\n",
       "    .dataframe tbody tr th:only-of-type {\n",
       "        vertical-align: middle;\n",
       "    }\n",
       "\n",
       "    .dataframe tbody tr th {\n",
       "        vertical-align: top;\n",
       "    }\n",
       "\n",
       "    .dataframe thead th {\n",
       "        text-align: right;\n",
       "    }\n",
       "</style>\n",
       "<table border=\"1\" class=\"dataframe\">\n",
       "  <thead>\n",
       "    <tr style=\"text-align: right;\">\n",
       "      <th></th>\n",
       "      <th>sub_region_1</th>\n",
       "      <th>sub_region_2</th>\n",
       "      <th>date</th>\n",
       "      <th>transit_stations_percent_change_from_baseline</th>\n",
       "      <th>stsipstart</th>\n",
       "      <th>stsipend</th>\n",
       "      <th>localsipstart</th>\n",
       "      <th>localsipend</th>\n",
       "      <th>stbusclose</th>\n",
       "      <th>stbusopen</th>\n",
       "      <th>localbusclose</th>\n",
       "      <th>localbusopen</th>\n",
       "      <th>stresclose</th>\n",
       "      <th>stresopen</th>\n",
       "      <th>localresclose</th>\n",
       "      <th>localresopen</th>\n",
       "    </tr>\n",
       "  </thead>\n",
       "  <tbody>\n",
       "    <tr>\n",
       "      <th>0</th>\n",
       "      <td>Alabama</td>\n",
       "      <td>Baldwin County</td>\n",
       "      <td>2020-02-15</td>\n",
       "      <td>8.0</td>\n",
       "      <td>2020-04-04</td>\n",
       "      <td>2020-04-30</td>\n",
       "      <td>NaT</td>\n",
       "      <td>NaT</td>\n",
       "      <td>2020-03-28</td>\n",
       "      <td>2020-04-30</td>\n",
       "      <td>NaT</td>\n",
       "      <td>NaT</td>\n",
       "      <td>2020-03-19</td>\n",
       "      <td>2020-05-11</td>\n",
       "      <td>NaT</td>\n",
       "      <td>NaT</td>\n",
       "    </tr>\n",
       "    <tr>\n",
       "      <th>1</th>\n",
       "      <td>Alabama</td>\n",
       "      <td>Baldwin County</td>\n",
       "      <td>2020-02-16</td>\n",
       "      <td>7.0</td>\n",
       "      <td>2020-04-04</td>\n",
       "      <td>2020-04-30</td>\n",
       "      <td>NaT</td>\n",
       "      <td>NaT</td>\n",
       "      <td>2020-03-28</td>\n",
       "      <td>2020-04-30</td>\n",
       "      <td>NaT</td>\n",
       "      <td>NaT</td>\n",
       "      <td>2020-03-19</td>\n",
       "      <td>2020-05-11</td>\n",
       "      <td>NaT</td>\n",
       "      <td>NaT</td>\n",
       "    </tr>\n",
       "    <tr>\n",
       "      <th>2</th>\n",
       "      <td>Alabama</td>\n",
       "      <td>Baldwin County</td>\n",
       "      <td>2020-02-17</td>\n",
       "      <td>7.0</td>\n",
       "      <td>2020-04-04</td>\n",
       "      <td>2020-04-30</td>\n",
       "      <td>NaT</td>\n",
       "      <td>NaT</td>\n",
       "      <td>2020-03-28</td>\n",
       "      <td>2020-04-30</td>\n",
       "      <td>NaT</td>\n",
       "      <td>NaT</td>\n",
       "      <td>2020-03-19</td>\n",
       "      <td>2020-05-11</td>\n",
       "      <td>NaT</td>\n",
       "      <td>NaT</td>\n",
       "    </tr>\n",
       "    <tr>\n",
       "      <th>3</th>\n",
       "      <td>Alabama</td>\n",
       "      <td>Baldwin County</td>\n",
       "      <td>2020-02-18</td>\n",
       "      <td>0.0</td>\n",
       "      <td>2020-04-04</td>\n",
       "      <td>2020-04-30</td>\n",
       "      <td>NaT</td>\n",
       "      <td>NaT</td>\n",
       "      <td>2020-03-28</td>\n",
       "      <td>2020-04-30</td>\n",
       "      <td>NaT</td>\n",
       "      <td>NaT</td>\n",
       "      <td>2020-03-19</td>\n",
       "      <td>2020-05-11</td>\n",
       "      <td>NaT</td>\n",
       "      <td>NaT</td>\n",
       "    </tr>\n",
       "    <tr>\n",
       "      <th>4</th>\n",
       "      <td>Alabama</td>\n",
       "      <td>Baldwin County</td>\n",
       "      <td>2020-02-19</td>\n",
       "      <td>8.0</td>\n",
       "      <td>2020-04-04</td>\n",
       "      <td>2020-04-30</td>\n",
       "      <td>NaT</td>\n",
       "      <td>NaT</td>\n",
       "      <td>2020-03-28</td>\n",
       "      <td>2020-04-30</td>\n",
       "      <td>NaT</td>\n",
       "      <td>NaT</td>\n",
       "      <td>2020-03-19</td>\n",
       "      <td>2020-05-11</td>\n",
       "      <td>NaT</td>\n",
       "      <td>NaT</td>\n",
       "    </tr>\n",
       "    <tr>\n",
       "      <th>...</th>\n",
       "      <td>...</td>\n",
       "      <td>...</td>\n",
       "      <td>...</td>\n",
       "      <td>...</td>\n",
       "      <td>...</td>\n",
       "      <td>...</td>\n",
       "      <td>...</td>\n",
       "      <td>...</td>\n",
       "      <td>...</td>\n",
       "      <td>...</td>\n",
       "      <td>...</td>\n",
       "      <td>...</td>\n",
       "      <td>...</td>\n",
       "      <td>...</td>\n",
       "      <td>...</td>\n",
       "      <td>...</td>\n",
       "    </tr>\n",
       "    <tr>\n",
       "      <th>240875</th>\n",
       "      <td>Wyoming</td>\n",
       "      <td>Uinta County</td>\n",
       "      <td>2020-11-04</td>\n",
       "      <td>18.0</td>\n",
       "      <td>NaT</td>\n",
       "      <td>NaT</td>\n",
       "      <td>NaT</td>\n",
       "      <td>NaT</td>\n",
       "      <td>NaT</td>\n",
       "      <td>NaT</td>\n",
       "      <td>NaT</td>\n",
       "      <td>NaT</td>\n",
       "      <td>2020-03-19</td>\n",
       "      <td>2020-05-15</td>\n",
       "      <td>NaT</td>\n",
       "      <td>2020-05-06</td>\n",
       "    </tr>\n",
       "    <tr>\n",
       "      <th>240876</th>\n",
       "      <td>Wyoming</td>\n",
       "      <td>Uinta County</td>\n",
       "      <td>2020-11-05</td>\n",
       "      <td>23.0</td>\n",
       "      <td>NaT</td>\n",
       "      <td>NaT</td>\n",
       "      <td>NaT</td>\n",
       "      <td>NaT</td>\n",
       "      <td>NaT</td>\n",
       "      <td>NaT</td>\n",
       "      <td>NaT</td>\n",
       "      <td>NaT</td>\n",
       "      <td>2020-03-19</td>\n",
       "      <td>2020-05-15</td>\n",
       "      <td>NaT</td>\n",
       "      <td>2020-05-06</td>\n",
       "    </tr>\n",
       "    <tr>\n",
       "      <th>240877</th>\n",
       "      <td>Wyoming</td>\n",
       "      <td>Uinta County</td>\n",
       "      <td>2020-11-06</td>\n",
       "      <td>24.0</td>\n",
       "      <td>NaT</td>\n",
       "      <td>NaT</td>\n",
       "      <td>NaT</td>\n",
       "      <td>NaT</td>\n",
       "      <td>NaT</td>\n",
       "      <td>NaT</td>\n",
       "      <td>NaT</td>\n",
       "      <td>NaT</td>\n",
       "      <td>2020-03-19</td>\n",
       "      <td>2020-05-15</td>\n",
       "      <td>NaT</td>\n",
       "      <td>2020-05-06</td>\n",
       "    </tr>\n",
       "    <tr>\n",
       "      <th>240878</th>\n",
       "      <td>Wyoming</td>\n",
       "      <td>Uinta County</td>\n",
       "      <td>2020-11-07</td>\n",
       "      <td>11.0</td>\n",
       "      <td>NaT</td>\n",
       "      <td>NaT</td>\n",
       "      <td>NaT</td>\n",
       "      <td>NaT</td>\n",
       "      <td>NaT</td>\n",
       "      <td>NaT</td>\n",
       "      <td>NaT</td>\n",
       "      <td>NaT</td>\n",
       "      <td>2020-03-19</td>\n",
       "      <td>2020-05-15</td>\n",
       "      <td>NaT</td>\n",
       "      <td>2020-05-06</td>\n",
       "    </tr>\n",
       "    <tr>\n",
       "      <th>240879</th>\n",
       "      <td>Wyoming</td>\n",
       "      <td>Uinta County</td>\n",
       "      <td>2020-11-08</td>\n",
       "      <td>9.0</td>\n",
       "      <td>NaT</td>\n",
       "      <td>NaT</td>\n",
       "      <td>NaT</td>\n",
       "      <td>NaT</td>\n",
       "      <td>NaT</td>\n",
       "      <td>NaT</td>\n",
       "      <td>NaT</td>\n",
       "      <td>NaT</td>\n",
       "      <td>2020-03-19</td>\n",
       "      <td>2020-05-15</td>\n",
       "      <td>NaT</td>\n",
       "      <td>2020-05-06</td>\n",
       "    </tr>\n",
       "  </tbody>\n",
       "</table>\n",
       "<p>240880 rows × 16 columns</p>\n",
       "</div>"
      ],
      "text/plain": [
       "       sub_region_1    sub_region_2       date  \\\n",
       "0           Alabama  Baldwin County 2020-02-15   \n",
       "1           Alabama  Baldwin County 2020-02-16   \n",
       "2           Alabama  Baldwin County 2020-02-17   \n",
       "3           Alabama  Baldwin County 2020-02-18   \n",
       "4           Alabama  Baldwin County 2020-02-19   \n",
       "...             ...             ...        ...   \n",
       "240875      Wyoming    Uinta County 2020-11-04   \n",
       "240876      Wyoming    Uinta County 2020-11-05   \n",
       "240877      Wyoming    Uinta County 2020-11-06   \n",
       "240878      Wyoming    Uinta County 2020-11-07   \n",
       "240879      Wyoming    Uinta County 2020-11-08   \n",
       "\n",
       "        transit_stations_percent_change_from_baseline stsipstart   stsipend  \\\n",
       "0                                                 8.0 2020-04-04 2020-04-30   \n",
       "1                                                 7.0 2020-04-04 2020-04-30   \n",
       "2                                                 7.0 2020-04-04 2020-04-30   \n",
       "3                                                 0.0 2020-04-04 2020-04-30   \n",
       "4                                                 8.0 2020-04-04 2020-04-30   \n",
       "...                                               ...        ...        ...   \n",
       "240875                                           18.0        NaT        NaT   \n",
       "240876                                           23.0        NaT        NaT   \n",
       "240877                                           24.0        NaT        NaT   \n",
       "240878                                           11.0        NaT        NaT   \n",
       "240879                                            9.0        NaT        NaT   \n",
       "\n",
       "       localsipstart localsipend stbusclose  stbusopen localbusclose  \\\n",
       "0                NaT         NaT 2020-03-28 2020-04-30           NaT   \n",
       "1                NaT         NaT 2020-03-28 2020-04-30           NaT   \n",
       "2                NaT         NaT 2020-03-28 2020-04-30           NaT   \n",
       "3                NaT         NaT 2020-03-28 2020-04-30           NaT   \n",
       "4                NaT         NaT 2020-03-28 2020-04-30           NaT   \n",
       "...              ...         ...        ...        ...           ...   \n",
       "240875           NaT         NaT        NaT        NaT           NaT   \n",
       "240876           NaT         NaT        NaT        NaT           NaT   \n",
       "240877           NaT         NaT        NaT        NaT           NaT   \n",
       "240878           NaT         NaT        NaT        NaT           NaT   \n",
       "240879           NaT         NaT        NaT        NaT           NaT   \n",
       "\n",
       "       localbusopen stresclose  stresopen localresclose localresopen  \n",
       "0               NaT 2020-03-19 2020-05-11           NaT          NaT  \n",
       "1               NaT 2020-03-19 2020-05-11           NaT          NaT  \n",
       "2               NaT 2020-03-19 2020-05-11           NaT          NaT  \n",
       "3               NaT 2020-03-19 2020-05-11           NaT          NaT  \n",
       "4               NaT 2020-03-19 2020-05-11           NaT          NaT  \n",
       "...             ...        ...        ...           ...          ...  \n",
       "240875          NaT 2020-03-19 2020-05-15           NaT   2020-05-06  \n",
       "240876          NaT 2020-03-19 2020-05-15           NaT   2020-05-06  \n",
       "240877          NaT 2020-03-19 2020-05-15           NaT   2020-05-06  \n",
       "240878          NaT 2020-03-19 2020-05-15           NaT   2020-05-06  \n",
       "240879          NaT 2020-03-19 2020-05-15           NaT   2020-05-06  \n",
       "\n",
       "[240880 rows x 16 columns]"
      ]
     },
     "execution_count": 27,
     "metadata": {},
     "output_type": "execute_result"
    }
   ],
   "source": [
    "county[['sub_region_1',\n",
    "       'sub_region_2','date','transit_stations_percent_change_from_baseline',\n",
    "       'stsipstart', 'stsipend','localsipstart', 'localsipend','stbusclose', 'stbusopen',\n",
    "       'localbusclose','localbusopen','stresclose','stresopen','localresclose','localresopen']]"
   ]
  },
  {
   "cell_type": "code",
   "execution_count": 47,
   "metadata": {},
   "outputs": [],
   "source": [
    "# lm = smf.ols(formula='transit_stations_percent_change_from_baseline~date-1', data = county).fit()\n",
    "# print(lm.summary())"
   ]
  },
  {
   "cell_type": "code",
   "execution_count": 10,
   "metadata": {},
   "outputs": [
    {
     "data": {
      "text/plain": [
       "<matplotlib.axes._subplots.AxesSubplot at 0x7ff46da293a0>"
      ]
     },
     "execution_count": 10,
     "metadata": {},
     "output_type": "execute_result"
    },
    {
     "data": {
      "image/png": "[encoded data removed]",
      "text/plain": [
       "<Figure size 1080x360 with 1 Axes>"
      ]
     },
     "metadata": {
      "needs_background": "light"
     },
     "output_type": "display_data"
    }
   ],
   "source": [
    "lm.params.plot(figsize = (15,5))"
   ]
  },
  {
   "cell_type": "code",
   "execution_count": 28,
   "metadata": {},
   "outputs": [
    {
     "data": {
      "text/plain": [
       "0.70206326801727"
      ]
     },
     "execution_count": 28,
     "metadata": {},
     "output_type": "execute_result"
    }
   ],
   "source": [
    "len(county[county['SE_A00001_001']>= 50000])/len(county)"
   ]
  },
  {
   "cell_type": "code",
   "execution_count": 29,
   "metadata": {},
   "outputs": [],
   "source": [
    "# Population filtering for \"urban\" areas\n",
    "county = county[county['SE_A00001_001']>= 50000]"
   ]
  },
  {
   "cell_type": "code",
   "execution_count": 48,
   "metadata": {},
   "outputs": [],
   "source": [
    "county = county[county['date'] <= dt.datetime(2020,6,15)]"
   ]
  },
  {
   "cell_type": "code",
   "execution_count": 49,
   "metadata": {},
   "outputs": [
    {
     "name": "stderr",
     "output_type": "stream",
     "text": [
      "<ipython-input-49-54deafb20c62>:2: SettingWithCopyWarning: \n",
      "A value is trying to be set on a copy of a slice from a DataFrame.\n",
      "Try using .loc[row_indexer,col_indexer] = value instead\n",
      "\n",
      "See the caveats in the documentation: https://pandas.pydata.org/pandas-docs/stable/user_guide/indexing.html#returning-a-view-versus-a-copy\n",
      "  county['stsip_dummy'] = 'Never'\n",
      "/Users/amc/opt/anaconda3/lib/python3.8/site-packages/pandas/core/indexing.py:966: SettingWithCopyWarning: \n",
      "A value is trying to be set on a copy of a slice from a DataFrame.\n",
      "Try using .loc[row_indexer,col_indexer] = value instead\n",
      "\n",
      "See the caveats in the documentation: https://pandas.pydata.org/pandas-docs/stable/user_guide/indexing.html#returning-a-view-versus-a-copy\n",
      "  self.obj[item] = s\n",
      "<ipython-input-49-54deafb20c62>:7: SettingWithCopyWarning: \n",
      "A value is trying to be set on a copy of a slice from a DataFrame.\n",
      "Try using .loc[row_indexer,col_indexer] = value instead\n",
      "\n",
      "See the caveats in the documentation: https://pandas.pydata.org/pandas-docs/stable/user_guide/indexing.html#returning-a-view-versus-a-copy\n",
      "  county['localsip_dummy'] = 'Never'\n",
      "<ipython-input-49-54deafb20c62>:12: SettingWithCopyWarning: \n",
      "A value is trying to be set on a copy of a slice from a DataFrame.\n",
      "Try using .loc[row_indexer,col_indexer] = value instead\n",
      "\n",
      "See the caveats in the documentation: https://pandas.pydata.org/pandas-docs/stable/user_guide/indexing.html#returning-a-view-versus-a-copy\n",
      "  county['stbus_dummy'] = 'Never'\n",
      "<ipython-input-49-54deafb20c62>:21: SettingWithCopyWarning: \n",
      "A value is trying to be set on a copy of a slice from a DataFrame.\n",
      "Try using .loc[row_indexer,col_indexer] = value instead\n",
      "\n",
      "See the caveats in the documentation: https://pandas.pydata.org/pandas-docs/stable/user_guide/indexing.html#returning-a-view-versus-a-copy\n",
      "  county['stres_dummy'] = 'Never'\n"
     ]
    }
   ],
   "source": [
    "# creating our categorical date/lockdown variables\n",
    "county['stsip_dummy'] = 'Never'\n",
    "county.loc[(county['date'] < county['stsipstart']), 'stsip_dummy'] = 'Before'\n",
    "county.loc[(county['date'] >= county['stsipstart']) & (county['date'] <= county['stsipend']), 'stsip_dummy'] = 'During'\n",
    "county.loc[(county['date'] > county['stsipend']), 'stsip_dummy'] = 'After'\n",
    "\n",
    "county['localsip_dummy'] = 'Never'\n",
    "county.loc[(county['date'] < county['localsipstart']), 'localsip_dummy'] = 'Before'\n",
    "county.loc[(county['date'] >= county['localsipstart']) & (county['date'] <= county['localsipend']), 'localsip_dummy'] = 'During'\n",
    "county.loc[(county['date'] > county['localsipend']), 'localsip_dummy'] = 'After'\n",
    "\n",
    "county['stbus_dummy'] = 'Never'\n",
    "county.loc[(county['date'] < county['stbusclose']), 'stbus_dummy'] = 'Before'\n",
    "county.loc[(county['date'] >= county['stbusclose']) & (county['date'] <= county['stbusopen']), 'stbus_dummy'] = 'During'\n",
    "county.loc[(county['date'] > county['stbusopen']), 'stbus_dummy'] = 'After'\n",
    "\n",
    "# county['localbus_dummy'] = 'Before'\n",
    "# county.loc[(county['date'] >= county['localbusstart']) & (county['date'] <= county['localbusend']), 'localbus_dummy'] = 'During'\n",
    "# county.loc[(county['date'] > county['localbusend']), 'localbus_dummy'] = 'After'\n",
    "\n",
    "county['stres_dummy'] = 'Never'\n",
    "county.loc[(county['date'] < county['stresclose']), 'stres_dummy'] = 'Before'\n",
    "county.loc[(county['date'] >= county['stresclose']) & (county['date'] <= county['stresopen']), 'stres_dummy'] = 'During'\n",
    "county.loc[(county['date'] > county['stresopen']), 'stres_dummy'] = 'After'\n",
    "\n",
    "# county['localres_dummy'] = 'Before'\n",
    "# county.loc[(county['date'] >= county['localresstart']) & (county['date'] <= county['localresend']), 'localres_dummy'] = 'During'\n",
    "# county.loc[(county['date'] > county['localresend']), 'localres_dummy'] = 'After'\n",
    "\n"
   ]
  },
  {
   "cell_type": "code",
   "execution_count": 50,
   "metadata": {},
   "outputs": [
    {
     "name": "stderr",
     "output_type": "stream",
     "text": [
      "<ipython-input-50-9c9eb9f3ddde>:1: SettingWithCopyWarning: \n",
      "A value is trying to be set on a copy of a slice from a DataFrame.\n",
      "Try using .loc[row_indexer,col_indexer] = value instead\n",
      "\n",
      "See the caveats in the documentation: https://pandas.pydata.org/pandas-docs/stable/user_guide/indexing.html#returning-a-view-versus-a-copy\n",
      "  county['stsip_during_vs_before'] = 0\n",
      "<ipython-input-50-9c9eb9f3ddde>:5: SettingWithCopyWarning: \n",
      "A value is trying to be set on a copy of a slice from a DataFrame.\n",
      "Try using .loc[row_indexer,col_indexer] = value instead\n",
      "\n",
      "See the caveats in the documentation: https://pandas.pydata.org/pandas-docs/stable/user_guide/indexing.html#returning-a-view-versus-a-copy\n",
      "  county['stbus_during_vs_before'] = 0\n",
      "<ipython-input-50-9c9eb9f3ddde>:9: SettingWithCopyWarning: \n",
      "A value is trying to be set on a copy of a slice from a DataFrame.\n",
      "Try using .loc[row_indexer,col_indexer] = value instead\n",
      "\n",
      "See the caveats in the documentation: https://pandas.pydata.org/pandas-docs/stable/user_guide/indexing.html#returning-a-view-versus-a-copy\n",
      "  county['stres_during_vs_before'] = 0\n"
     ]
    }
   ],
   "source": [
    "county['stsip_during_vs_before'] = 0\n",
    "county.loc[county['stsip_dummy'] == 'During', 'stsip_during_vs_before'] = 1\n",
    "county.loc[(county['stsip_dummy'] == 'After') | (county['stsip_dummy'] == 'Never'), 'stsip_during_vs_before'] = np.nan\n",
    "\n",
    "county['stbus_during_vs_before'] = 0\n",
    "county.loc[county['stbus_dummy'] == 'During', 'stbus_during_vs_before'] = 1\n",
    "county.loc[(county['stbus_dummy'] == 'After') | (county['stbus_dummy'] == 'Never'), 'stbus_during_vs_before'] = np.nan\n",
    "\n",
    "county['stres_during_vs_before'] = 0\n",
    "county.loc[county['stres_dummy'] == 'During', 'stres_during_vs_before'] = 1\n",
    "county.loc[(county['stres_dummy'] == 'After') | (county['stres_dummy'] == 'Never'), 'stres_during_vs_before'] = np.nan"
   ]
  },
  {
   "cell_type": "code",
   "execution_count": 51,
   "metadata": {},
   "outputs": [
    {
     "data": {
      "text/plain": [
       "1.0    37971\n",
       "0.0    22239\n",
       "Name: stres_during_vs_before, dtype: int64"
      ]
     },
     "execution_count": 51,
     "metadata": {},
     "output_type": "execute_result"
    }
   ],
   "source": [
    "county['stres_during_vs_before'].value_counts()"
   ]
  },
  {
   "cell_type": "code",
   "execution_count": 52,
   "metadata": {},
   "outputs": [
    {
     "name": "stderr",
     "output_type": "stream",
     "text": [
      "/Users/amc/opt/anaconda3/lib/python3.8/site-packages/pandas/core/frame.py:4125: SettingWithCopyWarning: \n",
      "A value is trying to be set on a copy of a slice from a DataFrame\n",
      "\n",
      "See the caveats in the documentation: https://pandas.pydata.org/pandas-docs/stable/user_guide/indexing.html#returning-a-view-versus-a-copy\n",
      "  return super().rename(\n"
     ]
    }
   ],
   "source": [
    "county.rename(columns = {'SE_A00001_001':'Population'}, inplace = True)"
   ]
  },
  {
   "cell_type": "code",
   "execution_count": 53,
   "metadata": {},
   "outputs": [
    {
     "data": {
      "text/plain": [
       "Index(['Unnamed: 0', 'country_region_code', 'country_region', 'sub_region_1',\n",
       "       'sub_region_2', 'metro_area', 'iso_3166_2_code', 'census_fips_code',\n",
       "       'date', 'retail_and_recreation_percent_change_from_baseline',\n",
       "       'grocery_and_pharmacy_percent_change_from_baseline',\n",
       "       'parks_percent_change_from_baseline',\n",
       "       'transit_stations_percent_change_from_baseline',\n",
       "       'workplaces_percent_change_from_baseline',\n",
       "       'residential_percent_change_from_baseline', 'fips', 'stfips', 'stname',\n",
       "       'countyfips', 'countyname', 'cityname', 'stsipstart', 'stsipend',\n",
       "       'stsipnotes', 'localsipstart', 'localsipend', 'localsipnotes',\n",
       "       'stbusclose', 'stbusclosenotes', 'localbusclose', 'localbusclosenotes',\n",
       "       'stbusopen', 'stbusopennotes', 'localbusopen', 'localbusopennotes',\n",
       "       'stresclose', 'stresclosenotes', 'stresopen', 'stresopennotes',\n",
       "       'localresclose', 'localresclosenotes', 'localresopen',\n",
       "       'localresopennotes', 'link', 'countyfips_str', 'statefips_str',\n",
       "       'Geo_FIPS', 'Population', 'SE_A00002_002', 'SE_A00002_003',\n",
       "       'stsip_dummy', 'localsip_dummy', 'stbus_dummy', 'stres_dummy',\n",
       "       'stsip_during_vs_before', 'stbus_during_vs_before',\n",
       "       'stres_during_vs_before', 'stsip_during_vs_after',\n",
       "       'stbus_during_vs_after', 'stres_during_vs_after'],\n",
       "      dtype='object')"
      ]
     },
     "execution_count": 53,
     "metadata": {},
     "output_type": "execute_result"
    }
   ],
   "source": [
    "county.columns"
   ]
  },
  {
   "cell_type": "code",
   "execution_count": 54,
   "metadata": {},
   "outputs": [
    {
     "name": "stdout",
     "output_type": "stream",
     "text": [
      "                                              OLS Regression Results                                              \n",
      "==================================================================================================================\n",
      "Dep. Variable:     transit_stations_percent_change_from_baseline   R-squared (uncentered):                   0.658\n",
      "Model:                                                       OLS   Adj. R-squared (uncentered):              0.658\n",
      "Method:                                            Least Squares   F-statistic:                          2.191e+04\n",
      "Date:                                           Sun, 13 Dec 2020   Prob (F-statistic):                        0.00\n",
      "Time:                                                   19:24:02   Log-Likelihood:                     -1.9473e+05\n",
      "No. Observations:                                          45470   AIC:                                  3.895e+05\n",
      "Df Residuals:                                              45466   BIC:                                  3.895e+05\n",
      "Df Model:                                                      4                                                  \n",
      "Covariance Type:                                       nonrobust                                                  \n",
      "==========================================================================================\n",
      "                             coef    std err          t      P>|t|      [0.025      0.975]\n",
      "------------------------------------------------------------------------------------------\n",
      "stsip_during_vs_before    -1.8072      0.756     -2.391      0.017      -3.288      -0.326\n",
      "stbus_during_vs_before    -7.5618      0.786     -9.615      0.000      -9.103      -6.020\n",
      "stres_during_vs_before   -22.7377      0.267    -85.142      0.000     -23.261     -22.214\n",
      "Population             -5.096e-06   1.29e-07    -39.439      0.000   -5.35e-06   -4.84e-06\n",
      "==============================================================================\n",
      "Omnibus:                     2902.272   Durbin-Watson:                   0.326\n",
      "Prob(Omnibus):                  0.000   Jarque-Bera (JB):            11595.535\n",
      "Skew:                          -0.199   Prob(JB):                         0.00\n",
      "Kurtosis:                       5.442   Cond. No.                     8.95e+06\n",
      "==============================================================================\n",
      "\n",
      "Warnings:\n",
      "[1] Standard Errors assume that the covariance matrix of the errors is correctly specified.\n",
      "[2] The condition number is large, 8.95e+06. This might indicate that there are\n",
      "strong multicollinearity or other numerical problems.\n"
     ]
    }
   ],
   "source": [
    "lm = smf.ols(formula='transit_stations_percent_change_from_baseline~stsip_during_vs_before+stbus_during_vs_before+stres_during_vs_before+Population-1', \n",
    "             data = county).fit()\n",
    "print(lm.summary())"
   ]
  },
  {
   "cell_type": "code",
   "execution_count": 55,
   "metadata": {},
   "outputs": [
    {
     "data": {
      "text/html": [
       "<table class=\"simpletable\">\n",
       "<caption>OLS Regression Results</caption>\n",
       "<tr>\n",
       "  <th>Dep. Variable:</th>    <td>transit_stations_percent_change_from_baseline</td> <th>  R-squared (uncentered):</th>       <td>   0.658</td>  \n",
       "</tr>\n",
       "<tr>\n",
       "  <th>Model:</th>                                 <td>OLS</td>                      <th>  Adj. R-squared (uncentered):</th>  <td>   0.658</td>  \n",
       "</tr>\n",
       "<tr>\n",
       "  <th>Method:</th>                           <td>Least Squares</td>                 <th>  F-statistic:       </th>           <td>2.191e+04</td> \n",
       "</tr>\n",
       "<tr>\n",
       "  <th>Date:</th>                           <td>Sun, 13 Dec 2020</td>                <th>  Prob (F-statistic):</th>            <td>  0.00</td>   \n",
       "</tr>\n",
       "<tr>\n",
       "  <th>Time:</th>                               <td>19:24:02</td>                    <th>  Log-Likelihood:    </th>          <td>-1.9473e+05</td>\n",
       "</tr>\n",
       "<tr>\n",
       "  <th>No. Observations:</th>                    <td> 45470</td>                     <th>  AIC:               </th>           <td>3.895e+05</td> \n",
       "</tr>\n",
       "<tr>\n",
       "  <th>Df Residuals:</th>                        <td> 45466</td>                     <th>  BIC:               </th>           <td>3.895e+05</td> \n",
       "</tr>\n",
       "<tr>\n",
       "  <th>Df Model:</th>                            <td>     4</td>                     <th>                     </th>               <td> </td>     \n",
       "</tr>\n",
       "<tr>\n",
       "  <th>Covariance Type:</th>                    <td>nonrobust</td>                   <th>                     </th>               <td> </td>     \n",
       "</tr>\n",
       "</table>\n",
       "<table class=\"simpletable\">\n",
       "<tr>\n",
       "             <td></td>               <th>coef</th>     <th>std err</th>      <th>t</th>      <th>P>|t|</th>  <th>[0.025</th>    <th>0.975]</th>  \n",
       "</tr>\n",
       "<tr>\n",
       "  <th>stsip_during_vs_before</th> <td>   -1.8072</td> <td>    0.756</td> <td>   -2.391</td> <td> 0.017</td> <td>   -3.288</td> <td>   -0.326</td>\n",
       "</tr>\n",
       "<tr>\n",
       "  <th>stbus_during_vs_before</th> <td>   -7.5618</td> <td>    0.786</td> <td>   -9.615</td> <td> 0.000</td> <td>   -9.103</td> <td>   -6.020</td>\n",
       "</tr>\n",
       "<tr>\n",
       "  <th>stres_during_vs_before</th> <td>  -22.7377</td> <td>    0.267</td> <td>  -85.142</td> <td> 0.000</td> <td>  -23.261</td> <td>  -22.214</td>\n",
       "</tr>\n",
       "<tr>\n",
       "  <th>Population</th>             <td>-5.096e-06</td> <td> 1.29e-07</td> <td>  -39.439</td> <td> 0.000</td> <td>-5.35e-06</td> <td>-4.84e-06</td>\n",
       "</tr>\n",
       "</table>\n",
       "<table class=\"simpletable\">\n",
       "<tr>\n",
       "  <th>Omnibus:</th>       <td>2902.272</td> <th>  Durbin-Watson:     </th> <td>   0.326</td> \n",
       "</tr>\n",
       "<tr>\n",
       "  <th>Prob(Omnibus):</th>  <td> 0.000</td>  <th>  Jarque-Bera (JB):  </th> <td>11595.535</td>\n",
       "</tr>\n",
       "<tr>\n",
       "  <th>Skew:</th>           <td>-0.199</td>  <th>  Prob(JB):          </th> <td>    0.00</td> \n",
       "</tr>\n",
       "<tr>\n",
       "  <th>Kurtosis:</th>       <td> 5.442</td>  <th>  Cond. No.          </th> <td>8.95e+06</td> \n",
       "</tr>\n",
       "</table><br/><br/>Warnings:<br/>[1] Standard Errors assume that the covariance matrix of the errors is correctly specified.<br/>[2] The condition number is large, 8.95e+06. This might indicate that there are<br/>strong multicollinearity or other numerical problems."
      ],
      "text/plain": [
       "<class 'statsmodels.iolib.summary.Summary'>\n",
       "\"\"\"\n",
       "                                              OLS Regression Results                                              \n",
       "==================================================================================================================\n",
       "Dep. Variable:     transit_stations_percent_change_from_baseline   R-squared (uncentered):                   0.658\n",
       "Model:                                                       OLS   Adj. R-squared (uncentered):              0.658\n",
       "Method:                                            Least Squares   F-statistic:                          2.191e+04\n",
       "Date:                                           Sun, 13 Dec 2020   Prob (F-statistic):                        0.00\n",
       "Time:                                                   19:24:02   Log-Likelihood:                     -1.9473e+05\n",
       "No. Observations:                                          45470   AIC:                                  3.895e+05\n",
       "Df Residuals:                                              45466   BIC:                                  3.895e+05\n",
       "Df Model:                                                      4                                                  \n",
       "Covariance Type:                                       nonrobust                                                  \n",
       "==========================================================================================\n",
       "                             coef    std err          t      P>|t|      [0.025      0.975]\n",
       "------------------------------------------------------------------------------------------\n",
       "stsip_during_vs_before    -1.8072      0.756     -2.391      0.017      -3.288      -0.326\n",
       "stbus_during_vs_before    -7.5618      0.786     -9.615      0.000      -9.103      -6.020\n",
       "stres_during_vs_before   -22.7377      0.267    -85.142      0.000     -23.261     -22.214\n",
       "Population             -5.096e-06   1.29e-07    -39.439      0.000   -5.35e-06   -4.84e-06\n",
       "==============================================================================\n",
       "Omnibus:                     2902.272   Durbin-Watson:                   0.326\n",
       "Prob(Omnibus):                  0.000   Jarque-Bera (JB):            11595.535\n",
       "Skew:                          -0.199   Prob(JB):                         0.00\n",
       "Kurtosis:                       5.442   Cond. No.                     8.95e+06\n",
       "==============================================================================\n",
       "\n",
       "Warnings:\n",
       "[1] Standard Errors assume that the covariance matrix of the errors is correctly specified.\n",
       "[2] The condition number is large, 8.95e+06. This might indicate that there are\n",
       "strong multicollinearity or other numerical problems.\n",
       "\"\"\""
      ]
     },
     "execution_count": 55,
     "metadata": {},
     "output_type": "execute_result"
    }
   ],
   "source": [
    "lm.summary()"
   ]
  },
  {
   "cell_type": "code",
   "execution_count": 56,
   "metadata": {},
   "outputs": [
    {
     "data": {
      "text/plain": [
       "'\\\\begin{center}\\n\\\\begin{tabular}{lclc}\\n\\\\toprule\\n\\\\textbf{Dep. Variable:}            & transit\\\\_stations\\\\_percent\\\\_change\\\\_from\\\\_baseline & \\\\textbf{  R-squared (uncentered):}      &      0.658   \\\\\\\\\\n\\\\textbf{Model:}                    &                        OLS                         & \\\\textbf{  Adj. R-squared (uncentered):} &      0.658   \\\\\\\\\\n\\\\textbf{Method:}                   &                   Least Squares                    & \\\\textbf{  F-statistic:       }          &  2.191e+04   \\\\\\\\\\n\\\\textbf{Date:}                     &                  Sun, 13 Dec 2020                  & \\\\textbf{  Prob (F-statistic):}          &      0.00    \\\\\\\\\\n\\\\textbf{Time:}                     &                      19:24:02                      & \\\\textbf{  Log-Likelihood:    }          & -1.9473e+05  \\\\\\\\\\n\\\\textbf{No. Observations:}         &                        45470                       & \\\\textbf{  AIC:               }          &  3.895e+05   \\\\\\\\\\n\\\\textbf{Df Residuals:}             &                        45466                       & \\\\textbf{  BIC:               }          &  3.895e+05   \\\\\\\\\\n\\\\textbf{Df Model:}                 &                            4                       & \\\\textbf{                     }          &              \\\\\\\\\\n\\\\bottomrule\\n\\\\end{tabular}\\n\\\\begin{tabular}{lcccccc}\\n                                   & \\\\textbf{coef} & \\\\textbf{std err} & \\\\textbf{t} & \\\\textbf{P$> |$t$|$} & \\\\textbf{[0.025} & \\\\textbf{0.975]}  \\\\\\\\\\n\\\\midrule\\n\\\\textbf{stsip\\\\_during\\\\_vs\\\\_before} &      -1.8072  &        0.756     &    -2.391  &         0.017        &       -3.288    &       -0.326     \\\\\\\\\\n\\\\textbf{stbus\\\\_during\\\\_vs\\\\_before} &      -7.5618  &        0.786     &    -9.615  &         0.000        &       -9.103    &       -6.020     \\\\\\\\\\n\\\\textbf{stres\\\\_during\\\\_vs\\\\_before} &     -22.7377  &        0.267     &   -85.142  &         0.000        &      -23.261    &      -22.214     \\\\\\\\\\n\\\\textbf{Population}                &   -5.096e-06  &     1.29e-07     &   -39.439  &         0.000        &    -5.35e-06    &    -4.84e-06     \\\\\\\\\\n\\\\bottomrule\\n\\\\end{tabular}\\n\\\\begin{tabular}{lclc}\\n\\\\textbf{Omnibus:}       & 2902.272 & \\\\textbf{  Durbin-Watson:     } &     0.326  \\\\\\\\\\n\\\\textbf{Prob(Omnibus):} &   0.000  & \\\\textbf{  Jarque-Bera (JB):  } & 11595.535  \\\\\\\\\\n\\\\textbf{Skew:}          &  -0.199  & \\\\textbf{  Prob(JB):          } &      0.00  \\\\\\\\\\n\\\\textbf{Kurtosis:}      &   5.442  & \\\\textbf{  Cond. No.          } &  8.95e+06  \\\\\\\\\\n\\\\bottomrule\\n\\\\end{tabular}\\n%\\\\caption{OLS Regression Results}\\n\\\\end{center}\\n\\nWarnings: \\\\newline\\n [1] Standard Errors assume that the covariance matrix of the errors is correctly specified. \\\\newline\\n [2] The condition number is large, 8.95e+06. This might indicate that there are \\\\newline\\n strong multicollinearity or other numerical problems.'"
      ]
     },
     "execution_count": 56,
     "metadata": {},
     "output_type": "execute_result"
    }
   ],
   "source": [
    "lm.summary().as_latex()"
   ]
  },
  {
   "cell_type": "code",
   "execution_count": 57,
   "metadata": {},
   "outputs": [
    {
     "data": {
      "text/html": [
       "<table class=\"simpletable\">\n",
       "<caption>OLS Regression Results</caption>\n",
       "<tr>\n",
       "  <th>Dep. Variable:</th>    <td>transit_stations_percent_change_from_baseline</td> <th>  R-squared (uncentered):</th>       <td>   0.647</td>  \n",
       "</tr>\n",
       "<tr>\n",
       "  <th>Model:</th>                                 <td>OLS</td>                      <th>  Adj. R-squared (uncentered):</th>  <td>   0.647</td>  \n",
       "</tr>\n",
       "<tr>\n",
       "  <th>Method:</th>                           <td>Least Squares</td>                 <th>  F-statistic:       </th>           <td>2.774e+04</td> \n",
       "</tr>\n",
       "<tr>\n",
       "  <th>Date:</th>                           <td>Sun, 13 Dec 2020</td>                <th>  Prob (F-statistic):</th>            <td>  0.00</td>   \n",
       "</tr>\n",
       "<tr>\n",
       "  <th>Time:</th>                               <td>19:24:02</td>                    <th>  Log-Likelihood:    </th>          <td>-1.9550e+05</td>\n",
       "</tr>\n",
       "<tr>\n",
       "  <th>No. Observations:</th>                    <td> 45470</td>                     <th>  AIC:               </th>           <td>3.910e+05</td> \n",
       "</tr>\n",
       "<tr>\n",
       "  <th>Df Residuals:</th>                        <td> 45467</td>                     <th>  BIC:               </th>           <td>3.910e+05</td> \n",
       "</tr>\n",
       "<tr>\n",
       "  <th>Df Model:</th>                            <td>     3</td>                     <th>                     </th>               <td> </td>     \n",
       "</tr>\n",
       "<tr>\n",
       "  <th>Covariance Type:</th>                    <td>nonrobust</td>                   <th>                     </th>               <td> </td>     \n",
       "</tr>\n",
       "</table>\n",
       "<table class=\"simpletable\">\n",
       "<tr>\n",
       "             <td></td>               <th>coef</th>     <th>std err</th>      <th>t</th>      <th>P>|t|</th>  <th>[0.025</th>    <th>0.975]</th>  \n",
       "</tr>\n",
       "<tr>\n",
       "  <th>stsip_during_vs_before</th> <td>   -2.0370</td> <td>    0.769</td> <td>   -2.651</td> <td> 0.008</td> <td>   -3.543</td> <td>   -0.531</td>\n",
       "</tr>\n",
       "<tr>\n",
       "  <th>stbus_during_vs_before</th> <td>   -7.2345</td> <td>    0.800</td> <td>   -9.046</td> <td> 0.000</td> <td>   -8.802</td> <td>   -5.667</td>\n",
       "</tr>\n",
       "<tr>\n",
       "  <th>stres_during_vs_before</th> <td>  -24.5715</td> <td>    0.267</td> <td>  -91.879</td> <td> 0.000</td> <td>  -25.096</td> <td>  -24.047</td>\n",
       "</tr>\n",
       "</table>\n",
       "<table class=\"simpletable\">\n",
       "<tr>\n",
       "  <th>Omnibus:</th>       <td>2540.566</td> <th>  Durbin-Watson:     </th> <td>   0.319</td>\n",
       "</tr>\n",
       "<tr>\n",
       "  <th>Prob(Omnibus):</th>  <td> 0.000</td>  <th>  Jarque-Bera (JB):  </th> <td>9504.908</td>\n",
       "</tr>\n",
       "<tr>\n",
       "  <th>Skew:</th>           <td>-0.157</td>  <th>  Prob(JB):          </th> <td>    0.00</td>\n",
       "</tr>\n",
       "<tr>\n",
       "  <th>Kurtosis:</th>       <td> 5.218</td>  <th>  Cond. No.          </th> <td>    15.4</td>\n",
       "</tr>\n",
       "</table><br/><br/>Warnings:<br/>[1] Standard Errors assume that the covariance matrix of the errors is correctly specified."
      ],
      "text/plain": [
       "<class 'statsmodels.iolib.summary.Summary'>\n",
       "\"\"\"\n",
       "                                              OLS Regression Results                                              \n",
       "==================================================================================================================\n",
       "Dep. Variable:     transit_stations_percent_change_from_baseline   R-squared (uncentered):                   0.647\n",
       "Model:                                                       OLS   Adj. R-squared (uncentered):              0.647\n",
       "Method:                                            Least Squares   F-statistic:                          2.774e+04\n",
       "Date:                                           Sun, 13 Dec 2020   Prob (F-statistic):                        0.00\n",
       "Time:                                                   19:24:02   Log-Likelihood:                     -1.9550e+05\n",
       "No. Observations:                                          45470   AIC:                                  3.910e+05\n",
       "Df Residuals:                                              45467   BIC:                                  3.910e+05\n",
       "Df Model:                                                      3                                                  \n",
       "Covariance Type:                                       nonrobust                                                  \n",
       "==========================================================================================\n",
       "                             coef    std err          t      P>|t|      [0.025      0.975]\n",
       "------------------------------------------------------------------------------------------\n",
       "stsip_during_vs_before    -2.0370      0.769     -2.651      0.008      -3.543      -0.531\n",
       "stbus_during_vs_before    -7.2345      0.800     -9.046      0.000      -8.802      -5.667\n",
       "stres_during_vs_before   -24.5715      0.267    -91.879      0.000     -25.096     -24.047\n",
       "==============================================================================\n",
       "Omnibus:                     2540.566   Durbin-Watson:                   0.319\n",
       "Prob(Omnibus):                  0.000   Jarque-Bera (JB):             9504.908\n",
       "Skew:                          -0.157   Prob(JB):                         0.00\n",
       "Kurtosis:                       5.218   Cond. No.                         15.4\n",
       "==============================================================================\n",
       "\n",
       "Warnings:\n",
       "[1] Standard Errors assume that the covariance matrix of the errors is correctly specified.\n",
       "\"\"\""
      ]
     },
     "execution_count": 57,
     "metadata": {},
     "output_type": "execute_result"
    }
   ],
   "source": [
    "lm = smf.ols(formula='transit_stations_percent_change_from_baseline~stsip_during_vs_before+stbus_during_vs_before+stres_during_vs_before-1', \n",
    "             data = county).fit()\n",
    "lm.summary()"
   ]
  },
  {
   "cell_type": "code",
   "execution_count": 58,
   "metadata": {},
   "outputs": [],
   "source": [
    "county['stsip_during_vs_after'] = 0\n",
    "county.loc[county['stsip_dummy'] == 'During', 'stsip_during_vs_after'] = 1\n",
    "county.loc[(county['stsip_dummy'] == 'Before') | (county['stsip_dummy'] == 'Never'), 'stsip_during_vs_after'] = np.nan\n",
    "\n",
    "county['stbus_during_vs_after'] = 0\n",
    "county.loc[county['stbus_dummy'] == 'During', 'stbus_during_vs_after'] = 1\n",
    "county.loc[(county['stbus_dummy'] == 'Before') | (county['stbus_dummy'] == 'Never'), 'stbus_during_vs_after'] = np.nan\n",
    "\n",
    "county['stres_during_vs_after'] = 0\n",
    "county.loc[county['stres_dummy'] == 'During', 'stres_during_vs_after'] = 1\n",
    "county.loc[(county['stres_dummy'] == 'Before') | (county['stres_dummy'] == 'Never'), 'stres_during_vs_after'] = np.nan"
   ]
  },
  {
   "cell_type": "code",
   "execution_count": null,
   "metadata": {},
   "outputs": [],
   "source": []
  },
  {
   "cell_type": "code",
   "execution_count": 59,
   "metadata": {},
   "outputs": [
    {
     "data": {
      "text/html": [
       "<table class=\"simpletable\">\n",
       "<caption>OLS Regression Results</caption>\n",
       "<tr>\n",
       "  <th>Dep. Variable:</th>    <td>transit_stations_percent_change_from_baseline</td> <th>  R-squared (uncentered):</th>       <td>   0.630</td>  \n",
       "</tr>\n",
       "<tr>\n",
       "  <th>Model:</th>                                 <td>OLS</td>                      <th>  Adj. R-squared (uncentered):</th>  <td>   0.630</td>  \n",
       "</tr>\n",
       "<tr>\n",
       "  <th>Method:</th>                           <td>Least Squares</td>                 <th>  F-statistic:       </th>           <td>1.668e+04</td> \n",
       "</tr>\n",
       "<tr>\n",
       "  <th>Date:</th>                           <td>Sun, 13 Dec 2020</td>                <th>  Prob (F-statistic):</th>            <td>  0.00</td>   \n",
       "</tr>\n",
       "<tr>\n",
       "  <th>Time:</th>                               <td>19:24:11</td>                    <th>  Log-Likelihood:    </th>          <td>-1.7522e+05</td>\n",
       "</tr>\n",
       "<tr>\n",
       "  <th>No. Observations:</th>                    <td> 39197</td>                     <th>  AIC:               </th>           <td>3.504e+05</td> \n",
       "</tr>\n",
       "<tr>\n",
       "  <th>Df Residuals:</th>                        <td> 39193</td>                     <th>  BIC:               </th>           <td>3.505e+05</td> \n",
       "</tr>\n",
       "<tr>\n",
       "  <th>Df Model:</th>                            <td>     4</td>                     <th>                     </th>               <td> </td>     \n",
       "</tr>\n",
       "<tr>\n",
       "  <th>Covariance Type:</th>                    <td>nonrobust</td>                   <th>                     </th>               <td> </td>     \n",
       "</tr>\n",
       "</table>\n",
       "<table class=\"simpletable\">\n",
       "<tr>\n",
       "            <td></td>               <th>coef</th>     <th>std err</th>      <th>t</th>      <th>P>|t|</th>  <th>[0.025</th>    <th>0.975]</th>  \n",
       "</tr>\n",
       "<tr>\n",
       "  <th>stsip_during_vs_after</th> <td>  -10.1419</td> <td>    0.483</td> <td>  -20.996</td> <td> 0.000</td> <td>  -11.089</td> <td>   -9.195</td>\n",
       "</tr>\n",
       "<tr>\n",
       "  <th>stbus_during_vs_after</th> <td>   -2.4095</td> <td>    0.452</td> <td>   -5.337</td> <td> 0.000</td> <td>   -3.294</td> <td>   -1.525</td>\n",
       "</tr>\n",
       "<tr>\n",
       "  <th>stres_during_vs_after</th> <td>  -14.9289</td> <td>    0.427</td> <td>  -34.997</td> <td> 0.000</td> <td>  -15.765</td> <td>  -14.093</td>\n",
       "</tr>\n",
       "<tr>\n",
       "  <th>Population</th>            <td>-1.872e-05</td> <td> 2.01e-07</td> <td>  -93.206</td> <td> 0.000</td> <td>-1.91e-05</td> <td>-1.83e-05</td>\n",
       "</tr>\n",
       "</table>\n",
       "<table class=\"simpletable\">\n",
       "<tr>\n",
       "  <th>Omnibus:</th>       <td>1039.898</td> <th>  Durbin-Watson:     </th> <td>   0.241</td>\n",
       "</tr>\n",
       "<tr>\n",
       "  <th>Prob(Omnibus):</th>  <td> 0.000</td>  <th>  Jarque-Bera (JB):  </th> <td>2505.996</td>\n",
       "</tr>\n",
       "<tr>\n",
       "  <th>Skew:</th>           <td>-0.075</td>  <th>  Prob(JB):          </th> <td>    0.00</td>\n",
       "</tr>\n",
       "<tr>\n",
       "  <th>Kurtosis:</th>       <td> 4.230</td>  <th>  Cond. No.          </th> <td>3.30e+06</td>\n",
       "</tr>\n",
       "</table><br/><br/>Warnings:<br/>[1] Standard Errors assume that the covariance matrix of the errors is correctly specified.<br/>[2] The condition number is large, 3.3e+06. This might indicate that there are<br/>strong multicollinearity or other numerical problems."
      ],
      "text/plain": [
       "<class 'statsmodels.iolib.summary.Summary'>\n",
       "\"\"\"\n",
       "                                              OLS Regression Results                                              \n",
       "==================================================================================================================\n",
       "Dep. Variable:     transit_stations_percent_change_from_baseline   R-squared (uncentered):                   0.630\n",
       "Model:                                                       OLS   Adj. R-squared (uncentered):              0.630\n",
       "Method:                                            Least Squares   F-statistic:                          1.668e+04\n",
       "Date:                                           Sun, 13 Dec 2020   Prob (F-statistic):                        0.00\n",
       "Time:                                                   19:24:11   Log-Likelihood:                     -1.7522e+05\n",
       "No. Observations:                                          39197   AIC:                                  3.504e+05\n",
       "Df Residuals:                                              39193   BIC:                                  3.505e+05\n",
       "Df Model:                                                      4                                                  \n",
       "Covariance Type:                                       nonrobust                                                  \n",
       "=========================================================================================\n",
       "                            coef    std err          t      P>|t|      [0.025      0.975]\n",
       "-----------------------------------------------------------------------------------------\n",
       "stsip_during_vs_after   -10.1419      0.483    -20.996      0.000     -11.089      -9.195\n",
       "stbus_during_vs_after    -2.4095      0.452     -5.337      0.000      -3.294      -1.525\n",
       "stres_during_vs_after   -14.9289      0.427    -34.997      0.000     -15.765     -14.093\n",
       "Population            -1.872e-05   2.01e-07    -93.206      0.000   -1.91e-05   -1.83e-05\n",
       "==============================================================================\n",
       "Omnibus:                     1039.898   Durbin-Watson:                   0.241\n",
       "Prob(Omnibus):                  0.000   Jarque-Bera (JB):             2505.996\n",
       "Skew:                          -0.075   Prob(JB):                         0.00\n",
       "Kurtosis:                       4.230   Cond. No.                     3.30e+06\n",
       "==============================================================================\n",
       "\n",
       "Warnings:\n",
       "[1] Standard Errors assume that the covariance matrix of the errors is correctly specified.\n",
       "[2] The condition number is large, 3.3e+06. This might indicate that there are\n",
       "strong multicollinearity or other numerical problems.\n",
       "\"\"\""
      ]
     },
     "execution_count": 59,
     "metadata": {},
     "output_type": "execute_result"
    }
   ],
   "source": [
    "lm = smf.ols(formula='transit_stations_percent_change_from_baseline~stsip_during_vs_after+stbus_during_vs_after+stres_during_vs_after+Population-1', \n",
    "             data = county).fit()\n",
    "lm.summary()"
   ]
  },
  {
   "cell_type": "code",
   "execution_count": 60,
   "metadata": {},
   "outputs": [
    {
     "data": {
      "text/html": [
       "<table class=\"simpletable\">\n",
       "<caption>OLS Regression Results</caption>\n",
       "<tr>\n",
       "  <th>Dep. Variable:</th>    <td>transit_stations_percent_change_from_baseline</td> <th>  R-squared (uncentered):</th>       <td>   0.630</td>  \n",
       "</tr>\n",
       "<tr>\n",
       "  <th>Model:</th>                                 <td>OLS</td>                      <th>  Adj. R-squared (uncentered):</th>  <td>   0.630</td>  \n",
       "</tr>\n",
       "<tr>\n",
       "  <th>Method:</th>                           <td>Least Squares</td>                 <th>  F-statistic:       </th>           <td>1.668e+04</td> \n",
       "</tr>\n",
       "<tr>\n",
       "  <th>Date:</th>                           <td>Sun, 13 Dec 2020</td>                <th>  Prob (F-statistic):</th>            <td>  0.00</td>   \n",
       "</tr>\n",
       "<tr>\n",
       "  <th>Time:</th>                               <td>19:24:43</td>                    <th>  Log-Likelihood:    </th>          <td>-1.7522e+05</td>\n",
       "</tr>\n",
       "<tr>\n",
       "  <th>No. Observations:</th>                    <td> 39197</td>                     <th>  AIC:               </th>           <td>3.504e+05</td> \n",
       "</tr>\n",
       "<tr>\n",
       "  <th>Df Residuals:</th>                        <td> 39193</td>                     <th>  BIC:               </th>           <td>3.505e+05</td> \n",
       "</tr>\n",
       "<tr>\n",
       "  <th>Df Model:</th>                            <td>     4</td>                     <th>                     </th>               <td> </td>     \n",
       "</tr>\n",
       "<tr>\n",
       "  <th>Covariance Type:</th>                    <td>nonrobust</td>                   <th>                     </th>               <td> </td>     \n",
       "</tr>\n",
       "</table>\n",
       "<table class=\"simpletable\">\n",
       "<tr>\n",
       "            <td></td>               <th>coef</th>     <th>std err</th>      <th>t</th>      <th>P>|t|</th>  <th>[0.025</th>    <th>0.975]</th>  \n",
       "</tr>\n",
       "<tr>\n",
       "  <th>stsip_during_vs_after</th> <td>  -10.1419</td> <td>    0.483</td> <td>  -20.996</td> <td> 0.000</td> <td>  -11.089</td> <td>   -9.195</td>\n",
       "</tr>\n",
       "<tr>\n",
       "  <th>stbus_during_vs_after</th> <td>   -2.4095</td> <td>    0.452</td> <td>   -5.337</td> <td> 0.000</td> <td>   -3.294</td> <td>   -1.525</td>\n",
       "</tr>\n",
       "<tr>\n",
       "  <th>stres_during_vs_after</th> <td>  -14.9289</td> <td>    0.427</td> <td>  -34.997</td> <td> 0.000</td> <td>  -15.765</td> <td>  -14.093</td>\n",
       "</tr>\n",
       "<tr>\n",
       "  <th>Population</th>            <td>-1.872e-05</td> <td> 2.01e-07</td> <td>  -93.206</td> <td> 0.000</td> <td>-1.91e-05</td> <td>-1.83e-05</td>\n",
       "</tr>\n",
       "</table>\n",
       "<table class=\"simpletable\">\n",
       "<tr>\n",
       "  <th>Omnibus:</th>       <td>1039.898</td> <th>  Durbin-Watson:     </th> <td>   0.241</td>\n",
       "</tr>\n",
       "<tr>\n",
       "  <th>Prob(Omnibus):</th>  <td> 0.000</td>  <th>  Jarque-Bera (JB):  </th> <td>2505.996</td>\n",
       "</tr>\n",
       "<tr>\n",
       "  <th>Skew:</th>           <td>-0.075</td>  <th>  Prob(JB):          </th> <td>    0.00</td>\n",
       "</tr>\n",
       "<tr>\n",
       "  <th>Kurtosis:</th>       <td> 4.230</td>  <th>  Cond. No.          </th> <td>3.30e+06</td>\n",
       "</tr>\n",
       "</table><br/><br/>Warnings:<br/>[1] Standard Errors assume that the covariance matrix of the errors is correctly specified.<br/>[2] The condition number is large, 3.3e+06. This might indicate that there are<br/>strong multicollinearity or other numerical problems."
      ],
      "text/plain": [
       "<class 'statsmodels.iolib.summary.Summary'>\n",
       "\"\"\"\n",
       "                                              OLS Regression Results                                              \n",
       "==================================================================================================================\n",
       "Dep. Variable:     transit_stations_percent_change_from_baseline   R-squared (uncentered):                   0.630\n",
       "Model:                                                       OLS   Adj. R-squared (uncentered):              0.630\n",
       "Method:                                            Least Squares   F-statistic:                          1.668e+04\n",
       "Date:                                           Sun, 13 Dec 2020   Prob (F-statistic):                        0.00\n",
       "Time:                                                   19:24:43   Log-Likelihood:                     -1.7522e+05\n",
       "No. Observations:                                          39197   AIC:                                  3.504e+05\n",
       "Df Residuals:                                              39193   BIC:                                  3.505e+05\n",
       "Df Model:                                                      4                                                  \n",
       "Covariance Type:                                       nonrobust                                                  \n",
       "=========================================================================================\n",
       "                            coef    std err          t      P>|t|      [0.025      0.975]\n",
       "-----------------------------------------------------------------------------------------\n",
       "stsip_during_vs_after   -10.1419      0.483    -20.996      0.000     -11.089      -9.195\n",
       "stbus_during_vs_after    -2.4095      0.452     -5.337      0.000      -3.294      -1.525\n",
       "stres_during_vs_after   -14.9289      0.427    -34.997      0.000     -15.765     -14.093\n",
       "Population            -1.872e-05   2.01e-07    -93.206      0.000   -1.91e-05   -1.83e-05\n",
       "==============================================================================\n",
       "Omnibus:                     1039.898   Durbin-Watson:                   0.241\n",
       "Prob(Omnibus):                  0.000   Jarque-Bera (JB):             2505.996\n",
       "Skew:                          -0.075   Prob(JB):                         0.00\n",
       "Kurtosis:                       4.230   Cond. No.                     3.30e+06\n",
       "==============================================================================\n",
       "\n",
       "Warnings:\n",
       "[1] Standard Errors assume that the covariance matrix of the errors is correctly specified.\n",
       "[2] The condition number is large, 3.3e+06. This might indicate that there are\n",
       "strong multicollinearity or other numerical problems.\n",
       "\"\"\""
      ]
     },
     "execution_count": 60,
     "metadata": {},
     "output_type": "execute_result"
    }
   ],
   "source": [
    "lm.summary()"
   ]
  },
  {
   "cell_type": "code",
   "execution_count": 92,
   "metadata": {},
   "outputs": [
    {
     "data": {
      "text/html": [
       "<table class=\"simpletable\">\n",
       "<caption>OLS Regression Results</caption>\n",
       "<tr>\n",
       "  <th>Dep. Variable:</th>    <td>transit_stations_percent_change_from_baseline</td> <th>  R-squared (uncentered):</th>       <td>   0.548</td>  \n",
       "</tr>\n",
       "<tr>\n",
       "  <th>Model:</th>                                 <td>OLS</td>                      <th>  Adj. R-squared (uncentered):</th>  <td>   0.548</td>  \n",
       "</tr>\n",
       "<tr>\n",
       "  <th>Method:</th>                           <td>Least Squares</td>                 <th>  F-statistic:       </th>           <td>1.584e+04</td> \n",
       "</tr>\n",
       "<tr>\n",
       "  <th>Date:</th>                           <td>Sun, 13 Dec 2020</td>                <th>  Prob (F-statistic):</th>            <td>  0.00</td>   \n",
       "</tr>\n",
       "<tr>\n",
       "  <th>Time:</th>                               <td>20:02:32</td>                    <th>  Log-Likelihood:    </th>          <td>-1.7914e+05</td>\n",
       "</tr>\n",
       "<tr>\n",
       "  <th>No. Observations:</th>                    <td> 39197</td>                     <th>  AIC:               </th>           <td>3.583e+05</td> \n",
       "</tr>\n",
       "<tr>\n",
       "  <th>Df Residuals:</th>                        <td> 39194</td>                     <th>  BIC:               </th>           <td>3.583e+05</td> \n",
       "</tr>\n",
       "<tr>\n",
       "  <th>Df Model:</th>                            <td>     3</td>                     <th>                     </th>               <td> </td>     \n",
       "</tr>\n",
       "<tr>\n",
       "  <th>Covariance Type:</th>                    <td>nonrobust</td>                   <th>                     </th>               <td> </td>     \n",
       "</tr>\n",
       "</table>\n",
       "<table class=\"simpletable\">\n",
       "<tr>\n",
       "            <td></td>               <th>coef</th>     <th>std err</th>      <th>t</th>      <th>P>|t|</th>  <th>[0.025</th>    <th>0.975]</th>  \n",
       "</tr>\n",
       "<tr>\n",
       "  <th>stsip_during_vs_after</th> <td>  -11.6857</td> <td>    0.534</td> <td>  -21.900</td> <td> 0.000</td> <td>  -12.732</td> <td>  -10.640</td>\n",
       "</tr>\n",
       "<tr>\n",
       "  <th>stbus_during_vs_after</th> <td>   -2.2014</td> <td>    0.499</td> <td>   -4.411</td> <td> 0.000</td> <td>   -3.180</td> <td>   -1.223</td>\n",
       "</tr>\n",
       "<tr>\n",
       "  <th>stres_during_vs_after</th> <td>  -20.0135</td> <td>    0.468</td> <td>  -42.800</td> <td> 0.000</td> <td>  -20.930</td> <td>  -19.097</td>\n",
       "</tr>\n",
       "</table>\n",
       "<table class=\"simpletable\">\n",
       "<tr>\n",
       "  <th>Omnibus:</th>       <td>508.264</td> <th>  Durbin-Watson:     </th> <td>   0.207</td> \n",
       "</tr>\n",
       "<tr>\n",
       "  <th>Prob(Omnibus):</th> <td> 0.000</td>  <th>  Jarque-Bera (JB):  </th> <td> 631.725</td> \n",
       "</tr>\n",
       "<tr>\n",
       "  <th>Skew:</th>          <td>-0.206</td>  <th>  Prob(JB):          </th> <td>6.65e-138</td>\n",
       "</tr>\n",
       "<tr>\n",
       "  <th>Kurtosis:</th>      <td> 3.466</td>  <th>  Cond. No.          </th> <td>    7.12</td> \n",
       "</tr>\n",
       "</table><br/><br/>Warnings:<br/>[1] Standard Errors assume that the covariance matrix of the errors is correctly specified."
      ],
      "text/plain": [
       "<class 'statsmodels.iolib.summary.Summary'>\n",
       "\"\"\"\n",
       "                                              OLS Regression Results                                              \n",
       "==================================================================================================================\n",
       "Dep. Variable:     transit_stations_percent_change_from_baseline   R-squared (uncentered):                   0.548\n",
       "Model:                                                       OLS   Adj. R-squared (uncentered):              0.548\n",
       "Method:                                            Least Squares   F-statistic:                          1.584e+04\n",
       "Date:                                           Sun, 13 Dec 2020   Prob (F-statistic):                        0.00\n",
       "Time:                                                   20:02:32   Log-Likelihood:                     -1.7914e+05\n",
       "No. Observations:                                          39197   AIC:                                  3.583e+05\n",
       "Df Residuals:                                              39194   BIC:                                  3.583e+05\n",
       "Df Model:                                                      3                                                  \n",
       "Covariance Type:                                       nonrobust                                                  \n",
       "=========================================================================================\n",
       "                            coef    std err          t      P>|t|      [0.025      0.975]\n",
       "-----------------------------------------------------------------------------------------\n",
       "stsip_during_vs_after   -11.6857      0.534    -21.900      0.000     -12.732     -10.640\n",
       "stbus_during_vs_after    -2.2014      0.499     -4.411      0.000      -3.180      -1.223\n",
       "stres_during_vs_after   -20.0135      0.468    -42.800      0.000     -20.930     -19.097\n",
       "==============================================================================\n",
       "Omnibus:                      508.264   Durbin-Watson:                   0.207\n",
       "Prob(Omnibus):                  0.000   Jarque-Bera (JB):              631.725\n",
       "Skew:                          -0.206   Prob(JB):                    6.65e-138\n",
       "Kurtosis:                       3.466   Cond. No.                         7.12\n",
       "==============================================================================\n",
       "\n",
       "Warnings:\n",
       "[1] Standard Errors assume that the covariance matrix of the errors is correctly specified.\n",
       "\"\"\""
      ]
     },
     "execution_count": 92,
     "metadata": {},
     "output_type": "execute_result"
    }
   ],
   "source": [
    "lm = smf.ols(formula='transit_stations_percent_change_from_baseline~stsip_during_vs_after+stbus_during_vs_after+stres_during_vs_after-1', \n",
    "             data = county).fit()\n",
    "lm.summary()"
   ]
  },
  {
   "cell_type": "code",
   "execution_count": null,
   "metadata": {},
   "outputs": [],
   "source": []
  },
  {
   "cell_type": "code",
   "execution_count": 65,
   "metadata": {},
   "outputs": [],
   "source": [
    "beforesip = county[county['stsip_during_vs_before'] == 0][['transit_stations_percent_change_from_baseline']]\n",
    "duringsip = county[county['stsip_during_vs_before'] == 1][['transit_stations_percent_change_from_baseline']]\n",
    "aftersip = county[county['stsip_during_vs_after'] == 0][['transit_stations_percent_change_from_baseline']]"
   ]
  },
  {
   "cell_type": "code",
   "execution_count": 66,
   "metadata": {},
   "outputs": [],
   "source": [
    "beforebus = county[county['stbus_during_vs_before'] == 0][['transit_stations_percent_change_from_baseline']]\n",
    "duringbus = county[county['stbus_during_vs_before'] == 1][['transit_stations_percent_change_from_baseline']]\n",
    "afterbus = county[county['stbus_during_vs_after'] == 0][['transit_stations_percent_change_from_baseline']]"
   ]
  },
  {
   "cell_type": "code",
   "execution_count": 67,
   "metadata": {},
   "outputs": [],
   "source": [
    "beforeres = county[county['stres_during_vs_before'] == 0][['transit_stations_percent_change_from_baseline']]\n",
    "duringres = county[county['stres_during_vs_before'] == 1][['transit_stations_percent_change_from_baseline']]\n",
    "afterres = county[county['stres_during_vs_after'] == 0][['transit_stations_percent_change_from_baseline']]"
   ]
  },
  {
   "cell_type": "code",
   "execution_count": null,
   "metadata": {},
   "outputs": [],
   "source": []
  },
  {
   "cell_type": "code",
   "execution_count": 68,
   "metadata": {},
   "outputs": [
    {
     "data": {
      "image/png": "[encoded data removed]",
      "text/plain": [
       "<Figure size 1440x360 with 3 Axes>"
      ]
     },
     "metadata": {},
     "output_type": "display_data"
    }
   ],
   "source": [
    "sns.set_style(\"whitegrid\")\n",
    "fig, axs = plt.subplots(1, 3, figsize = (20,5))\n",
    "ax = axs.ravel()\n",
    "fig.suptitle('Mobility Changes from Baseline by Lockdown Type', size = 16)\n",
    "\n",
    "ax[0].boxplot([beforesip.values, duringsip.values, aftersip.values], whis=[1, 99],showmeans = True, meanline = True, \n",
    "              flierprops = dict(marker='o',linestyle='none', markeredgecolor = '#b3b3b3'))\n",
    "ax[0].set_title('Shelter-in-Place')\n",
    "ax[0].yaxis.set_major_formatter(mtick.PercentFormatter())\n",
    "\n",
    "ax[1].boxplot([beforebus.values, duringbus.values, afterbus.values], whis=[1, 99],showmeans = True, meanline = True,\n",
    "             flierprops = dict(marker='o',linestyle='none', markeredgecolor = '#b3b3b3'))\n",
    "ax[1].set_title('Business Closure')\n",
    "ax[1].yaxis.set_major_formatter(mtick.PercentFormatter())\n",
    "\n",
    "ax[2].boxplot([beforeres.values, duringres.values, afterres.values], whis=[1, 99],showmeans = True, meanline = True,\n",
    "             flierprops = dict(marker='o',linestyle='none', markeredgecolor = '#b3b3b3'))\n",
    "ax[2].set_title('Restaurant Closure')\n",
    "ax[2].yaxis.set_major_formatter(mtick.PercentFormatter())\n",
    "\n",
    "plt.setp(axs, xticks=[1, 2,3], xticklabels=['Before', 'During', 'After'] )\n",
    "#plt.xticks([1,2],['Before', 'During'])\n",
    "# plt.title('Mobility Change from Baseline Before and During a Shelter-in-place Order')\n",
    "plt.show()\n",
    "fig.savefig('boxplots.png')"
   ]
  },
  {
   "cell_type": "code",
   "execution_count": 69,
   "metadata": {},
   "outputs": [
    {
     "data": {
      "text/plain": [
       "<matplotlib.legend.Legend at 0x7ff46ee152b0>"
      ]
     },
     "execution_count": 69,
     "metadata": {},
     "output_type": "execute_result"
    },
    {
     "data": {
      "image/png": "[encoded data removed]",
      "text/plain": [
       "<Figure size 432x288 with 1 Axes>"
      ]
     },
     "metadata": {},
     "output_type": "display_data"
    }
   ],
   "source": [
    "plt.hist(county.loc[county['stsip_dummy']=='Before']['transit_stations_percent_change_from_baseline'].values,bins=30,label='Before')\n",
    "plt.hist(county.loc[county['stsip_dummy']=='During']['transit_stations_percent_change_from_baseline'].values,bins=30,alpha=0.9,label='During')\n",
    "plt.hist(county.loc[county['stsip_dummy']=='After']['transit_stations_percent_change_from_baseline'].values,bins=30,alpha=0.9,label='After')\n",
    "#plt.hist(dfTaxiDaily.loc[dfTaxiDaily['Year']==2020]['trip_count'].values,bins=30,alpha=0.5,label='2020')\n",
    "plt.legend()"
   ]
  },
  {
   "cell_type": "code",
   "execution_count": 70,
   "metadata": {},
   "outputs": [
    {
     "data": {
      "image/png": "[encoded data removed]",
      "text/plain": [
       "<Figure size 1440x360 with 3 Axes>"
      ]
     },
     "metadata": {},
     "output_type": "display_data"
    }
   ],
   "source": [
    "sns.set_style('whitegrid')\n",
    "fig,axs = plt.subplots(1, 3, figsize = (20,5))\n",
    "ax = axs.ravel()\n",
    "fig.suptitle('Mobility Changes from Baseline by Lockdown Type', size = 16)\n",
    "\n",
    "\n",
    "ax[0].hist(beforesip.values, bins = 40, label = 'Before')\n",
    "ax[0].hist(duringsip.values, bins = 40, label = \"During\", alpha = 0.8)\n",
    "ax[0].hist(aftersip.values, bins = 40, label = \"After\", alpha = 0.8)\n",
    "ax[0].legend()\n",
    "ax[0].set_title('Shelter-in-Place')\n",
    "ax[0].xaxis.set_major_formatter(mtick.PercentFormatter())\n",
    "\n",
    "ax[1].hist(beforebus.values, bins = 40, label = 'Before')\n",
    "ax[1].hist(duringbus.values, bins = 40, label = \"During\", alpha = 0.8)\n",
    "ax[1].hist(afterbus.values, bins = 40, label = \"After\", alpha = 0.8)\n",
    "ax[1].legend()\n",
    "ax[1].set_title('Business Closure')\n",
    "ax[1].xaxis.set_major_formatter(mtick.PercentFormatter())\n",
    "\n",
    "ax[2].hist(beforeres.values, bins = 40, label = 'Before')\n",
    "ax[2].hist(duringres.values, bins = 40, label = \"During\", alpha = 0.8)\n",
    "ax[2].hist(afterres.values, bins = 40, label = \"After\", alpha = 0.8)\n",
    "ax[2].legend()\n",
    "ax[2].set_title('Restaurant Closure')\n",
    "ax[2].xaxis.set_major_formatter(mtick.PercentFormatter())\n",
    "\n",
    "\n",
    "plt.show()\n",
    "fig.savefig('histograms.png')"
   ]
  },
  {
   "cell_type": "code",
   "execution_count": 71,
   "metadata": {},
   "outputs": [],
   "source": [
    "linechartdata = county.groupby('date')['transit_stations_percent_change_from_baseline'].mean()"
   ]
  },
  {
   "cell_type": "code",
   "execution_count": null,
   "metadata": {},
   "outputs": [],
   "source": []
  },
  {
   "cell_type": "code",
   "execution_count": 72,
   "metadata": {},
   "outputs": [
    {
     "data": {
      "image/png": "[encoded data removed]",
      "text/plain": [
       "<Figure size 1080x576 with 1 Axes>"
      ]
     },
     "metadata": {},
     "output_type": "display_data"
    }
   ],
   "source": [
    "sns.set_style('whitegrid')\n",
    "fig, ax = plt.subplots(1,1, figsize = (15,8))\n",
    "ax.plot(linechartdata, color = \"#e25d4e\")\n",
    "ax.yaxis.set_major_formatter(mtick.PercentFormatter())\n",
    "plt.title('Transportation Mobility Change from Baseline', size = 16)\n",
    "plt.show()\n",
    "fig.savefig('linechart.png')"
   ]
  },
  {
   "cell_type": "code",
   "execution_count": 75,
   "metadata": {},
   "outputs": [],
   "source": [
    "before_all = county[(county['stsip_during_vs_before'] == 0) & (county['stbus_during_vs_before'] == 0) & (county['stres_during_vs_before'] == 0)]"
   ]
  },
  {
   "cell_type": "code",
   "execution_count": 76,
   "metadata": {},
   "outputs": [],
   "source": [
    "before_mean = before_all['transit_stations_percent_change_from_baseline'].values.mean()"
   ]
  },
  {
   "cell_type": "code",
   "execution_count": 77,
   "metadata": {},
   "outputs": [],
   "source": [
    "during_all = county[(county['stsip_during_vs_before'] == 1) & (county['stbus_during_vs_before'] == 1) & (county['stres_during_vs_before'] == 1)]"
   ]
  },
  {
   "cell_type": "code",
   "execution_count": 78,
   "metadata": {},
   "outputs": [],
   "source": [
    "during_mean = during_all['transit_stations_percent_change_from_baseline'].values.mean()"
   ]
  },
  {
   "cell_type": "code",
   "execution_count": 79,
   "metadata": {},
   "outputs": [
    {
     "data": {
      "image/png": "[encoded data removed]",
      "text/plain": [
       "<Figure size 1080x576 with 1 Axes>"
      ]
     },
     "metadata": {},
     "output_type": "display_data"
    }
   ],
   "source": [
    "sns.set_style('whitegrid')\n",
    "fig, ax = plt.subplots(1,1, figsize = (15,8))\n",
    "ax.bar(['Before any lockdown', 'During any lockdown'],[before_mean, during_mean], color = ['#67a9cf',\"#ef8a62\"])\n",
    "ax.set_ylim(-50,50)\n",
    "#ax.set_ylabel('% Change')\n",
    "ax.yaxis.set_major_formatter(mtick.PercentFormatter())\n",
    "plt.title('Average Transportation Mobility Change from Baseline', size = 16)\n",
    "plt.show()\n",
    "fig.savefig('barchart.png')"
   ]
  },
  {
   "cell_type": "code",
   "execution_count": 83,
   "metadata": {},
   "outputs": [
    {
     "data": {
      "text/plain": [
       "Ttest_indResult(statistic=array([-173.63375672]), pvalue=array([0.]))"
      ]
     },
     "execution_count": 83,
     "metadata": {},
     "output_type": "execute_result"
    }
   ],
   "source": [
    "stats.ttest_ind(duringsip, beforesip)"
   ]
  },
  {
   "cell_type": "code",
   "execution_count": 84,
   "metadata": {},
   "outputs": [
    {
     "data": {
      "text/plain": [
       "Ttest_indResult(statistic=array([-92.09620937]), pvalue=array([0.]))"
      ]
     },
     "execution_count": 84,
     "metadata": {},
     "output_type": "execute_result"
    }
   ],
   "source": [
    "stats.ttest_ind(duringsip, aftersip)"
   ]
  },
  {
   "cell_type": "code",
   "execution_count": 85,
   "metadata": {},
   "outputs": [
    {
     "data": {
      "text/plain": [
       "Ttest_indResult(statistic=array([-50.26260284]), pvalue=array([0.]))"
      ]
     },
     "execution_count": 85,
     "metadata": {},
     "output_type": "execute_result"
    }
   ],
   "source": [
    "stats.ttest_ind(aftersip, beforesip)"
   ]
  },
  {
   "cell_type": "code",
   "execution_count": 86,
   "metadata": {},
   "outputs": [
    {
     "data": {
      "text/plain": [
       "Ttest_indResult(statistic=array([-173.82785593]), pvalue=array([0.]))"
      ]
     },
     "execution_count": 86,
     "metadata": {},
     "output_type": "execute_result"
    }
   ],
   "source": [
    "stats.ttest_ind(duringbus, beforebus)"
   ]
  },
  {
   "cell_type": "code",
   "execution_count": 87,
   "metadata": {},
   "outputs": [
    {
     "data": {
      "text/plain": [
       "Ttest_indResult(statistic=array([-87.41512711]), pvalue=array([0.]))"
      ]
     },
     "execution_count": 87,
     "metadata": {},
     "output_type": "execute_result"
    }
   ],
   "source": [
    "stats.ttest_ind(duringbus, afterbus)"
   ]
  },
  {
   "cell_type": "code",
   "execution_count": 88,
   "metadata": {},
   "outputs": [
    {
     "data": {
      "text/plain": [
       "Ttest_indResult(statistic=array([-59.66123829]), pvalue=array([0.]))"
      ]
     },
     "execution_count": 88,
     "metadata": {},
     "output_type": "execute_result"
    }
   ],
   "source": [
    "stats.ttest_ind(afterbus, beforebus)"
   ]
  },
  {
   "cell_type": "code",
   "execution_count": 89,
   "metadata": {},
   "outputs": [
    {
     "data": {
      "text/plain": [
       "Ttest_indResult(statistic=array([-212.81241076]), pvalue=array([0.]))"
      ]
     },
     "execution_count": 89,
     "metadata": {},
     "output_type": "execute_result"
    }
   ],
   "source": [
    "stats.ttest_ind(duringres, beforeres)"
   ]
  },
  {
   "cell_type": "code",
   "execution_count": 90,
   "metadata": {},
   "outputs": [
    {
     "data": {
      "text/plain": [
       "Ttest_indResult(statistic=array([-98.34773228]), pvalue=array([0.]))"
      ]
     },
     "execution_count": 90,
     "metadata": {},
     "output_type": "execute_result"
    }
   ],
   "source": [
    "stats.ttest_ind(duringres, afterres)"
   ]
  },
  {
   "cell_type": "code",
   "execution_count": 91,
   "metadata": {},
   "outputs": [
    {
     "data": {
      "text/plain": [
       "Ttest_indResult(statistic=array([-74.52079811]), pvalue=array([0.]))"
      ]
     },
     "execution_count": 91,
     "metadata": {},
     "output_type": "execute_result"
    }
   ],
   "source": [
    "stats.ttest_ind(afterres, beforeres)"
   ]
  },
  {
   "cell_type": "code",
   "execution_count": 104,
   "metadata": {},
   "outputs": [
    {
     "data": {
      "text/html": [
       "<div>\n",
       "<style scoped>\n",
       "    .dataframe tbody tr th:only-of-type {\n",
       "        vertical-align: middle;\n",
       "    }\n",
       "\n",
       "    .dataframe tbody tr th {\n",
       "        vertical-align: top;\n",
       "    }\n",
       "\n",
       "    .dataframe thead th {\n",
       "        text-align: right;\n",
       "    }\n",
       "</style>\n",
       "<table border=\"1\" class=\"dataframe\">\n",
       "  <thead>\n",
       "    <tr style=\"text-align: right;\">\n",
       "      <th></th>\n",
       "      <th>transit_stations_percent_change_from_baseline</th>\n",
       "    </tr>\n",
       "  </thead>\n",
       "  <tbody>\n",
       "    <tr>\n",
       "      <th>count</th>\n",
       "      <td>26416.000000</td>\n",
       "    </tr>\n",
       "    <tr>\n",
       "      <th>mean</th>\n",
       "      <td>-3.429399</td>\n",
       "    </tr>\n",
       "    <tr>\n",
       "      <th>std</th>\n",
       "      <td>19.250918</td>\n",
       "    </tr>\n",
       "    <tr>\n",
       "      <th>min</th>\n",
       "      <td>-84.000000</td>\n",
       "    </tr>\n",
       "    <tr>\n",
       "      <th>25%</th>\n",
       "      <td>-11.000000</td>\n",
       "    </tr>\n",
       "    <tr>\n",
       "      <th>50%</th>\n",
       "      <td>1.000000</td>\n",
       "    </tr>\n",
       "    <tr>\n",
       "      <th>75%</th>\n",
       "      <td>8.000000</td>\n",
       "    </tr>\n",
       "    <tr>\n",
       "      <th>max</th>\n",
       "      <td>222.000000</td>\n",
       "    </tr>\n",
       "  </tbody>\n",
       "</table>\n",
       "</div>"
      ],
      "text/plain": [
       "       transit_stations_percent_change_from_baseline\n",
       "count                                   26416.000000\n",
       "mean                                       -3.429399\n",
       "std                                        19.250918\n",
       "min                                       -84.000000\n",
       "25%                                       -11.000000\n",
       "50%                                         1.000000\n",
       "75%                                         8.000000\n",
       "max                                       222.000000"
      ]
     },
     "execution_count": 104,
     "metadata": {},
     "output_type": "execute_result"
    }
   ],
   "source": [
    "beforesip.describe()"
   ]
  },
  {
   "cell_type": "code",
   "execution_count": 109,
   "metadata": {},
   "outputs": [
    {
     "data": {
      "text/plain": [
       "Timestamp('2020-02-15 00:00:00')"
      ]
     },
     "execution_count": 109,
     "metadata": {},
     "output_type": "execute_result"
    }
   ],
   "source": [
    "county.date.min()"
   ]
  },
  {
   "cell_type": "code",
   "execution_count": 112,
   "metadata": {},
   "outputs": [
    {
     "data": {
      "text/plain": [
       "2.7306437258973597"
      ]
     },
     "execution_count": 112,
     "metadata": {},
     "output_type": "execute_result"
    }
   ],
   "source": [
    "before_mean"
   ]
  },
  {
   "cell_type": "code",
   "execution_count": 117,
   "metadata": {},
   "outputs": [
    {
     "data": {
      "text/plain": [
       "Ttest_indResult(statistic=-209.34788872238218, pvalue=0.0)"
      ]
     },
     "execution_count": 117,
     "metadata": {},
     "output_type": "execute_result"
    }
   ],
   "source": [
    "stats.ttest_ind(during_all['transit_stations_percent_change_from_baseline'], before_all['transit_stations_percent_change_from_baseline'])"
   ]
  },
  {
   "cell_type": "code",
   "execution_count": 118,
   "metadata": {},
   "outputs": [
    {
     "data": {
      "text/plain": [
       "-33.83084356357541"
      ]
     },
     "execution_count": 118,
     "metadata": {},
     "output_type": "execute_result"
    }
   ],
   "source": [
    "during_mean"
   ]
  },
  {
   "cell_type": "code",
   "execution_count": 125,
   "metadata": {},
   "outputs": [
    {
     "data": {
      "text/html": [
       "<div>\n",
       "<style scoped>\n",
       "    .dataframe tbody tr th:only-of-type {\n",
       "        vertical-align: middle;\n",
       "    }\n",
       "\n",
       "    .dataframe tbody tr th {\n",
       "        vertical-align: top;\n",
       "    }\n",
       "\n",
       "    .dataframe thead th {\n",
       "        text-align: right;\n",
       "    }\n",
       "</style>\n",
       "<table border=\"1\" class=\"dataframe\">\n",
       "  <thead>\n",
       "    <tr style=\"text-align: right;\">\n",
       "      <th></th>\n",
       "      <th>transit_stations_percent_change_from_baseline</th>\n",
       "    </tr>\n",
       "  </thead>\n",
       "  <tbody>\n",
       "    <tr>\n",
       "      <th>49</th>\n",
       "      <td>-36.0</td>\n",
       "    </tr>\n",
       "    <tr>\n",
       "      <th>50</th>\n",
       "      <td>-39.0</td>\n",
       "    </tr>\n",
       "    <tr>\n",
       "      <th>51</th>\n",
       "      <td>-34.0</td>\n",
       "    </tr>\n",
       "    <tr>\n",
       "      <th>52</th>\n",
       "      <td>-29.0</td>\n",
       "    </tr>\n",
       "    <tr>\n",
       "      <th>53</th>\n",
       "      <td>-23.0</td>\n",
       "    </tr>\n",
       "  </tbody>\n",
       "</table>\n",
       "</div>"
      ],
      "text/plain": [
       "    transit_stations_percent_change_from_baseline\n",
       "49                                          -36.0\n",
       "50                                          -39.0\n",
       "51                                          -34.0\n",
       "52                                          -29.0\n",
       "53                                          -23.0"
      ]
     },
     "execution_count": 125,
     "metadata": {},
     "output_type": "execute_result"
    }
   ],
   "source": [
    "duringsip.head()"
   ]
  },
  {
   "cell_type": "code",
   "execution_count": 126,
   "metadata": {},
   "outputs": [
    {
     "data": {
      "text/plain": [
       "KstestResult(statistic=0.6112596585734764, pvalue=0.0)"
      ]
     },
     "execution_count": 126,
     "metadata": {},
     "output_type": "execute_result"
    }
   ],
   "source": [
    "stats.ks_2samp(duringsip['transit_stations_percent_change_from_baseline'], beforesip['transit_stations_percent_change_from_baseline'])"
   ]
  },
  {
   "cell_type": "code",
   "execution_count": 127,
   "metadata": {},
   "outputs": [
    {
     "data": {
      "text/plain": [
       "KstestResult(statistic=0.3618449498089946, pvalue=0.0)"
      ]
     },
     "execution_count": 127,
     "metadata": {},
     "output_type": "execute_result"
    }
   ],
   "source": [
    "stats.ks_2samp(duringsip['transit_stations_percent_change_from_baseline'], aftersip['transit_stations_percent_change_from_baseline'])"
   ]
  },
  {
   "cell_type": "code",
   "execution_count": 128,
   "metadata": {},
   "outputs": [
    {
     "data": {
      "text/plain": [
       "KstestResult(statistic=0.2803451484391941, pvalue=0.0)"
      ]
     },
     "execution_count": 128,
     "metadata": {},
     "output_type": "execute_result"
    }
   ],
   "source": [
    "stats.ks_2samp(aftersip['transit_stations_percent_change_from_baseline'], beforesip['transit_stations_percent_change_from_baseline'])"
   ]
  },
  {
   "cell_type": "code",
   "execution_count": 129,
   "metadata": {},
   "outputs": [
    {
     "data": {
      "text/plain": [
       "KstestResult(statistic=0.6459209440860674, pvalue=0.0)"
      ]
     },
     "execution_count": 129,
     "metadata": {},
     "output_type": "execute_result"
    }
   ],
   "source": [
    "stats.ks_2samp(duringbus['transit_stations_percent_change_from_baseline'], beforebus['transit_stations_percent_change_from_baseline'])"
   ]
  },
  {
   "cell_type": "code",
   "execution_count": 130,
   "metadata": {},
   "outputs": [
    {
     "data": {
      "text/plain": [
       "KstestResult(statistic=0.3662066939700946, pvalue=0.0)"
      ]
     },
     "execution_count": 130,
     "metadata": {},
     "output_type": "execute_result"
    }
   ],
   "source": [
    "stats.ks_2samp(duringbus['transit_stations_percent_change_from_baseline'], afterbus['transit_stations_percent_change_from_baseline'])"
   ]
  },
  {
   "cell_type": "code",
   "execution_count": 131,
   "metadata": {},
   "outputs": [
    {
     "data": {
      "text/plain": [
       "KstestResult(statistic=0.30437623090346794, pvalue=0.0)"
      ]
     },
     "execution_count": 131,
     "metadata": {},
     "output_type": "execute_result"
    }
   ],
   "source": [
    "stats.ks_2samp(afterbus['transit_stations_percent_change_from_baseline'], beforebus['transit_stations_percent_change_from_baseline'])"
   ]
  },
  {
   "cell_type": "code",
   "execution_count": 133,
   "metadata": {},
   "outputs": [
    {
     "data": {
      "text/plain": [
       "KstestResult(statistic=0.7286356184346995, pvalue=0.0)"
      ]
     },
     "execution_count": 133,
     "metadata": {},
     "output_type": "execute_result"
    }
   ],
   "source": [
    "stats.ks_2samp(duringres['transit_stations_percent_change_from_baseline'], beforeres['transit_stations_percent_change_from_baseline'])"
   ]
  },
  {
   "cell_type": "code",
   "execution_count": 134,
   "metadata": {},
   "outputs": [
    {
     "data": {
      "text/plain": [
       "KstestResult(statistic=0.3667151353411921, pvalue=0.0)"
      ]
     },
     "execution_count": 134,
     "metadata": {},
     "output_type": "execute_result"
    }
   ],
   "source": [
    "stats.ks_2samp(duringres['transit_stations_percent_change_from_baseline'], afterres['transit_stations_percent_change_from_baseline'])"
   ]
  },
  {
   "cell_type": "code",
   "execution_count": 132,
   "metadata": {},
   "outputs": [
    {
     "data": {
      "text/plain": [
       "KstestResult(statistic=0.3866736295914766, pvalue=0.0)"
      ]
     },
     "execution_count": 132,
     "metadata": {},
     "output_type": "execute_result"
    }
   ],
   "source": [
    "stats.ks_2samp(afterres['transit_stations_percent_change_from_baseline'], beforeres['transit_stations_percent_change_from_baseline'])"
   ]
  },
  {
   "cell_type": "code",
   "execution_count": null,
   "metadata": {},
   "outputs": [],
   "source": []
  },
  {
   "cell_type": "markdown",
   "metadata": {},
   "source": [
    "# Below this is all practice"
   ]
  },
  {
   "cell_type": "code",
   "execution_count": 80,
   "metadata": {},
   "outputs": [],
   "source": [
    "# ax = plt.subplot(1, 1, 1)\n",
    "# ax.boxplot([beforebus.values, duringbus.values], whis=[1, 99])\n",
    "# plt.xticks([1,2],['Before', 'During'])\n",
    "# plt.title('Mobility Change from Baseline Before and During a Business Closure Order')\n",
    "# plt.show()"
   ]
  },
  {
   "cell_type": "code",
   "execution_count": 81,
   "metadata": {},
   "outputs": [],
   "source": [
    "# ax = plt.subplot(1, 1, 1)\n",
    "# ax.boxplot([beforeres.values, duringres.values], whis=[1, 99])\n",
    "# plt.xticks([1,2],['Before', 'During'])\n",
    "# plt.title('Mobility Change from Baseline Before and During a Restaurant Closure Order')\n",
    "# plt.show()"
   ]
  },
  {
   "cell_type": "code",
   "execution_count": null,
   "metadata": {},
   "outputs": [],
   "source": []
  },
  {
   "cell_type": "code",
   "execution_count": null,
   "metadata": {},
   "outputs": [],
   "source": []
  },
  {
   "cell_type": "code",
   "execution_count": 10,
   "metadata": {},
   "outputs": [],
   "source": []
  },
  {
   "cell_type": "code",
   "execution_count": 11,
   "metadata": {},
   "outputs": [
    {
     "data": {
      "text/plain": [
       "During    38750\n",
       "Before    37027\n",
       "After     25728\n",
       "Never     19300\n",
       "Name: stsip_dummy, dtype: int64"
      ]
     },
     "execution_count": 11,
     "metadata": {},
     "output_type": "execute_result"
    }
   ],
   "source": [
    "county['stsip_dummy'].value_counts()"
   ]
  },
  {
   "cell_type": "code",
   "execution_count": 12,
   "metadata": {
    "scrolled": false
   },
   "outputs": [
    {
     "name": "stdout",
     "output_type": "stream",
     "text": [
      "                                          OLS Regression Results                                         \n",
      "=========================================================================================================\n",
      "Dep. Variable:     transit_stations_percent_change_from_baseline   R-squared:                       0.217\n",
      "Model:                                                       OLS   Adj. R-squared:                  0.217\n",
      "Method:                                            Least Squares   F-statistic:                 1.115e+04\n",
      "Date:                                           Wed, 09 Dec 2020   Prob (F-statistic):               0.00\n",
      "Time:                                                   10:33:33   Log-Likelihood:            -5.4376e+05\n",
      "No. Observations:                                         120805   AIC:                         1.088e+06\n",
      "Df Residuals:                                             120801   BIC:                         1.088e+06\n",
      "Df Model:                                                      3                                         \n",
      "Covariance Type:                                       nonrobust                                         \n",
      "=======================================================================================\n",
      "                          coef    std err          t      P>|t|      [0.025      0.975]\n",
      "---------------------------------------------------------------------------------------\n",
      "stsip_dummy[After]    -10.1255      0.136    -74.481      0.000     -10.392      -9.859\n",
      "stsip_dummy[Before]    -1.8826      0.113    -16.613      0.000      -2.105      -1.661\n",
      "stsip_dummy[During]   -30.0804      0.111   -271.547      0.000     -30.297     -29.863\n",
      "stsip_dummy[Never]    -12.0608      0.157    -76.839      0.000     -12.368     -11.753\n",
      "==============================================================================\n",
      "Omnibus:                     3818.523   Durbin-Watson:                   0.234\n",
      "Prob(Omnibus):                  0.000   Jarque-Bera (JB):             7069.905\n",
      "Skew:                          -0.253   Prob(JB):                         0.00\n",
      "Kurtosis:                       4.072   Cond. No.                         1.42\n",
      "==============================================================================\n",
      "\n",
      "Warnings:\n",
      "[1] Standard Errors assume that the covariance matrix of the errors is correctly specified.\n"
     ]
    }
   ],
   "source": [
    "lm = smf.ols(formula='transit_stations_percent_change_from_baseline~stsip_dummy-1', data = county).fit()\n",
    "print(lm.summary())"
   ]
  },
  {
   "cell_type": "code",
   "execution_count": 13,
   "metadata": {},
   "outputs": [],
   "source": [
    "county['stsip_dummy_prediction'] = lm.predict()"
   ]
  },
  {
   "cell_type": "code",
   "execution_count": 14,
   "metadata": {},
   "outputs": [
    {
     "data": {
      "image/png": "[encoded data removed]",
      "text/plain": [
       "<Figure size 432x288 with 1 Axes>"
      ]
     },
     "metadata": {
      "needs_background": "light"
     },
     "output_type": "display_data"
    }
   ],
   "source": [
    "fig, ax = plt.subplots() #get axis to plot on\n",
    "county.plot(ax=ax,kind='scatter',x='stsip_dummy', y='transit_stations_percent_change_from_baseline') #show the data\n",
    "ax.plot(county['stsip_dummy'],county['stsip_dummy_prediction'],'r-'); #show the regression line"
   ]
  },
  {
   "cell_type": "code",
   "execution_count": 15,
   "metadata": {},
   "outputs": [
    {
     "data": {
      "text/plain": [
       "<matplotlib.legend.Legend at 0x7fd98c775610>"
      ]
     },
     "execution_count": 15,
     "metadata": {},
     "output_type": "execute_result"
    },
    {
     "data": {
      "image/png": "[encoded data removed]",
      "text/plain": [
       "<Figure size 432x288 with 1 Axes>"
      ]
     },
     "metadata": {
      "needs_background": "light"
     },
     "output_type": "display_data"
    }
   ],
   "source": [
    "#histograms of daily counts in 2019 and 2018 - distributions look different\n",
    "plt.hist(county.loc[county['stsip_dummy']=='Before']['transit_stations_percent_change_from_baseline'].values,bins=30,label='Before')\n",
    "plt.hist(county.loc[county['stsip_dummy']=='During']['transit_stations_percent_change_from_baseline'].values,bins=30,alpha=0.9,label='During')\n",
    "plt.hist(county.loc[county['stsip_dummy']=='After']['transit_stations_percent_change_from_baseline'].values,bins=30,alpha=0.9,label='After')\n",
    "#plt.hist(dfTaxiDaily.loc[dfTaxiDaily['Year']==2020]['trip_count'].values,bins=30,alpha=0.5,label='2020')\n",
    "plt.legend()"
   ]
  },
  {
   "cell_type": "code",
   "execution_count": 16,
   "metadata": {},
   "outputs": [
    {
     "data": {
      "text/plain": [
       "Ttest_indResult(statistic=191.9060351081645, pvalue=0.0)"
      ]
     },
     "execution_count": 16,
     "metadata": {},
     "output_type": "execute_result"
    }
   ],
   "source": [
    "stats.ttest_ind(county.loc[county['stsip_dummy']=='Before']['transit_stations_percent_change_from_baseline'],\n",
    "                county.loc[county['stsip_dummy']=='During']['transit_stations_percent_change_from_baseline'])\n"
   ]
  },
  {
   "cell_type": "code",
   "execution_count": 17,
   "metadata": {},
   "outputs": [
    {
     "data": {
      "text/plain": [
       "Ttest_indResult(statistic=-110.34914572631634, pvalue=0.0)"
      ]
     },
     "execution_count": 17,
     "metadata": {},
     "output_type": "execute_result"
    }
   ],
   "source": [
    "stats.ttest_ind(county.loc[county['stsip_dummy']=='During']['transit_stations_percent_change_from_baseline'],\n",
    "                county.loc[county['stsip_dummy']=='After']['transit_stations_percent_change_from_baseline'])"
   ]
  },
  {
   "cell_type": "code",
   "execution_count": 18,
   "metadata": {},
   "outputs": [
    {
     "data": {
      "text/plain": [
       "Ttest_indResult(statistic=48.33697790986899, pvalue=0.0)"
      ]
     },
     "execution_count": 18,
     "metadata": {},
     "output_type": "execute_result"
    }
   ],
   "source": [
    "stats.ttest_ind(county.loc[county['stsip_dummy']=='Before']['transit_stations_percent_change_from_baseline'],\n",
    "                county.loc[county['stsip_dummy']=='After']['transit_stations_percent_change_from_baseline'])"
   ]
  },
  {
   "cell_type": "code",
   "execution_count": 19,
   "metadata": {},
   "outputs": [
    {
     "name": "stdout",
     "output_type": "stream",
     "text": [
      "                                          OLS Regression Results                                         \n",
      "=========================================================================================================\n",
      "Dep. Variable:     transit_stations_percent_change_from_baseline   R-squared:                       0.242\n",
      "Model:                                                       OLS   Adj. R-squared:                  0.241\n",
      "Method:                                            Least Squares   F-statistic:                     6411.\n",
      "Date:                                           Wed, 09 Dec 2020   Prob (F-statistic):               0.00\n",
      "Time:                                                   10:33:35   Log-Likelihood:            -5.4182e+05\n",
      "No. Observations:                                         120805   AIC:                         1.084e+06\n",
      "Df Residuals:                                             120798   BIC:                         1.084e+06\n",
      "Df Model:                                                      6                                         \n",
      "Covariance Type:                                       nonrobust                                         \n",
      "=========================================================================================\n",
      "                            coef    std err          t      P>|t|      [0.025      0.975]\n",
      "-----------------------------------------------------------------------------------------\n",
      "stsip_dummy[After]       -9.4314      0.135    -69.997      0.000      -9.696      -9.167\n",
      "stsip_dummy[Before]      -5.1901      0.399    -13.009      0.000      -5.972      -4.408\n",
      "stsip_dummy[During]     -19.9059      0.258    -77.209      0.000     -20.411     -19.401\n",
      "stsip_dummy[Never]       -4.6894      0.254    -18.485      0.000      -5.187      -4.192\n",
      "stbus_dummy[T.Before]     4.4280      0.402     11.020      0.000       3.640       5.216\n",
      "stbus_dummy[T.During]   -11.2870      0.272    -41.529      0.000     -11.820     -10.754\n",
      "stbus_dummy[T.Never]    -10.8098      0.266    -40.635      0.000     -11.331     -10.288\n",
      "==============================================================================\n",
      "Omnibus:                     3937.688   Durbin-Watson:                   0.239\n",
      "Prob(Omnibus):                  0.000   Jarque-Bera (JB):             7860.229\n",
      "Skew:                          -0.236   Prob(JB):                         0.00\n",
      "Kurtosis:                       4.157   Cond. No.                         8.09\n",
      "==============================================================================\n",
      "\n",
      "Warnings:\n",
      "[1] Standard Errors assume that the covariance matrix of the errors is correctly specified.\n"
     ]
    }
   ],
   "source": [
    "lm = smf.ols(formula='transit_stations_percent_change_from_baseline~stsip_dummy+stbus_dummy-1', data = county).fit()\n",
    "print(lm.summary())"
   ]
  },
  {
   "cell_type": "code",
   "execution_count": 20,
   "metadata": {},
   "outputs": [
    {
     "name": "stdout",
     "output_type": "stream",
     "text": [
      "                                          OLS Regression Results                                         \n",
      "=========================================================================================================\n",
      "Dep. Variable:     transit_stations_percent_change_from_baseline   R-squared:                       0.210\n",
      "Model:                                                       OLS   Adj. R-squared:                  0.210\n",
      "Method:                                            Least Squares   F-statistic:                 1.069e+04\n",
      "Date:                                           Wed, 09 Dec 2020   Prob (F-statistic):               0.00\n",
      "Time:                                                   10:33:35   Log-Likelihood:            -5.4430e+05\n",
      "No. Observations:                                         120805   AIC:                         1.089e+06\n",
      "Df Residuals:                                             120801   BIC:                         1.089e+06\n",
      "Df Model:                                                      3                                         \n",
      "Covariance Type:                                       nonrobust                                         \n",
      "=======================================================================================\n",
      "                          coef    std err          t      P>|t|      [0.025      0.975]\n",
      "---------------------------------------------------------------------------------------\n",
      "stbus_dummy[After]     -9.9959      0.124    -80.723      0.000     -10.239      -9.753\n",
      "stbus_dummy[Before]    -0.7743      0.115     -6.725      0.000      -1.000      -0.549\n",
      "stbus_dummy[During]   -29.1814      0.121   -241.571      0.000     -29.418     -28.945\n",
      "stbus_dummy[Never]    -20.9471      0.153   -136.748      0.000     -21.247     -20.647\n",
      "==============================================================================\n",
      "Omnibus:                     3478.607   Durbin-Watson:                   0.231\n",
      "Prob(Omnibus):                  0.000   Jarque-Bera (JB):             6614.417\n",
      "Skew:                          -0.220   Prob(JB):                         0.00\n",
      "Kurtosis:                       4.058   Cond. No.                         1.33\n",
      "==============================================================================\n",
      "\n",
      "Warnings:\n",
      "[1] Standard Errors assume that the covariance matrix of the errors is correctly specified.\n"
     ]
    }
   ],
   "source": [
    "lm = smf.ols(formula='transit_stations_percent_change_from_baseline~stbus_dummy-1', data = county).fit()\n",
    "print(lm.summary())"
   ]
  },
  {
   "cell_type": "code",
   "execution_count": 21,
   "metadata": {},
   "outputs": [
    {
     "data": {
      "text/html": [
       "<div>\n",
       "<style scoped>\n",
       "    .dataframe tbody tr th:only-of-type {\n",
       "        vertical-align: middle;\n",
       "    }\n",
       "\n",
       "    .dataframe tbody tr th {\n",
       "        vertical-align: top;\n",
       "    }\n",
       "\n",
       "    .dataframe thead th {\n",
       "        text-align: right;\n",
       "    }\n",
       "</style>\n",
       "<table border=\"1\" class=\"dataframe\">\n",
       "  <thead>\n",
       "    <tr style=\"text-align: right;\">\n",
       "      <th></th>\n",
       "      <th>Unnamed: 0</th>\n",
       "      <th>country_region_code</th>\n",
       "      <th>country_region</th>\n",
       "      <th>sub_region_1</th>\n",
       "      <th>sub_region_2</th>\n",
       "      <th>metro_area</th>\n",
       "      <th>iso_3166_2_code</th>\n",
       "      <th>census_fips_code</th>\n",
       "      <th>date</th>\n",
       "      <th>retail_and_recreation_percent_change_from_baseline</th>\n",
       "      <th>...</th>\n",
       "      <th>statefips_str</th>\n",
       "      <th>Geo_FIPS</th>\n",
       "      <th>SE_A00001_001</th>\n",
       "      <th>SE_A00002_002</th>\n",
       "      <th>SE_A00002_003</th>\n",
       "      <th>stsip_dummy</th>\n",
       "      <th>localsip_dummy</th>\n",
       "      <th>stbus_dummy</th>\n",
       "      <th>stres_dummy</th>\n",
       "      <th>stsip_dummy_prediction</th>\n",
       "    </tr>\n",
       "  </thead>\n",
       "  <tbody>\n",
       "    <tr>\n",
       "      <th>0</th>\n",
       "      <td>0</td>\n",
       "      <td>US</td>\n",
       "      <td>United States</td>\n",
       "      <td>Alabama</td>\n",
       "      <td>Baldwin County</td>\n",
       "      <td>NaN</td>\n",
       "      <td>NaN</td>\n",
       "      <td>1003.0</td>\n",
       "      <td>2020-02-15</td>\n",
       "      <td>17.0</td>\n",
       "      <td>...</td>\n",
       "      <td>1</td>\n",
       "      <td>1003</td>\n",
       "      <td>208107</td>\n",
       "      <td>130.9019</td>\n",
       "      <td>1589.793757</td>\n",
       "      <td>Before</td>\n",
       "      <td>Never</td>\n",
       "      <td>Before</td>\n",
       "      <td>Before</td>\n",
       "      <td>-1.882626</td>\n",
       "    </tr>\n",
       "    <tr>\n",
       "      <th>1</th>\n",
       "      <td>1</td>\n",
       "      <td>US</td>\n",
       "      <td>United States</td>\n",
       "      <td>Alabama</td>\n",
       "      <td>Baldwin County</td>\n",
       "      <td>NaN</td>\n",
       "      <td>NaN</td>\n",
       "      <td>1003.0</td>\n",
       "      <td>2020-02-16</td>\n",
       "      <td>8.0</td>\n",
       "      <td>...</td>\n",
       "      <td>1</td>\n",
       "      <td>1003</td>\n",
       "      <td>208107</td>\n",
       "      <td>130.9019</td>\n",
       "      <td>1589.793757</td>\n",
       "      <td>Before</td>\n",
       "      <td>Never</td>\n",
       "      <td>Before</td>\n",
       "      <td>Before</td>\n",
       "      <td>-1.882626</td>\n",
       "    </tr>\n",
       "    <tr>\n",
       "      <th>2</th>\n",
       "      <td>2</td>\n",
       "      <td>US</td>\n",
       "      <td>United States</td>\n",
       "      <td>Alabama</td>\n",
       "      <td>Baldwin County</td>\n",
       "      <td>NaN</td>\n",
       "      <td>NaN</td>\n",
       "      <td>1003.0</td>\n",
       "      <td>2020-02-17</td>\n",
       "      <td>9.0</td>\n",
       "      <td>...</td>\n",
       "      <td>1</td>\n",
       "      <td>1003</td>\n",
       "      <td>208107</td>\n",
       "      <td>130.9019</td>\n",
       "      <td>1589.793757</td>\n",
       "      <td>Before</td>\n",
       "      <td>Never</td>\n",
       "      <td>Before</td>\n",
       "      <td>Before</td>\n",
       "      <td>-1.882626</td>\n",
       "    </tr>\n",
       "    <tr>\n",
       "      <th>3</th>\n",
       "      <td>3</td>\n",
       "      <td>US</td>\n",
       "      <td>United States</td>\n",
       "      <td>Alabama</td>\n",
       "      <td>Baldwin County</td>\n",
       "      <td>NaN</td>\n",
       "      <td>NaN</td>\n",
       "      <td>1003.0</td>\n",
       "      <td>2020-02-18</td>\n",
       "      <td>7.0</td>\n",
       "      <td>...</td>\n",
       "      <td>1</td>\n",
       "      <td>1003</td>\n",
       "      <td>208107</td>\n",
       "      <td>130.9019</td>\n",
       "      <td>1589.793757</td>\n",
       "      <td>Before</td>\n",
       "      <td>Never</td>\n",
       "      <td>Before</td>\n",
       "      <td>Before</td>\n",
       "      <td>-1.882626</td>\n",
       "    </tr>\n",
       "    <tr>\n",
       "      <th>4</th>\n",
       "      <td>4</td>\n",
       "      <td>US</td>\n",
       "      <td>United States</td>\n",
       "      <td>Alabama</td>\n",
       "      <td>Baldwin County</td>\n",
       "      <td>NaN</td>\n",
       "      <td>NaN</td>\n",
       "      <td>1003.0</td>\n",
       "      <td>2020-02-19</td>\n",
       "      <td>12.0</td>\n",
       "      <td>...</td>\n",
       "      <td>1</td>\n",
       "      <td>1003</td>\n",
       "      <td>208107</td>\n",
       "      <td>130.9019</td>\n",
       "      <td>1589.793757</td>\n",
       "      <td>Before</td>\n",
       "      <td>Never</td>\n",
       "      <td>Before</td>\n",
       "      <td>Before</td>\n",
       "      <td>-1.882626</td>\n",
       "    </tr>\n",
       "  </tbody>\n",
       "</table>\n",
       "<p>5 rows × 55 columns</p>\n",
       "</div>"
      ],
      "text/plain": [
       "   Unnamed: 0 country_region_code country_region sub_region_1    sub_region_2  \\\n",
       "0           0                  US  United States      Alabama  Baldwin County   \n",
       "1           1                  US  United States      Alabama  Baldwin County   \n",
       "2           2                  US  United States      Alabama  Baldwin County   \n",
       "3           3                  US  United States      Alabama  Baldwin County   \n",
       "4           4                  US  United States      Alabama  Baldwin County   \n",
       "\n",
       "   metro_area  iso_3166_2_code  census_fips_code       date  \\\n",
       "0         NaN              NaN            1003.0 2020-02-15   \n",
       "1         NaN              NaN            1003.0 2020-02-16   \n",
       "2         NaN              NaN            1003.0 2020-02-17   \n",
       "3         NaN              NaN            1003.0 2020-02-18   \n",
       "4         NaN              NaN            1003.0 2020-02-19   \n",
       "\n",
       "   retail_and_recreation_percent_change_from_baseline  ...  statefips_str  \\\n",
       "0                                               17.0   ...              1   \n",
       "1                                                8.0   ...              1   \n",
       "2                                                9.0   ...              1   \n",
       "3                                                7.0   ...              1   \n",
       "4                                               12.0   ...              1   \n",
       "\n",
       "   Geo_FIPS  SE_A00001_001  SE_A00002_002  SE_A00002_003  stsip_dummy  \\\n",
       "0      1003         208107       130.9019    1589.793757       Before   \n",
       "1      1003         208107       130.9019    1589.793757       Before   \n",
       "2      1003         208107       130.9019    1589.793757       Before   \n",
       "3      1003         208107       130.9019    1589.793757       Before   \n",
       "4      1003         208107       130.9019    1589.793757       Before   \n",
       "\n",
       "   localsip_dummy stbus_dummy  stres_dummy stsip_dummy_prediction  \n",
       "0           Never      Before       Before              -1.882626  \n",
       "1           Never      Before       Before              -1.882626  \n",
       "2           Never      Before       Before              -1.882626  \n",
       "3           Never      Before       Before              -1.882626  \n",
       "4           Never      Before       Before              -1.882626  \n",
       "\n",
       "[5 rows x 55 columns]"
      ]
     },
     "execution_count": 21,
     "metadata": {},
     "output_type": "execute_result"
    }
   ],
   "source": [
    "county.head()"
   ]
  },
  {
   "cell_type": "code",
   "execution_count": 22,
   "metadata": {},
   "outputs": [
    {
     "name": "stdout",
     "output_type": "stream",
     "text": [
      "                                          OLS Regression Results                                         \n",
      "=========================================================================================================\n",
      "Dep. Variable:     transit_stations_percent_change_from_baseline   R-squared:                       0.284\n",
      "Model:                                                       OLS   Adj. R-squared:                  0.284\n",
      "Method:                                            Least Squares   F-statistic:                 1.198e+04\n",
      "Date:                                           Wed, 09 Dec 2020   Prob (F-statistic):               0.00\n",
      "Time:                                                   10:33:36   Log-Likelihood:            -5.3834e+05\n",
      "No. Observations:                                         120805   AIC:                         1.077e+06\n",
      "Df Residuals:                                             120800   BIC:                         1.077e+06\n",
      "Df Model:                                                      4                                         \n",
      "Covariance Type:                                       nonrobust                                         \n",
      "=======================================================================================\n",
      "                          coef    std err          t      P>|t|      [0.025      0.975]\n",
      "---------------------------------------------------------------------------------------\n",
      "stsip_dummy[After]     -7.3518      0.133    -55.453      0.000      -7.612      -7.092\n",
      "stsip_dummy[Before]     1.3256      0.112     11.786      0.000       1.105       1.546\n",
      "stsip_dummy[During]   -26.9721      0.110   -245.483      0.000     -27.187     -26.757\n",
      "stsip_dummy[Never]     -8.9172      0.153    -58.296      0.000      -9.217      -8.617\n",
      "SE_A00001_001       -1.159e-05   1.09e-07   -106.421      0.000   -1.18e-05   -1.14e-05\n",
      "==============================================================================\n",
      "Omnibus:                     4676.662   Durbin-Watson:                   0.255\n",
      "Prob(Omnibus):                  0.000   Jarque-Bera (JB):            13402.367\n",
      "Skew:                          -0.130   Prob(JB):                         0.00\n",
      "Kurtosis:                       4.611   Cond. No.                     1.57e+06\n",
      "==============================================================================\n",
      "\n",
      "Warnings:\n",
      "[1] Standard Errors assume that the covariance matrix of the errors is correctly specified.\n",
      "[2] The condition number is large, 1.57e+06. This might indicate that there are\n",
      "strong multicollinearity or other numerical problems.\n"
     ]
    }
   ],
   "source": [
    "lm = smf.ols(formula='transit_stations_percent_change_from_baseline~stsip_dummy+SE_A00001_001-1', data = county).fit()\n",
    "print(lm.summary())"
   ]
  },
  {
   "cell_type": "code",
   "execution_count": 23,
   "metadata": {},
   "outputs": [],
   "source": [
    "county['stsip_dummy_prediction'] = lm.predict()"
   ]
  },
  {
   "cell_type": "code",
   "execution_count": 24,
   "metadata": {},
   "outputs": [
    {
     "data": {
      "text/plain": [
       "<matplotlib.axes._subplots.AxesSubplot at 0x7fd98c45cdf0>"
      ]
     },
     "execution_count": 24,
     "metadata": {},
     "output_type": "execute_result"
    },
    {
     "data": {
      "image/png": "[encoded data removed]",
      "text/plain": [
       "<Figure size 432x288 with 1 Axes>"
      ]
     },
     "metadata": {
      "needs_background": "light"
     },
     "output_type": "display_data"
    }
   ],
   "source": [
    "fig, ax = plt.subplots() #get axis to plot on\n",
    "county.plot(ax=ax,kind='scatter',x='stsip_dummy', y='transit_stations_percent_change_from_baseline') #show the data\n",
    "#ax.plot(county['stsip_dummy'],county['stsip_dummy_prediction'],'r-'); #show the regression line"
   ]
  },
  {
   "cell_type": "code",
   "execution_count": 25,
   "metadata": {},
   "outputs": [
    {
     "data": {
      "image/png": "[encoded data removed]",
      "text/plain": [
       "<Figure size 432x288 with 1 Axes>"
      ]
     },
     "metadata": {
      "needs_background": "light"
     },
     "output_type": "display_data"
    }
   ],
   "source": [
    "county.loc[county['census_fips_code'] == 1003].plot(kind='scatter',x='stsip_dummy', y='transit_stations_percent_change_from_baseline')\n",
    "\n",
    "plt.show()"
   ]
  },
  {
   "cell_type": "code",
   "execution_count": 26,
   "metadata": {},
   "outputs": [],
   "source": [
    "sip_agg = county.groupby(['sub_region_1', 'sub_region_2','census_fips_code', \n",
    "                'SE_A00001_001','stsip_dummy'])['transit_stations_percent_change_from_baseline'].mean().reset_index()"
   ]
  },
  {
   "cell_type": "code",
   "execution_count": 27,
   "metadata": {},
   "outputs": [],
   "source": [
    "res_agg = county.groupby(['sub_region_1', 'sub_region_2','census_fips_code', \n",
    "                'SE_A00001_001','stres_dummy'])['transit_stations_percent_change_from_baseline'].mean().reset_index()"
   ]
  },
  {
   "cell_type": "code",
   "execution_count": 28,
   "metadata": {},
   "outputs": [],
   "source": [
    "bus_agg = county.groupby(['sub_region_1', 'sub_region_2','census_fips_code', \n",
    "                'SE_A00001_001','stbus_dummy'])['transit_stations_percent_change_from_baseline'].mean().reset_index()"
   ]
  },
  {
   "cell_type": "code",
   "execution_count": 29,
   "metadata": {},
   "outputs": [
    {
     "name": "stdout",
     "output_type": "stream",
     "text": [
      "                                          OLS Regression Results                                         \n",
      "=========================================================================================================\n",
      "Dep. Variable:     transit_stations_percent_change_from_baseline   R-squared:                       0.270\n",
      "Model:                                                       OLS   Adj. R-squared:                  0.270\n",
      "Method:                                            Least Squares   F-statistic:                     371.3\n",
      "Date:                                           Wed, 09 Dec 2020   Prob (F-statistic):          4.05e-205\n",
      "Time:                                                   10:33:36   Log-Likelihood:                -12963.\n",
      "No. Observations:                                           3010   AIC:                         2.593e+04\n",
      "Df Residuals:                                               3006   BIC:                         2.596e+04\n",
      "Df Model:                                                      3                                         \n",
      "Covariance Type:                                       nonrobust                                         \n",
      "=======================================================================================\n",
      "                          coef    std err          t      P>|t|      [0.025      0.975]\n",
      "---------------------------------------------------------------------------------------\n",
      "stsip_dummy[After]    -10.7958      0.607    -17.775      0.000     -11.987      -9.605\n",
      "stsip_dummy[Before]    -3.1480      0.573     -5.494      0.000      -4.272      -2.024\n",
      "stsip_dummy[During]   -29.8481      0.587    -50.855      0.000     -30.999     -28.697\n",
      "stsip_dummy[Never]    -15.2930      1.225    -12.481      0.000     -17.695     -12.890\n",
      "==============================================================================\n",
      "Omnibus:                      209.523   Durbin-Watson:                   1.315\n",
      "Prob(Omnibus):                  0.000   Jarque-Bera (JB):              398.606\n",
      "Skew:                          -0.489   Prob(JB):                     2.78e-87\n",
      "Kurtosis:                       4.490   Cond. No.                         2.14\n",
      "==============================================================================\n",
      "\n",
      "Warnings:\n",
      "[1] Standard Errors assume that the covariance matrix of the errors is correctly specified.\n"
     ]
    }
   ],
   "source": [
    "lm = smf.ols(formula='transit_stations_percent_change_from_baseline~stsip_dummy-1', data = sip_agg).fit()\n",
    "print(lm.summary())"
   ]
  },
  {
   "cell_type": "code",
   "execution_count": 30,
   "metadata": {},
   "outputs": [],
   "source": [
    "sip_agg['stsip_dummy_prediction'] = lm.predict()"
   ]
  },
  {
   "cell_type": "code",
   "execution_count": 31,
   "metadata": {},
   "outputs": [],
   "source": [
    "sort_dict = {'Never':0,'Before':1, 'During':2, 'After':3}"
   ]
  },
  {
   "cell_type": "code",
   "execution_count": 32,
   "metadata": {},
   "outputs": [],
   "source": [
    "sip_agg['order'] = sip_agg['stsip_dummy']"
   ]
  },
  {
   "cell_type": "code",
   "execution_count": 33,
   "metadata": {},
   "outputs": [],
   "source": [
    "sip_agg['order'] = sip_agg['order'].map(sort_dict)"
   ]
  },
  {
   "cell_type": "code",
   "execution_count": 34,
   "metadata": {},
   "outputs": [],
   "source": [
    "sip_agg.sort_values(['census_fips_code','order'], inplace = True)"
   ]
  },
  {
   "cell_type": "code",
   "execution_count": 35,
   "metadata": {},
   "outputs": [
    {
     "data": {
      "image/png": "[encoded data removed]",
      "text/plain": [
       "<Figure size 432x288 with 1 Axes>"
      ]
     },
     "metadata": {
      "needs_background": "light"
     },
     "output_type": "display_data"
    }
   ],
   "source": [
    "fig, ax = plt.subplots() #get axis to plot on\n",
    "sip_agg[~(sip_agg['stsip_dummy']== 'Never')].plot(ax=ax,kind='scatter',x='stsip_dummy', y='transit_stations_percent_change_from_baseline') #show the data\n",
    "ax.plot(county['stsip_dummy'],county['stsip_dummy_prediction'],'r-'); #show the regression line"
   ]
  },
  {
   "cell_type": "code",
   "execution_count": 36,
   "metadata": {},
   "outputs": [
    {
     "data": {
      "text/html": [
       "<div>\n",
       "<style scoped>\n",
       "    .dataframe tbody tr th:only-of-type {\n",
       "        vertical-align: middle;\n",
       "    }\n",
       "\n",
       "    .dataframe tbody tr th {\n",
       "        vertical-align: top;\n",
       "    }\n",
       "\n",
       "    .dataframe thead th {\n",
       "        text-align: right;\n",
       "    }\n",
       "</style>\n",
       "<table border=\"1\" class=\"dataframe\">\n",
       "  <thead>\n",
       "    <tr style=\"text-align: right;\">\n",
       "      <th></th>\n",
       "      <th>Unnamed: 0</th>\n",
       "      <th>country_region_code</th>\n",
       "      <th>country_region</th>\n",
       "      <th>sub_region_1</th>\n",
       "      <th>sub_region_2</th>\n",
       "      <th>metro_area</th>\n",
       "      <th>iso_3166_2_code</th>\n",
       "      <th>census_fips_code</th>\n",
       "      <th>date</th>\n",
       "      <th>retail_and_recreation_percent_change_from_baseline</th>\n",
       "      <th>...</th>\n",
       "      <th>statefips_str</th>\n",
       "      <th>Geo_FIPS</th>\n",
       "      <th>SE_A00001_001</th>\n",
       "      <th>SE_A00002_002</th>\n",
       "      <th>SE_A00002_003</th>\n",
       "      <th>stsip_dummy</th>\n",
       "      <th>localsip_dummy</th>\n",
       "      <th>stbus_dummy</th>\n",
       "      <th>stres_dummy</th>\n",
       "      <th>stsip_dummy_prediction</th>\n",
       "    </tr>\n",
       "  </thead>\n",
       "  <tbody>\n",
       "  </tbody>\n",
       "</table>\n",
       "<p>0 rows × 55 columns</p>\n",
       "</div>"
      ],
      "text/plain": [
       "Empty DataFrame\n",
       "Columns: [Unnamed: 0, country_region_code, country_region, sub_region_1, sub_region_2, metro_area, iso_3166_2_code, census_fips_code, date, retail_and_recreation_percent_change_from_baseline, grocery_and_pharmacy_percent_change_from_baseline, parks_percent_change_from_baseline, transit_stations_percent_change_from_baseline, workplaces_percent_change_from_baseline, residential_percent_change_from_baseline, fips, stfips, stname, countyfips, countyname, cityname, stsipstart, stsipend, stsipnotes, localsipstart, localsipend, localsipnotes, stbusclose, stbusclosenotes, localbusclose, localbusclosenotes, stbusopen, stbusopennotes, localbusopen, localbusopennotes, stresclose, stresclosenotes, stresopen, stresopennotes, localresclose, localresclosenotes, localresopen, localresopennotes, link, countyfips_str, statefips_str, Geo_FIPS, SE_A00001_001, SE_A00002_002, SE_A00002_003, stsip_dummy, localsip_dummy, stbus_dummy, stres_dummy, stsip_dummy_prediction]\n",
       "Index: []\n",
       "\n",
       "[0 rows x 55 columns]"
      ]
     },
     "execution_count": 36,
     "metadata": {},
     "output_type": "execute_result"
    }
   ],
   "source": [
    "county.loc[county['stbusclose'] == county['stbusopen']]"
   ]
  },
  {
   "cell_type": "code",
   "execution_count": 37,
   "metadata": {},
   "outputs": [
    {
     "data": {
      "text/plain": [
       "Ttest_indResult(statistic=-5.690333679003745, pvalue=1.2728445082957677e-08)"
      ]
     },
     "execution_count": 37,
     "metadata": {},
     "output_type": "execute_result"
    }
   ],
   "source": [
    "stats.ttest_ind(county.loc[county['stsip_dummy']=='During']['transit_stations_percent_change_from_baseline'],\n",
    "                county.loc[county['stbus_dummy']=='During']['transit_stations_percent_change_from_baseline'])\n"
   ]
  },
  {
   "cell_type": "code",
   "execution_count": 38,
   "metadata": {},
   "outputs": [],
   "source": [
    "import researchpy as rp"
   ]
  },
  {
   "cell_type": "code",
   "execution_count": 39,
   "metadata": {},
   "outputs": [
    {
     "data": {
      "text/plain": [
       "F_onewayResult(statistic=17556.006819154856, pvalue=0.0)"
      ]
     },
     "execution_count": 39,
     "metadata": {},
     "output_type": "execute_result"
    }
   ],
   "source": [
    "stats.f_oneway(county['transit_stations_percent_change_from_baseline'][county['stsip_dummy'] == 'Before'],\n",
    "               county['transit_stations_percent_change_from_baseline'][county['stsip_dummy'] == 'During'],\n",
    "               county['transit_stations_percent_change_from_baseline'][county['stsip_dummy'] == 'After'])"
   ]
  },
  {
   "cell_type": "code",
   "execution_count": 40,
   "metadata": {},
   "outputs": [
    {
     "name": "stdout",
     "output_type": "stream",
     "text": [
      "\n",
      "\n"
     ]
    },
    {
     "data": {
      "text/html": [
       "<div>\n",
       "<style scoped>\n",
       "    .dataframe tbody tr th:only-of-type {\n",
       "        vertical-align: middle;\n",
       "    }\n",
       "\n",
       "    .dataframe tbody tr th {\n",
       "        vertical-align: top;\n",
       "    }\n",
       "\n",
       "    .dataframe thead th {\n",
       "        text-align: right;\n",
       "    }\n",
       "</style>\n",
       "<table border=\"1\" class=\"dataframe\">\n",
       "  <thead>\n",
       "    <tr style=\"text-align: right;\">\n",
       "      <th></th>\n",
       "      <th>N</th>\n",
       "      <th>Mean</th>\n",
       "      <th>SD</th>\n",
       "      <th>SE</th>\n",
       "      <th>95% Conf.</th>\n",
       "      <th>Interval</th>\n",
       "    </tr>\n",
       "    <tr>\n",
       "      <th>stsip_dummy</th>\n",
       "      <th></th>\n",
       "      <th></th>\n",
       "      <th></th>\n",
       "      <th></th>\n",
       "      <th></th>\n",
       "      <th></th>\n",
       "    </tr>\n",
       "  </thead>\n",
       "  <tbody>\n",
       "    <tr>\n",
       "      <th>After</th>\n",
       "      <td>875</td>\n",
       "      <td>-10.7958</td>\n",
       "      <td>22.1719</td>\n",
       "      <td>0.7495</td>\n",
       "      <td>-12.2669</td>\n",
       "      <td>-9.3246</td>\n",
       "    </tr>\n",
       "    <tr>\n",
       "      <th>Before</th>\n",
       "      <td>983</td>\n",
       "      <td>-3.1480</td>\n",
       "      <td>11.8753</td>\n",
       "      <td>0.3788</td>\n",
       "      <td>-3.8913</td>\n",
       "      <td>-2.4047</td>\n",
       "    </tr>\n",
       "    <tr>\n",
       "      <th>During</th>\n",
       "      <td>937</td>\n",
       "      <td>-29.8481</td>\n",
       "      <td>18.1646</td>\n",
       "      <td>0.5934</td>\n",
       "      <td>-31.0126</td>\n",
       "      <td>-28.6835</td>\n",
       "    </tr>\n",
       "    <tr>\n",
       "      <th>Never</th>\n",
       "      <td>215</td>\n",
       "      <td>-15.2930</td>\n",
       "      <td>20.8812</td>\n",
       "      <td>1.4241</td>\n",
       "      <td>-18.1000</td>\n",
       "      <td>-12.4859</td>\n",
       "    </tr>\n",
       "  </tbody>\n",
       "</table>\n",
       "</div>"
      ],
      "text/plain": [
       "               N     Mean       SD      SE  95% Conf.  Interval\n",
       "stsip_dummy                                                    \n",
       "After        875 -10.7958  22.1719  0.7495   -12.2669   -9.3246\n",
       "Before       983  -3.1480  11.8753  0.3788    -3.8913   -2.4047\n",
       "During       937 -29.8481  18.1646  0.5934   -31.0126  -28.6835\n",
       "Never        215 -15.2930  20.8812  1.4241   -18.1000  -12.4859"
      ]
     },
     "execution_count": 40,
     "metadata": {},
     "output_type": "execute_result"
    }
   ],
   "source": [
    "rp.summary_cont(sip_agg['transit_stations_percent_change_from_baseline'].groupby(sip_agg['stsip_dummy']))"
   ]
  },
  {
   "cell_type": "code",
   "execution_count": 41,
   "metadata": {},
   "outputs": [
    {
     "data": {
      "text/plain": [
       "F_onewayResult(statistic=572.1141549309535, pvalue=5.832386131638522e-209)"
      ]
     },
     "execution_count": 41,
     "metadata": {},
     "output_type": "execute_result"
    }
   ],
   "source": [
    "stats.f_oneway(sip_agg['transit_stations_percent_change_from_baseline'][sip_agg['stsip_dummy'] == 'Before'],\n",
    "               sip_agg['transit_stations_percent_change_from_baseline'][sip_agg['stsip_dummy'] == 'During'],\n",
    "               sip_agg['transit_stations_percent_change_from_baseline'][sip_agg['stsip_dummy'] == 'After'])"
   ]
  },
  {
   "cell_type": "code",
   "execution_count": 42,
   "metadata": {},
   "outputs": [
    {
     "ename": "TypeError",
     "evalue": "boxplot() got an unexpected keyword argument 'by'",
     "output_type": "error",
     "traceback": [
      "\u001b[0;31m---------------------------------------------------------------------------\u001b[0m",
      "\u001b[0;31mTypeError\u001b[0m                                 Traceback (most recent call last)",
      "\u001b[0;32m<ipython-input-42-3fa66c195678>\u001b[0m in \u001b[0;36m<module>\u001b[0;34m\u001b[0m\n\u001b[1;32m      1\u001b[0m \u001b[0max\u001b[0m \u001b[0;34m=\u001b[0m \u001b[0mplt\u001b[0m\u001b[0;34m.\u001b[0m\u001b[0msubplot\u001b[0m\u001b[0;34m(\u001b[0m\u001b[0;36m1\u001b[0m\u001b[0;34m,\u001b[0m \u001b[0;36m1\u001b[0m\u001b[0;34m,\u001b[0m \u001b[0;36m1\u001b[0m\u001b[0;34m)\u001b[0m\u001b[0;34m\u001b[0m\u001b[0;34m\u001b[0m\u001b[0m\n\u001b[0;32m----> 2\u001b[0;31m \u001b[0max\u001b[0m\u001b[0;34m.\u001b[0m\u001b[0mboxplot\u001b[0m\u001b[0;34m(\u001b[0m\u001b[0msip_agg\u001b[0m\u001b[0;34m.\u001b[0m\u001b[0mtransit_stations_percent_change_from_baseline\u001b[0m\u001b[0;34m,\u001b[0m \u001b[0mby\u001b[0m \u001b[0;34m=\u001b[0m \u001b[0msip_agg\u001b[0m\u001b[0;34m[\u001b[0m\u001b[0;34m'stsip_dummy'\u001b[0m\u001b[0;34m]\u001b[0m\u001b[0;34m,\u001b[0m \u001b[0mwhis\u001b[0m\u001b[0;34m=\u001b[0m\u001b[0;34m[\u001b[0m\u001b[0;36m1\u001b[0m\u001b[0;34m,\u001b[0m \u001b[0;36m99\u001b[0m\u001b[0;34m]\u001b[0m\u001b[0;34m)\u001b[0m\u001b[0;34m\u001b[0m\u001b[0;34m\u001b[0m\u001b[0m\n\u001b[0m\u001b[1;32m      3\u001b[0m \u001b[0;31m#ax.set_yticklabels(10.0**np.arange(-1, 3, 1))\u001b[0m\u001b[0;34m\u001b[0m\u001b[0;34m\u001b[0m\u001b[0;34m\u001b[0m\u001b[0m\n\u001b[1;32m      4\u001b[0m \u001b[0;31m#ax.set_title('Taxi trip distance distribution, miles')\u001b[0m\u001b[0;34m\u001b[0m\u001b[0;34m\u001b[0m\u001b[0;34m\u001b[0m\u001b[0m\n\u001b[1;32m      5\u001b[0m \u001b[0mplt\u001b[0m\u001b[0;34m.\u001b[0m\u001b[0mshow\u001b[0m\u001b[0;34m(\u001b[0m\u001b[0;34m)\u001b[0m\u001b[0;34m\u001b[0m\u001b[0;34m\u001b[0m\u001b[0m\n",
      "\u001b[0;32m~/opt/anaconda3/lib/python3.8/site-packages/matplotlib/cbook/deprecation.py\u001b[0m in \u001b[0;36mwrapper\u001b[0;34m(*args, **kwargs)\u001b[0m\n\u001b[1;32m    294\u001b[0m                 f\"for the old name will be dropped %(removal)s.\")\n\u001b[1;32m    295\u001b[0m             \u001b[0mkwargs\u001b[0m\u001b[0;34m[\u001b[0m\u001b[0mnew\u001b[0m\u001b[0;34m]\u001b[0m \u001b[0;34m=\u001b[0m \u001b[0mkwargs\u001b[0m\u001b[0;34m.\u001b[0m\u001b[0mpop\u001b[0m\u001b[0;34m(\u001b[0m\u001b[0mold\u001b[0m\u001b[0;34m)\u001b[0m\u001b[0;34m\u001b[0m\u001b[0;34m\u001b[0m\u001b[0m\n\u001b[0;32m--> 296\u001b[0;31m         \u001b[0;32mreturn\u001b[0m \u001b[0mfunc\u001b[0m\u001b[0;34m(\u001b[0m\u001b[0;34m*\u001b[0m\u001b[0margs\u001b[0m\u001b[0;34m,\u001b[0m \u001b[0;34m**\u001b[0m\u001b[0mkwargs\u001b[0m\u001b[0;34m)\u001b[0m\u001b[0;34m\u001b[0m\u001b[0;34m\u001b[0m\u001b[0m\n\u001b[0m\u001b[1;32m    297\u001b[0m \u001b[0;34m\u001b[0m\u001b[0m\n\u001b[1;32m    298\u001b[0m     \u001b[0;31m# wrapper() must keep the same documented signature as func(): if we\u001b[0m\u001b[0;34m\u001b[0m\u001b[0;34m\u001b[0m\u001b[0;34m\u001b[0m\u001b[0m\n",
      "\u001b[0;32m~/opt/anaconda3/lib/python3.8/site-packages/matplotlib/__init__.py\u001b[0m in \u001b[0;36minner\u001b[0;34m(ax, data, *args, **kwargs)\u001b[0m\n\u001b[1;32m   1563\u001b[0m     \u001b[0;32mdef\u001b[0m \u001b[0minner\u001b[0m\u001b[0;34m(\u001b[0m\u001b[0max\u001b[0m\u001b[0;34m,\u001b[0m \u001b[0;34m*\u001b[0m\u001b[0margs\u001b[0m\u001b[0;34m,\u001b[0m \u001b[0mdata\u001b[0m\u001b[0;34m=\u001b[0m\u001b[0;32mNone\u001b[0m\u001b[0;34m,\u001b[0m \u001b[0;34m**\u001b[0m\u001b[0mkwargs\u001b[0m\u001b[0;34m)\u001b[0m\u001b[0;34m:\u001b[0m\u001b[0;34m\u001b[0m\u001b[0;34m\u001b[0m\u001b[0m\n\u001b[1;32m   1564\u001b[0m         \u001b[0;32mif\u001b[0m \u001b[0mdata\u001b[0m \u001b[0;32mis\u001b[0m \u001b[0;32mNone\u001b[0m\u001b[0;34m:\u001b[0m\u001b[0;34m\u001b[0m\u001b[0;34m\u001b[0m\u001b[0m\n\u001b[0;32m-> 1565\u001b[0;31m             \u001b[0;32mreturn\u001b[0m \u001b[0mfunc\u001b[0m\u001b[0;34m(\u001b[0m\u001b[0max\u001b[0m\u001b[0;34m,\u001b[0m \u001b[0;34m*\u001b[0m\u001b[0mmap\u001b[0m\u001b[0;34m(\u001b[0m\u001b[0msanitize_sequence\u001b[0m\u001b[0;34m,\u001b[0m \u001b[0margs\u001b[0m\u001b[0;34m)\u001b[0m\u001b[0;34m,\u001b[0m \u001b[0;34m**\u001b[0m\u001b[0mkwargs\u001b[0m\u001b[0;34m)\u001b[0m\u001b[0;34m\u001b[0m\u001b[0;34m\u001b[0m\u001b[0m\n\u001b[0m\u001b[1;32m   1566\u001b[0m \u001b[0;34m\u001b[0m\u001b[0m\n\u001b[1;32m   1567\u001b[0m         \u001b[0mbound\u001b[0m \u001b[0;34m=\u001b[0m \u001b[0mnew_sig\u001b[0m\u001b[0;34m.\u001b[0m\u001b[0mbind\u001b[0m\u001b[0;34m(\u001b[0m\u001b[0max\u001b[0m\u001b[0;34m,\u001b[0m \u001b[0;34m*\u001b[0m\u001b[0margs\u001b[0m\u001b[0;34m,\u001b[0m \u001b[0;34m**\u001b[0m\u001b[0mkwargs\u001b[0m\u001b[0;34m)\u001b[0m\u001b[0;34m\u001b[0m\u001b[0;34m\u001b[0m\u001b[0m\n",
      "\u001b[0;31mTypeError\u001b[0m: boxplot() got an unexpected keyword argument 'by'"
     ]
    },
    {
     "data": {
      "image/png": "[encoded data removed]",
      "text/plain": [
       "<Figure size 432x288 with 1 Axes>"
      ]
     },
     "metadata": {
      "needs_background": "light"
     },
     "output_type": "display_data"
    }
   ],
   "source": [
    "ax = plt.subplot(1, 1, 1)\n",
    "ax.boxplot(sip_agg.transit_stations_percent_change_from_baseline, by = sip_agg['stsip_dummy'], whis=[1, 99])\n",
    "#ax.set_yticklabels(10.0**np.arange(-1, 3, 1))\n",
    "#ax.set_title('Taxi trip distance distribution, miles')\n",
    "plt.show()"
   ]
  },
  {
   "cell_type": "code",
   "execution_count": null,
   "metadata": {},
   "outputs": [],
   "source": [
    "bus_agg.boxplot('transit_stations_percent_change_from_baseline', by = 'stbus_dummy', whis = [1,99])"
   ]
  },
  {
   "cell_type": "code",
   "execution_count": null,
   "metadata": {},
   "outputs": [],
   "source": [
    "# visualization ideas\n",
    "# box plots for distribution\n",
    "# distribution chart with semi-transparency\n",
    "# maps"
   ]
  },
  {
   "cell_type": "code",
   "execution_count": null,
   "metadata": {},
   "outputs": [],
   "source": []
  },
  {
   "cell_type": "code",
   "execution_count": null,
   "metadata": {},
   "outputs": [],
   "source": []
  }
 ],
 "metadata": {
  "kernelspec": {
   "display_name": "Python 3",
   "language": "python",
   "name": "python3"
  },
  "language_info": {
   "codemirror_mode": {
    "name": "ipython",
    "version": 3
   },
   "file_extension": ".py",
   "mimetype": "text/x-python",
   "name": "python",
   "nbconvert_exporter": "python",
   "pygments_lexer": "ipython3",
   "version": "3.8.3"
  }
 },
 "nbformat": 4,
 "nbformat_minor": 4
}
